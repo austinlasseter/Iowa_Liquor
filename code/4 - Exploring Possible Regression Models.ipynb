{
 "cells": [
  {
   "cell_type": "code",
   "execution_count": 1,
   "metadata": {},
   "outputs": [
    {
     "name": "stderr",
     "output_type": "stream",
     "text": [
      "/Users/austinlasseter/anaconda3/lib/python3.6/site-packages/statsmodels/compat/pandas.py:56: FutureWarning: The pandas.core.datetools module is deprecated and will be removed in a future version. Please use the pandas.tseries module instead.\n",
      "  from pandas.core import datetools\n"
     ]
    }
   ],
   "source": [
    "import sklearn.metrics as metrics\n",
    "import sklearn.linear_model as linear_model\n",
    "import statsmodels.api as sm\n",
    "import pandas as pd\n",
    "import seaborn as sns\n",
    "import matplotlib.pyplot as plt\n",
    "%matplotlib inline"
   ]
  },
  {
   "cell_type": "code",
   "execution_count": 2,
   "metadata": {},
   "outputs": [
    {
     "data": {
      "text/html": [
       "<div>\n",
       "<style>\n",
       "    .dataframe thead tr:only-child th {\n",
       "        text-align: right;\n",
       "    }\n",
       "\n",
       "    .dataframe thead th {\n",
       "        text-align: left;\n",
       "    }\n",
       "\n",
       "    .dataframe tbody tr th {\n",
       "        vertical-align: top;\n",
       "    }\n",
       "</style>\n",
       "<table border=\"1\" class=\"dataframe\">\n",
       "  <thead>\n",
       "    <tr style=\"text-align: right;\">\n",
       "      <th></th>\n",
       "      <th>store_id</th>\n",
       "      <th>fips</th>\n",
       "      <th>metro</th>\n",
       "      <th>unemployment</th>\n",
       "      <th>income</th>\n",
       "      <th>population</th>\n",
       "      <th>ave_bottle_price</th>\n",
       "      <th>ave_number_bottles</th>\n",
       "      <th>annual_profit_per_store</th>\n",
       "      <th>unemp_bins</th>\n",
       "      <th>income_bins</th>\n",
       "      <th>pop_bins</th>\n",
       "    </tr>\n",
       "  </thead>\n",
       "  <tbody>\n",
       "    <tr>\n",
       "      <th>0</th>\n",
       "      <td>2113</td>\n",
       "      <td>19187</td>\n",
       "      <td>5.0</td>\n",
       "      <td>4.0</td>\n",
       "      <td>48013.0</td>\n",
       "      <td>38013.0</td>\n",
       "      <td>15.963071</td>\n",
       "      <td>4.763409</td>\n",
       "      <td>33857.9524</td>\n",
       "      <td>(3, 4]</td>\n",
       "      <td>(47000, 50000]</td>\n",
       "      <td>(30000, 50000]</td>\n",
       "    </tr>\n",
       "    <tr>\n",
       "      <th>1</th>\n",
       "      <td>2152</td>\n",
       "      <td>19033</td>\n",
       "      <td>5.0</td>\n",
       "      <td>3.7</td>\n",
       "      <td>53109.0</td>\n",
       "      <td>44151.0</td>\n",
       "      <td>12.897199</td>\n",
       "      <td>4.131010</td>\n",
       "      <td>28489.2710</td>\n",
       "      <td>(3, 4]</td>\n",
       "      <td>(50000, 70000]</td>\n",
       "      <td>(30000, 50000]</td>\n",
       "    </tr>\n",
       "    <tr>\n",
       "      <th>2</th>\n",
       "      <td>2178</td>\n",
       "      <td>19005</td>\n",
       "      <td>6.0</td>\n",
       "      <td>5.0</td>\n",
       "      <td>49439.0</td>\n",
       "      <td>14330.0</td>\n",
       "      <td>15.046966</td>\n",
       "      <td>7.699587</td>\n",
       "      <td>110017.9018</td>\n",
       "      <td>(4, 5]</td>\n",
       "      <td>(47000, 50000]</td>\n",
       "      <td>(0, 30000]</td>\n",
       "    </tr>\n",
       "    <tr>\n",
       "      <th>3</th>\n",
       "      <td>2200</td>\n",
       "      <td>19161</td>\n",
       "      <td>9.0</td>\n",
       "      <td>3.1</td>\n",
       "      <td>54660.0</td>\n",
       "      <td>10350.0</td>\n",
       "      <td>17.455233</td>\n",
       "      <td>3.970626</td>\n",
       "      <td>88540.2970</td>\n",
       "      <td>(3, 4]</td>\n",
       "      <td>(50000, 70000]</td>\n",
       "      <td>(0, 30000]</td>\n",
       "    </tr>\n",
       "    <tr>\n",
       "      <th>4</th>\n",
       "      <td>2205</td>\n",
       "      <td>19145</td>\n",
       "      <td>6.0</td>\n",
       "      <td>5.1</td>\n",
       "      <td>49507.0</td>\n",
       "      <td>15932.0</td>\n",
       "      <td>15.036204</td>\n",
       "      <td>6.048682</td>\n",
       "      <td>91329.2742</td>\n",
       "      <td>(5, 6]</td>\n",
       "      <td>(47000, 50000]</td>\n",
       "      <td>(0, 30000]</td>\n",
       "    </tr>\n",
       "  </tbody>\n",
       "</table>\n",
       "</div>"
      ],
      "text/plain": [
       "   store_id   fips  metro  unemployment   income  population  \\\n",
       "0      2113  19187    5.0           4.0  48013.0     38013.0   \n",
       "1      2152  19033    5.0           3.7  53109.0     44151.0   \n",
       "2      2178  19005    6.0           5.0  49439.0     14330.0   \n",
       "3      2200  19161    9.0           3.1  54660.0     10350.0   \n",
       "4      2205  19145    6.0           5.1  49507.0     15932.0   \n",
       "\n",
       "   ave_bottle_price  ave_number_bottles  annual_profit_per_store unemp_bins  \\\n",
       "0         15.963071            4.763409               33857.9524     (3, 4]   \n",
       "1         12.897199            4.131010               28489.2710     (3, 4]   \n",
       "2         15.046966            7.699587              110017.9018     (4, 5]   \n",
       "3         17.455233            3.970626               88540.2970     (3, 4]   \n",
       "4         15.036204            6.048682               91329.2742     (5, 6]   \n",
       "\n",
       "      income_bins        pop_bins  \n",
       "0  (47000, 50000]  (30000, 50000]  \n",
       "1  (50000, 70000]  (30000, 50000]  \n",
       "2  (47000, 50000]      (0, 30000]  \n",
       "3  (50000, 70000]      (0, 30000]  \n",
       "4  (47000, 50000]      (0, 30000]  "
      ]
     },
     "execution_count": 2,
     "metadata": {},
     "output_type": "execute_result"
    }
   ],
   "source": [
    "## Load the data into a DataFrame\n",
    "stores=pd.read_csv('/Users/austinlasseter/DSI-EC-2/projects/datasets/stores_postEDA.csv')\n",
    "stores=stores.drop(['Unnamed: 0'], axis=1)\n",
    "stores.head()"
   ]
  },
  {
   "cell_type": "code",
   "execution_count": 3,
   "metadata": {},
   "outputs": [
    {
     "data": {
      "text/plain": [
       "Index(['store_id', 'fips', 'metro', 'unemployment', 'income', 'population',\n",
       "       'ave_bottle_price', 'ave_number_bottles', 'annual_profit_per_store',\n",
       "       'unemp_bins', 'income_bins', 'pop_bins'],\n",
       "      dtype='object')"
      ]
     },
     "execution_count": 3,
     "metadata": {},
     "output_type": "execute_result"
    }
   ],
   "source": [
    "# List out all my variables\n",
    "stores.columns"
   ]
  },
  {
   "cell_type": "markdown",
   "metadata": {},
   "source": [
    "## Model 1"
   ]
  },
  {
   "cell_type": "code",
   "execution_count": 5,
   "metadata": {},
   "outputs": [
    {
     "data": {
      "text/html": [
       "<table class=\"simpletable\">\n",
       "<caption>OLS Regression Results</caption>\n",
       "<tr>\n",
       "  <th>Dep. Variable:</th>    <td>annual_profit_per_store</td> <th>  R-squared:         </th> <td>   0.131</td> \n",
       "</tr>\n",
       "<tr>\n",
       "  <th>Model:</th>                      <td>OLS</td>           <th>  Adj. R-squared:    </th> <td>   0.127</td> \n",
       "</tr>\n",
       "<tr>\n",
       "  <th>Method:</th>                <td>Least Squares</td>      <th>  F-statistic:       </th> <td>   32.20</td> \n",
       "</tr>\n",
       "<tr>\n",
       "  <th>Date:</th>                <td>Wed, 07 Feb 2018</td>     <th>  Prob (F-statistic):</th> <td>2.96e-36</td> \n",
       "</tr>\n",
       "<tr>\n",
       "  <th>Time:</th>                    <td>16:56:01</td>         <th>  Log-Likelihood:    </th> <td> -15865.</td> \n",
       "</tr>\n",
       "<tr>\n",
       "  <th>No. Observations:</th>         <td>  1291</td>          <th>  AIC:               </th> <td>3.174e+04</td>\n",
       "</tr>\n",
       "<tr>\n",
       "  <th>Df Residuals:</th>             <td>  1284</td>          <th>  BIC:               </th> <td>3.178e+04</td>\n",
       "</tr>\n",
       "<tr>\n",
       "  <th>Df Model:</th>                 <td>     6</td>          <th>                     </th>     <td> </td>    \n",
       "</tr>\n",
       "<tr>\n",
       "  <th>Covariance Type:</th>         <td>nonrobust</td>        <th>                     </th>     <td> </td>    \n",
       "</tr>\n",
       "</table>\n",
       "<table class=\"simpletable\">\n",
       "<tr>\n",
       "           <td></td>             <th>coef</th>     <th>std err</th>      <th>t</th>      <th>P>|t|</th>  <th>[0.025</th>    <th>0.975]</th>  \n",
       "</tr>\n",
       "<tr>\n",
       "  <th>const</th>              <td>-3.624e+04</td> <td> 2.67e+04</td> <td>   -1.359</td> <td> 0.174</td> <td>-8.85e+04</td> <td> 1.61e+04</td>\n",
       "</tr>\n",
       "<tr>\n",
       "  <th>metro</th>              <td>-2868.8224</td> <td>  991.464</td> <td>   -2.894</td> <td> 0.004</td> <td>-4813.889</td> <td> -923.755</td>\n",
       "</tr>\n",
       "<tr>\n",
       "  <th>unemployment</th>       <td> 2330.8888</td> <td> 2287.192</td> <td>    1.019</td> <td> 0.308</td> <td>-2156.155</td> <td> 6817.933</td>\n",
       "</tr>\n",
       "<tr>\n",
       "  <th>income</th>             <td>   -0.4603</td> <td>    0.303</td> <td>   -1.520</td> <td> 0.129</td> <td>   -1.055</td> <td>    0.134</td>\n",
       "</tr>\n",
       "<tr>\n",
       "  <th>population</th>         <td>   -0.0036</td> <td>    0.014</td> <td>   -0.256</td> <td> 0.798</td> <td>   -0.032</td> <td>    0.024</td>\n",
       "</tr>\n",
       "<tr>\n",
       "  <th>ave_bottle_price</th>   <td> 7941.7891</td> <td>  583.090</td> <td>   13.620</td> <td> 0.000</td> <td> 6797.876</td> <td> 9085.702</td>\n",
       "</tr>\n",
       "<tr>\n",
       "  <th>ave_number_bottles</th> <td>  780.4217</td> <td>  319.458</td> <td>    2.443</td> <td> 0.015</td> <td>  153.705</td> <td> 1407.139</td>\n",
       "</tr>\n",
       "</table>\n",
       "<table class=\"simpletable\">\n",
       "<tr>\n",
       "  <th>Omnibus:</th>       <td>462.171</td> <th>  Durbin-Watson:     </th> <td>   1.099</td>\n",
       "</tr>\n",
       "<tr>\n",
       "  <th>Prob(Omnibus):</th> <td> 0.000</td>  <th>  Jarque-Bera (JB):  </th> <td>1561.691</td>\n",
       "</tr>\n",
       "<tr>\n",
       "  <th>Skew:</th>          <td> 1.770</td>  <th>  Prob(JB):          </th> <td>    0.00</td>\n",
       "</tr>\n",
       "<tr>\n",
       "  <th>Kurtosis:</th>      <td> 7.061</td>  <th>  Cond. No.          </th> <td>3.46e+06</td>\n",
       "</tr>\n",
       "</table>"
      ],
      "text/plain": [
       "<class 'statsmodels.iolib.summary.Summary'>\n",
       "\"\"\"\n",
       "                               OLS Regression Results                              \n",
       "===================================================================================\n",
       "Dep. Variable:     annual_profit_per_store   R-squared:                       0.131\n",
       "Model:                                 OLS   Adj. R-squared:                  0.127\n",
       "Method:                      Least Squares   F-statistic:                     32.20\n",
       "Date:                     Wed, 07 Feb 2018   Prob (F-statistic):           2.96e-36\n",
       "Time:                             16:56:01   Log-Likelihood:                -15865.\n",
       "No. Observations:                     1291   AIC:                         3.174e+04\n",
       "Df Residuals:                         1284   BIC:                         3.178e+04\n",
       "Df Model:                                6                                         \n",
       "Covariance Type:                 nonrobust                                         \n",
       "======================================================================================\n",
       "                         coef    std err          t      P>|t|      [0.025      0.975]\n",
       "--------------------------------------------------------------------------------------\n",
       "const              -3.624e+04   2.67e+04     -1.359      0.174   -8.85e+04    1.61e+04\n",
       "metro              -2868.8224    991.464     -2.894      0.004   -4813.889    -923.755\n",
       "unemployment        2330.8888   2287.192      1.019      0.308   -2156.155    6817.933\n",
       "income                -0.4603      0.303     -1.520      0.129      -1.055       0.134\n",
       "population            -0.0036      0.014     -0.256      0.798      -0.032       0.024\n",
       "ave_bottle_price    7941.7891    583.090     13.620      0.000    6797.876    9085.702\n",
       "ave_number_bottles   780.4217    319.458      2.443      0.015     153.705    1407.139\n",
       "==============================================================================\n",
       "Omnibus:                      462.171   Durbin-Watson:                   1.099\n",
       "Prob(Omnibus):                  0.000   Jarque-Bera (JB):             1561.691\n",
       "Skew:                           1.770   Prob(JB):                         0.00\n",
       "Kurtosis:                       7.061   Cond. No.                     3.46e+06\n",
       "==============================================================================\n",
       "\n",
       "Warnings:\n",
       "[1] Standard Errors assume that the covariance matrix of the errors is correctly specified.\n",
       "[2] The condition number is large, 3.46e+06. This might indicate that there are\n",
       "strong multicollinearity or other numerical problems.\n",
       "\"\"\""
      ]
     },
     "execution_count": 5,
     "metadata": {},
     "output_type": "execute_result"
    }
   ],
   "source": [
    "# regression model #1\n",
    "dep = stores['annual_profit_per_store'] # This is the outcome I want to predict\n",
    "indep = stores.drop(['store_id', 'fips','unemp_bins', 'income_bins', 'pop_bins', 'annual_profit_per_store'], axis = 'columns') # These are the features that predict it\n",
    "indep = sm.add_constant(indep) # Add the intercept\n",
    "model = sm.OLS(dep,indep) # Instantiate the model\n",
    "results = model.fit() # Fit the model\n",
    "results.summary() # Summarize the results"
   ]
  },
  {
   "cell_type": "code",
   "execution_count": null,
   "metadata": {
    "collapsed": true
   },
   "outputs": [],
   "source": [
    "# Hmm. That model only has an r2 of 13%, and only 3 significant predictors. Let's try it differently"
   ]
  },
  {
   "cell_type": "markdown",
   "metadata": {},
   "source": [
    "## Model 2 - Population"
   ]
  },
  {
   "cell_type": "code",
   "execution_count": null,
   "metadata": {
    "collapsed": true
   },
   "outputs": [],
   "source": [
    "# Let's use some dummies for our binned variables"
   ]
  },
  {
   "cell_type": "code",
   "execution_count": 8,
   "metadata": {},
   "outputs": [
    {
     "data": {
      "text/plain": [
       "(0, 30000]          487\n",
       "(100000, 200000]    204\n",
       "(300000, 500000]    189\n",
       "(30000, 50000]      188\n",
       "(70000, 100000]     117\n",
       "(200000, 300000]     91\n",
       "(50000, 70000]       15\n",
       "Name: pop_bins, dtype: int64"
      ]
     },
     "execution_count": 8,
     "metadata": {},
     "output_type": "execute_result"
    }
   ],
   "source": [
    "# Distribution of pop:\n",
    "stores.pop_bins.value_counts()"
   ]
  },
  {
   "cell_type": "code",
   "execution_count": 25,
   "metadata": {},
   "outputs": [],
   "source": [
    "# Let's convert population to dummy variables\n",
    "model2 = pd.concat([stores, pd.get_dummies(stores['pop_bins'])], axis = 1);"
   ]
  },
  {
   "cell_type": "code",
   "execution_count": 17,
   "metadata": {},
   "outputs": [
    {
     "data": {
      "text/plain": [
       "Index(['store_id', 'fips', 'metro', 'unemployment', 'income', 'population',\n",
       "       'ave_bottle_price', 'ave_number_bottles', 'annual_profit_per_store',\n",
       "       'unemp_bins', 'income_bins', 'pop_bins', '(0, 30000]',\n",
       "       '(100000, 200000]', '(200000, 300000]', '(30000, 50000]',\n",
       "       '(300000, 500000]', '(50000, 70000]', '(70000, 100000]'],\n",
       "      dtype='object')"
      ]
     },
     "execution_count": 17,
     "metadata": {},
     "output_type": "execute_result"
    }
   ],
   "source": [
    "model2.columns"
   ]
  },
  {
   "cell_type": "code",
   "execution_count": null,
   "metadata": {
    "collapsed": true
   },
   "outputs": [],
   "source": [
    "# Let's see if population alone can predict store profits:"
   ]
  },
  {
   "cell_type": "code",
   "execution_count": 20,
   "metadata": {},
   "outputs": [
    {
     "data": {
      "text/html": [
       "<table class=\"simpletable\">\n",
       "<caption>OLS Regression Results</caption>\n",
       "<tr>\n",
       "  <th>Dep. Variable:</th>    <td>annual_profit_per_store</td> <th>  R-squared:         </th> <td>   0.010</td> \n",
       "</tr>\n",
       "<tr>\n",
       "  <th>Model:</th>                      <td>OLS</td>           <th>  Adj. R-squared:    </th> <td>   0.005</td> \n",
       "</tr>\n",
       "<tr>\n",
       "  <th>Method:</th>                <td>Least Squares</td>      <th>  F-statistic:       </th> <td>   2.155</td> \n",
       "</tr>\n",
       "<tr>\n",
       "  <th>Date:</th>                <td>Wed, 07 Feb 2018</td>     <th>  Prob (F-statistic):</th>  <td>0.0449</td>  \n",
       "</tr>\n",
       "<tr>\n",
       "  <th>Time:</th>                    <td>17:08:25</td>         <th>  Log-Likelihood:    </th> <td> -15949.</td> \n",
       "</tr>\n",
       "<tr>\n",
       "  <th>No. Observations:</th>         <td>  1291</td>          <th>  AIC:               </th> <td>3.191e+04</td>\n",
       "</tr>\n",
       "<tr>\n",
       "  <th>Df Residuals:</th>             <td>  1284</td>          <th>  BIC:               </th> <td>3.195e+04</td>\n",
       "</tr>\n",
       "<tr>\n",
       "  <th>Df Model:</th>                 <td>     6</td>          <th>                     </th>     <td> </td>    \n",
       "</tr>\n",
       "<tr>\n",
       "  <th>Covariance Type:</th>         <td>nonrobust</td>        <th>                     </th>     <td> </td>    \n",
       "</tr>\n",
       "</table>\n",
       "<table class=\"simpletable\">\n",
       "<tr>\n",
       "          <td></td>            <th>coef</th>     <th>std err</th>      <th>t</th>      <th>P>|t|</th>  <th>[0.025</th>    <th>0.975]</th>  \n",
       "</tr>\n",
       "<tr>\n",
       "  <th>const</th>            <td> 4.036e+04</td> <td> 2266.177</td> <td>   17.812</td> <td> 0.000</td> <td> 3.59e+04</td> <td> 4.48e+04</td>\n",
       "</tr>\n",
       "<tr>\n",
       "  <th>(0, 30000]</th>       <td> 4561.2748</td> <td> 3164.410</td> <td>    1.441</td> <td> 0.150</td> <td>-1646.708</td> <td> 1.08e+04</td>\n",
       "</tr>\n",
       "<tr>\n",
       "  <th>(100000, 200000]</th> <td> 1.686e+04</td> <td> 4096.392</td> <td>    4.116</td> <td> 0.000</td> <td> 8824.452</td> <td> 2.49e+04</td>\n",
       "</tr>\n",
       "<tr>\n",
       "  <th>(200000, 300000]</th> <td> 1623.2266</td> <td> 5589.324</td> <td>    0.290</td> <td> 0.772</td> <td>-9341.984</td> <td> 1.26e+04</td>\n",
       "</tr>\n",
       "<tr>\n",
       "  <th>(30000, 50000]</th>   <td> 1.307e+04</td> <td> 4215.624</td> <td>    3.100</td> <td> 0.002</td> <td> 4799.434</td> <td> 2.13e+04</td>\n",
       "</tr>\n",
       "<tr>\n",
       "  <th>(300000, 500000]</th> <td>  1.03e+04</td> <td> 4207.687</td> <td>    2.447</td> <td> 0.015</td> <td> 2040.845</td> <td> 1.86e+04</td>\n",
       "</tr>\n",
       "<tr>\n",
       "  <th>(50000, 70000]</th>   <td>-6615.5716</td> <td> 1.28e+04</td> <td>   -0.517</td> <td> 0.605</td> <td>-3.17e+04</td> <td> 1.85e+04</td>\n",
       "</tr>\n",
       "<tr>\n",
       "  <th>(70000, 100000]</th>  <td>  569.8808</td> <td> 5043.752</td> <td>    0.113</td> <td> 0.910</td> <td>-9325.019</td> <td> 1.05e+04</td>\n",
       "</tr>\n",
       "</table>\n",
       "<table class=\"simpletable\">\n",
       "<tr>\n",
       "  <th>Omnibus:</th>       <td>524.357</td> <th>  Durbin-Watson:     </th> <td>   1.031</td>\n",
       "</tr>\n",
       "<tr>\n",
       "  <th>Prob(Omnibus):</th> <td> 0.000</td>  <th>  Jarque-Bera (JB):  </th> <td>1803.743</td>\n",
       "</tr>\n",
       "<tr>\n",
       "  <th>Skew:</th>          <td> 2.043</td>  <th>  Prob(JB):          </th> <td>    0.00</td>\n",
       "</tr>\n",
       "<tr>\n",
       "  <th>Kurtosis:</th>      <td> 7.103</td>  <th>  Cond. No.          </th> <td>4.27e+15</td>\n",
       "</tr>\n",
       "</table>"
      ],
      "text/plain": [
       "<class 'statsmodels.iolib.summary.Summary'>\n",
       "\"\"\"\n",
       "                               OLS Regression Results                              \n",
       "===================================================================================\n",
       "Dep. Variable:     annual_profit_per_store   R-squared:                       0.010\n",
       "Model:                                 OLS   Adj. R-squared:                  0.005\n",
       "Method:                      Least Squares   F-statistic:                     2.155\n",
       "Date:                     Wed, 07 Feb 2018   Prob (F-statistic):             0.0449\n",
       "Time:                             17:08:25   Log-Likelihood:                -15949.\n",
       "No. Observations:                     1291   AIC:                         3.191e+04\n",
       "Df Residuals:                         1284   BIC:                         3.195e+04\n",
       "Df Model:                                6                                         \n",
       "Covariance Type:                 nonrobust                                         \n",
       "====================================================================================\n",
       "                       coef    std err          t      P>|t|      [0.025      0.975]\n",
       "------------------------------------------------------------------------------------\n",
       "const             4.036e+04   2266.177     17.812      0.000    3.59e+04    4.48e+04\n",
       "(0, 30000]        4561.2748   3164.410      1.441      0.150   -1646.708    1.08e+04\n",
       "(100000, 200000]  1.686e+04   4096.392      4.116      0.000    8824.452    2.49e+04\n",
       "(200000, 300000]  1623.2266   5589.324      0.290      0.772   -9341.984    1.26e+04\n",
       "(30000, 50000]    1.307e+04   4215.624      3.100      0.002    4799.434    2.13e+04\n",
       "(300000, 500000]   1.03e+04   4207.687      2.447      0.015    2040.845    1.86e+04\n",
       "(50000, 70000]   -6615.5716   1.28e+04     -0.517      0.605   -3.17e+04    1.85e+04\n",
       "(70000, 100000]    569.8808   5043.752      0.113      0.910   -9325.019    1.05e+04\n",
       "==============================================================================\n",
       "Omnibus:                      524.357   Durbin-Watson:                   1.031\n",
       "Prob(Omnibus):                  0.000   Jarque-Bera (JB):             1803.743\n",
       "Skew:                           2.043   Prob(JB):                         0.00\n",
       "Kurtosis:                       7.103   Cond. No.                     4.27e+15\n",
       "==============================================================================\n",
       "\n",
       "Warnings:\n",
       "[1] Standard Errors assume that the covariance matrix of the errors is correctly specified.\n",
       "[2] The smallest eigenvalue is 8.78e-29. This might indicate that there are\n",
       "strong multicollinearity problems or that the design matrix is singular.\n",
       "\"\"\""
      ]
     },
     "execution_count": 20,
     "metadata": {},
     "output_type": "execute_result"
    }
   ],
   "source": [
    "# regression model # 2\n",
    "dep = model2['annual_profit_per_store'] # This is the outcome I want to predict\n",
    "indep = model2.drop(['store_id', 'fips', 'metro', 'unemployment', 'income', 'population',\n",
    "       'ave_bottle_price', 'ave_number_bottles', 'annual_profit_per_store',\n",
    "       'unemp_bins', 'income_bins', 'pop_bins'], axis = 'columns') # These are the features that predict it\n",
    "indep = sm.add_constant(indep) # Add the intercept\n",
    "model = sm.OLS(dep,indep) # Instantiate the model\n",
    "results = model.fit() # Fit the model\n",
    "results.summary() # Summarize the results"
   ]
  },
  {
   "cell_type": "code",
   "execution_count": null,
   "metadata": {
    "collapsed": true
   },
   "outputs": [],
   "source": [
    "# Certain population categories ((100000, 200000],(30000, 50000] and (300000, 500000]) have a significant effect\n",
    "# But the R-squared is only 1 percent"
   ]
  },
  {
   "cell_type": "markdown",
   "metadata": {},
   "source": [
    "## Model 3 - Unemployment"
   ]
  },
  {
   "cell_type": "code",
   "execution_count": 21,
   "metadata": {},
   "outputs": [
    {
     "data": {
      "text/plain": [
       "(3, 4]    748\n",
       "(4, 5]    286\n",
       "(2, 3]    214\n",
       "(5, 6]     27\n",
       "(6, 7]     16\n",
       "Name: unemp_bins, dtype: int64"
      ]
     },
     "execution_count": 21,
     "metadata": {},
     "output_type": "execute_result"
    }
   ],
   "source": [
    "# Distribution of unemployment:\n",
    "stores.unemp_bins.value_counts()"
   ]
  },
  {
   "cell_type": "code",
   "execution_count": 23,
   "metadata": {},
   "outputs": [],
   "source": [
    "# Let's convert population to dummy variables\n",
    "model3 = pd.concat([stores, pd.get_dummies(stores['unemp_bins'])], axis = 1);"
   ]
  },
  {
   "cell_type": "code",
   "execution_count": 26,
   "metadata": {},
   "outputs": [
    {
     "data": {
      "text/html": [
       "<table class=\"simpletable\">\n",
       "<caption>OLS Regression Results</caption>\n",
       "<tr>\n",
       "  <th>Dep. Variable:</th>    <td>annual_profit_per_store</td> <th>  R-squared:         </th> <td>   0.005</td> \n",
       "</tr>\n",
       "<tr>\n",
       "  <th>Model:</th>                      <td>OLS</td>           <th>  Adj. R-squared:    </th> <td>   0.001</td> \n",
       "</tr>\n",
       "<tr>\n",
       "  <th>Method:</th>                <td>Least Squares</td>      <th>  F-statistic:       </th> <td>   1.479</td> \n",
       "</tr>\n",
       "<tr>\n",
       "  <th>Date:</th>                <td>Wed, 07 Feb 2018</td>     <th>  Prob (F-statistic):</th>  <td> 0.206</td>  \n",
       "</tr>\n",
       "<tr>\n",
       "  <th>Time:</th>                    <td>17:13:39</td>         <th>  Log-Likelihood:    </th> <td> -15953.</td> \n",
       "</tr>\n",
       "<tr>\n",
       "  <th>No. Observations:</th>         <td>  1291</td>          <th>  AIC:               </th> <td>3.192e+04</td>\n",
       "</tr>\n",
       "<tr>\n",
       "  <th>Df Residuals:</th>             <td>  1286</td>          <th>  BIC:               </th> <td>3.194e+04</td>\n",
       "</tr>\n",
       "<tr>\n",
       "  <th>Df Model:</th>                 <td>     4</td>          <th>                     </th>     <td> </td>    \n",
       "</tr>\n",
       "<tr>\n",
       "  <th>Covariance Type:</th>         <td>nonrobust</td>        <th>                     </th>     <td> </td>    \n",
       "</tr>\n",
       "</table>\n",
       "<table class=\"simpletable\">\n",
       "<tr>\n",
       "     <td></td>       <th>coef</th>     <th>std err</th>      <th>t</th>      <th>P>|t|</th>  <th>[0.025</th>    <th>0.975]</th>  \n",
       "</tr>\n",
       "<tr>\n",
       "  <th>const</th>  <td> 4.589e+04</td> <td> 3103.422</td> <td>   14.785</td> <td> 0.000</td> <td> 3.98e+04</td> <td>  5.2e+04</td>\n",
       "</tr>\n",
       "<tr>\n",
       "  <th>(2, 3]</th> <td> 5978.7313</td> <td> 4420.047</td> <td>    1.353</td> <td> 0.176</td> <td>-2692.563</td> <td> 1.47e+04</td>\n",
       "</tr>\n",
       "<tr>\n",
       "  <th>(3, 4]</th> <td> -156.6971</td> <td> 3530.606</td> <td>   -0.044</td> <td> 0.965</td> <td>-7083.077</td> <td> 6769.683</td>\n",
       "</tr>\n",
       "<tr>\n",
       "  <th>(4, 5]</th> <td> 3891.6105</td> <td> 4128.329</td> <td>    0.943</td> <td> 0.346</td> <td>-4207.389</td> <td>  1.2e+04</td>\n",
       "</tr>\n",
       "<tr>\n",
       "  <th>(5, 6]</th> <td> 1.799e+04</td> <td> 9388.406</td> <td>    1.916</td> <td> 0.056</td> <td> -426.320</td> <td> 3.64e+04</td>\n",
       "</tr>\n",
       "<tr>\n",
       "  <th>(6, 7]</th> <td> 1.818e+04</td> <td> 1.19e+04</td> <td>    1.525</td> <td> 0.128</td> <td>-5207.499</td> <td> 4.16e+04</td>\n",
       "</tr>\n",
       "</table>\n",
       "<table class=\"simpletable\">\n",
       "<tr>\n",
       "  <th>Omnibus:</th>       <td>526.328</td> <th>  Durbin-Watson:     </th> <td>   1.057</td>\n",
       "</tr>\n",
       "<tr>\n",
       "  <th>Prob(Omnibus):</th> <td> 0.000</td>  <th>  Jarque-Bera (JB):  </th> <td>1818.064</td>\n",
       "</tr>\n",
       "<tr>\n",
       "  <th>Skew:</th>          <td> 2.050</td>  <th>  Prob(JB):          </th> <td>    0.00</td>\n",
       "</tr>\n",
       "<tr>\n",
       "  <th>Kurtosis:</th>      <td> 7.122</td>  <th>  Cond. No.          </th> <td>5.47e+15</td>\n",
       "</tr>\n",
       "</table>"
      ],
      "text/plain": [
       "<class 'statsmodels.iolib.summary.Summary'>\n",
       "\"\"\"\n",
       "                               OLS Regression Results                              \n",
       "===================================================================================\n",
       "Dep. Variable:     annual_profit_per_store   R-squared:                       0.005\n",
       "Model:                                 OLS   Adj. R-squared:                  0.001\n",
       "Method:                      Least Squares   F-statistic:                     1.479\n",
       "Date:                     Wed, 07 Feb 2018   Prob (F-statistic):              0.206\n",
       "Time:                             17:13:39   Log-Likelihood:                -15953.\n",
       "No. Observations:                     1291   AIC:                         3.192e+04\n",
       "Df Residuals:                         1286   BIC:                         3.194e+04\n",
       "Df Model:                                4                                         \n",
       "Covariance Type:                 nonrobust                                         \n",
       "==============================================================================\n",
       "                 coef    std err          t      P>|t|      [0.025      0.975]\n",
       "------------------------------------------------------------------------------\n",
       "const       4.589e+04   3103.422     14.785      0.000    3.98e+04     5.2e+04\n",
       "(2, 3]      5978.7313   4420.047      1.353      0.176   -2692.563    1.47e+04\n",
       "(3, 4]      -156.6971   3530.606     -0.044      0.965   -7083.077    6769.683\n",
       "(4, 5]      3891.6105   4128.329      0.943      0.346   -4207.389     1.2e+04\n",
       "(5, 6]      1.799e+04   9388.406      1.916      0.056    -426.320    3.64e+04\n",
       "(6, 7]      1.818e+04   1.19e+04      1.525      0.128   -5207.499    4.16e+04\n",
       "==============================================================================\n",
       "Omnibus:                      526.328   Durbin-Watson:                   1.057\n",
       "Prob(Omnibus):                  0.000   Jarque-Bera (JB):             1818.064\n",
       "Skew:                           2.050   Prob(JB):                         0.00\n",
       "Kurtosis:                       7.122   Cond. No.                     5.47e+15\n",
       "==============================================================================\n",
       "\n",
       "Warnings:\n",
       "[1] Standard Errors assume that the covariance matrix of the errors is correctly specified.\n",
       "[2] The smallest eigenvalue is 6.26e-29. This might indicate that there are\n",
       "strong multicollinearity problems or that the design matrix is singular.\n",
       "\"\"\""
      ]
     },
     "execution_count": 26,
     "metadata": {},
     "output_type": "execute_result"
    }
   ],
   "source": [
    "# regression model # 3\n",
    "dep = model3['annual_profit_per_store'] # This is the outcome I want to predict\n",
    "indep = model3.drop(['store_id', 'fips', 'metro', 'unemployment', 'income', 'population',\n",
    "       'ave_bottle_price', 'ave_number_bottles', 'annual_profit_per_store',\n",
    "       'unemp_bins', 'income_bins', 'pop_bins'], axis = 'columns') # These are the features that predict it\n",
    "indep = sm.add_constant(indep) # Add the intercept\n",
    "model = sm.OLS(dep,indep) # Instantiate the model\n",
    "results = model.fit() # Fit the model\n",
    "results.summary() # Summarize the results"
   ]
  },
  {
   "cell_type": "code",
   "execution_count": null,
   "metadata": {
    "collapsed": true
   },
   "outputs": [],
   "source": [
    "# None of the unemployment brackets have a sig effect on annual profits\n",
    "# The model has an R2 of only 5%\n",
    "# Let's drop unemployment from our final model"
   ]
  },
  {
   "cell_type": "markdown",
   "metadata": {},
   "source": [
    "## Model 3 - Average Household Income"
   ]
  },
  {
   "cell_type": "code",
   "execution_count": 29,
   "metadata": {},
   "outputs": [
    {
     "data": {
      "text/plain": [
       "(50000, 70000]     1049\n",
       "(47000, 50000]      170\n",
       "(40000, 47000]       24\n",
       "(70000, 80000]       22\n",
       "(80000, 100000]      15\n",
       "(0, 40000]           11\n",
       "Name: income_bins, dtype: int64"
      ]
     },
     "execution_count": 29,
     "metadata": {},
     "output_type": "execute_result"
    }
   ],
   "source": [
    "# Distribution of income:\n",
    "stores.income_bins.value_counts()"
   ]
  },
  {
   "cell_type": "code",
   "execution_count": 30,
   "metadata": {
    "collapsed": true
   },
   "outputs": [],
   "source": [
    "# Let's convert to dummy variables\n",
    "model4 = pd.concat([stores, pd.get_dummies(stores['income_bins'])], axis = 1);"
   ]
  },
  {
   "cell_type": "code",
   "execution_count": 31,
   "metadata": {},
   "outputs": [
    {
     "data": {
      "text/html": [
       "<table class=\"simpletable\">\n",
       "<caption>OLS Regression Results</caption>\n",
       "<tr>\n",
       "  <th>Dep. Variable:</th>    <td>annual_profit_per_store</td> <th>  R-squared:         </th> <td>   0.004</td> \n",
       "</tr>\n",
       "<tr>\n",
       "  <th>Model:</th>                      <td>OLS</td>           <th>  Adj. R-squared:    </th> <td>  -0.000</td> \n",
       "</tr>\n",
       "<tr>\n",
       "  <th>Method:</th>                <td>Least Squares</td>      <th>  F-statistic:       </th> <td>  0.9657</td> \n",
       "</tr>\n",
       "<tr>\n",
       "  <th>Date:</th>                <td>Wed, 07 Feb 2018</td>     <th>  Prob (F-statistic):</th>  <td> 0.438</td>  \n",
       "</tr>\n",
       "<tr>\n",
       "  <th>Time:</th>                    <td>17:15:54</td>         <th>  Log-Likelihood:    </th> <td> -15953.</td> \n",
       "</tr>\n",
       "<tr>\n",
       "  <th>No. Observations:</th>         <td>  1291</td>          <th>  AIC:               </th> <td>3.192e+04</td>\n",
       "</tr>\n",
       "<tr>\n",
       "  <th>Df Residuals:</th>             <td>  1285</td>          <th>  BIC:               </th> <td>3.195e+04</td>\n",
       "</tr>\n",
       "<tr>\n",
       "  <th>Df Model:</th>                 <td>     5</td>          <th>                     </th>     <td> </td>    \n",
       "</tr>\n",
       "<tr>\n",
       "  <th>Covariance Type:</th>         <td>nonrobust</td>        <th>                     </th>     <td> </td>    \n",
       "</tr>\n",
       "</table>\n",
       "<table class=\"simpletable\">\n",
       "<tr>\n",
       "         <td></td>            <th>coef</th>     <th>std err</th>      <th>t</th>      <th>P>|t|</th>  <th>[0.025</th>    <th>0.975]</th>  \n",
       "</tr>\n",
       "<tr>\n",
       "  <th>const</th>           <td> 3.836e+04</td> <td> 4043.365</td> <td>    9.488</td> <td> 0.000</td> <td> 3.04e+04</td> <td> 4.63e+04</td>\n",
       "</tr>\n",
       "<tr>\n",
       "  <th>(0, 40000]</th>      <td>-2019.5699</td> <td> 1.49e+04</td> <td>   -0.135</td> <td> 0.892</td> <td>-3.13e+04</td> <td> 2.73e+04</td>\n",
       "</tr>\n",
       "<tr>\n",
       "  <th>(40000, 47000]</th>  <td> 2.722e+04</td> <td> 1.05e+04</td> <td>    2.582</td> <td> 0.010</td> <td> 6538.864</td> <td> 4.79e+04</td>\n",
       "</tr>\n",
       "<tr>\n",
       "  <th>(47000, 50000]</th>  <td> 1.032e+04</td> <td> 5452.566</td> <td>    1.892</td> <td> 0.059</td> <td> -381.249</td> <td>  2.1e+04</td>\n",
       "</tr>\n",
       "<tr>\n",
       "  <th>(50000, 70000]</th>  <td> 1.001e+04</td> <td> 4303.187</td> <td>    2.327</td> <td> 0.020</td> <td> 1572.511</td> <td> 1.85e+04</td>\n",
       "</tr>\n",
       "<tr>\n",
       "  <th>(70000, 80000]</th>  <td>-2556.1223</td> <td> 1.09e+04</td> <td>   -0.234</td> <td> 0.815</td> <td> -2.4e+04</td> <td> 1.89e+04</td>\n",
       "</tr>\n",
       "<tr>\n",
       "  <th>(80000, 100000]</th> <td>-4612.8484</td> <td>  1.3e+04</td> <td>   -0.356</td> <td> 0.722</td> <td>   -3e+04</td> <td> 2.08e+04</td>\n",
       "</tr>\n",
       "</table>\n",
       "<table class=\"simpletable\">\n",
       "<tr>\n",
       "  <th>Omnibus:</th>       <td>523.603</td> <th>  Durbin-Watson:     </th> <td>   1.058</td>\n",
       "</tr>\n",
       "<tr>\n",
       "  <th>Prob(Omnibus):</th> <td> 0.000</td>  <th>  Jarque-Bera (JB):  </th> <td>1794.498</td>\n",
       "</tr>\n",
       "<tr>\n",
       "  <th>Skew:</th>          <td> 2.042</td>  <th>  Prob(JB):          </th> <td>    0.00</td>\n",
       "</tr>\n",
       "<tr>\n",
       "  <th>Kurtosis:</th>      <td> 7.085</td>  <th>  Cond. No.          </th> <td>3.16e+16</td>\n",
       "</tr>\n",
       "</table>"
      ],
      "text/plain": [
       "<class 'statsmodels.iolib.summary.Summary'>\n",
       "\"\"\"\n",
       "                               OLS Regression Results                              \n",
       "===================================================================================\n",
       "Dep. Variable:     annual_profit_per_store   R-squared:                       0.004\n",
       "Model:                                 OLS   Adj. R-squared:                 -0.000\n",
       "Method:                      Least Squares   F-statistic:                    0.9657\n",
       "Date:                     Wed, 07 Feb 2018   Prob (F-statistic):              0.438\n",
       "Time:                             17:15:54   Log-Likelihood:                -15953.\n",
       "No. Observations:                     1291   AIC:                         3.192e+04\n",
       "Df Residuals:                         1285   BIC:                         3.195e+04\n",
       "Df Model:                                5                                         \n",
       "Covariance Type:                 nonrobust                                         \n",
       "===================================================================================\n",
       "                      coef    std err          t      P>|t|      [0.025      0.975]\n",
       "-----------------------------------------------------------------------------------\n",
       "const            3.836e+04   4043.365      9.488      0.000    3.04e+04    4.63e+04\n",
       "(0, 40000]      -2019.5699   1.49e+04     -0.135      0.892   -3.13e+04    2.73e+04\n",
       "(40000, 47000]   2.722e+04   1.05e+04      2.582      0.010    6538.864    4.79e+04\n",
       "(47000, 50000]   1.032e+04   5452.566      1.892      0.059    -381.249     2.1e+04\n",
       "(50000, 70000]   1.001e+04   4303.187      2.327      0.020    1572.511    1.85e+04\n",
       "(70000, 80000]  -2556.1223   1.09e+04     -0.234      0.815    -2.4e+04    1.89e+04\n",
       "(80000, 100000] -4612.8484    1.3e+04     -0.356      0.722      -3e+04    2.08e+04\n",
       "==============================================================================\n",
       "Omnibus:                      523.603   Durbin-Watson:                   1.058\n",
       "Prob(Omnibus):                  0.000   Jarque-Bera (JB):             1794.498\n",
       "Skew:                           2.042   Prob(JB):                         0.00\n",
       "Kurtosis:                       7.085   Cond. No.                     3.16e+16\n",
       "==============================================================================\n",
       "\n",
       "Warnings:\n",
       "[1] Standard Errors assume that the covariance matrix of the errors is correctly specified.\n",
       "[2] The smallest eigenvalue is 2.24e-30. This might indicate that there are\n",
       "strong multicollinearity problems or that the design matrix is singular.\n",
       "\"\"\""
      ]
     },
     "execution_count": 31,
     "metadata": {},
     "output_type": "execute_result"
    }
   ],
   "source": [
    "# regression model # 3\n",
    "dep = model4['annual_profit_per_store'] # This is the outcome I want to predict\n",
    "indep = model4.drop(['store_id', 'fips', 'metro', 'unemployment', 'income', 'population',\n",
    "       'ave_bottle_price', 'ave_number_bottles', 'annual_profit_per_store',\n",
    "       'unemp_bins', 'income_bins', 'pop_bins'], axis = 'columns') # These are the features that predict it\n",
    "indep = sm.add_constant(indep) # Add the intercept\n",
    "model = sm.OLS(dep,indep) # Instantiate the model\n",
    "results = model.fit() # Fit the model\n",
    "results.summary() # Summarize the results"
   ]
  },
  {
   "cell_type": "code",
   "execution_count": 33,
   "metadata": {
    "collapsed": true
   },
   "outputs": [],
   "source": [
    "# Two employment bracket (40000, 47000] and (50000, 70000] a sig effect on annual profits\n",
    "# The model has an R2 of only 4%"
   ]
  },
  {
   "cell_type": "markdown",
   "metadata": {},
   "source": [
    "## Model 5 - Drop unemployment and population"
   ]
  },
  {
   "cell_type": "code",
   "execution_count": 36,
   "metadata": {},
   "outputs": [
    {
     "data": {
      "text/html": [
       "<table class=\"simpletable\">\n",
       "<caption>OLS Regression Results</caption>\n",
       "<tr>\n",
       "  <th>Dep. Variable:</th>    <td>annual_profit_per_store</td> <th>  R-squared:         </th> <td>   0.130</td> \n",
       "</tr>\n",
       "<tr>\n",
       "  <th>Model:</th>                      <td>OLS</td>           <th>  Adj. R-squared:    </th> <td>   0.127</td> \n",
       "</tr>\n",
       "<tr>\n",
       "  <th>Method:</th>                <td>Least Squares</td>      <th>  F-statistic:       </th> <td>   48.07</td> \n",
       "</tr>\n",
       "<tr>\n",
       "  <th>Date:</th>                <td>Wed, 07 Feb 2018</td>     <th>  Prob (F-statistic):</th> <td>1.04e-37</td> \n",
       "</tr>\n",
       "<tr>\n",
       "  <th>Time:</th>                    <td>17:24:10</td>         <th>  Log-Likelihood:    </th> <td> -15866.</td> \n",
       "</tr>\n",
       "<tr>\n",
       "  <th>No. Observations:</th>         <td>  1291</td>          <th>  AIC:               </th> <td>3.174e+04</td>\n",
       "</tr>\n",
       "<tr>\n",
       "  <th>Df Residuals:</th>             <td>  1286</td>          <th>  BIC:               </th> <td>3.177e+04</td>\n",
       "</tr>\n",
       "<tr>\n",
       "  <th>Df Model:</th>                 <td>     4</td>          <th>                     </th>     <td> </td>    \n",
       "</tr>\n",
       "<tr>\n",
       "  <th>Covariance Type:</th>         <td>nonrobust</td>        <th>                     </th>     <td> </td>    \n",
       "</tr>\n",
       "</table>\n",
       "<table class=\"simpletable\">\n",
       "<tr>\n",
       "           <td></td>             <th>coef</th>     <th>std err</th>      <th>t</th>      <th>P>|t|</th>  <th>[0.025</th>    <th>0.975]</th>  \n",
       "</tr>\n",
       "<tr>\n",
       "  <th>const</th>              <td>-1.693e+04</td> <td> 1.87e+04</td> <td>   -0.904</td> <td> 0.366</td> <td>-5.36e+04</td> <td> 1.98e+04</td>\n",
       "</tr>\n",
       "<tr>\n",
       "  <th>metro</th>              <td>-3010.5093</td> <td>  818.032</td> <td>   -3.680</td> <td> 0.000</td> <td>-4615.334</td> <td>-1405.685</td>\n",
       "</tr>\n",
       "<tr>\n",
       "  <th>income</th>             <td>   -0.6353</td> <td>    0.251</td> <td>   -2.530</td> <td> 0.012</td> <td>   -1.128</td> <td>   -0.143</td>\n",
       "</tr>\n",
       "<tr>\n",
       "  <th>ave_bottle_price</th>   <td> 7886.4864</td> <td>  580.175</td> <td>   13.593</td> <td> 0.000</td> <td> 6748.293</td> <td> 9024.680</td>\n",
       "</tr>\n",
       "<tr>\n",
       "  <th>ave_number_bottles</th> <td>  801.4734</td> <td>  318.702</td> <td>    2.515</td> <td> 0.012</td> <td>  176.240</td> <td> 1426.707</td>\n",
       "</tr>\n",
       "</table>\n",
       "<table class=\"simpletable\">\n",
       "<tr>\n",
       "  <th>Omnibus:</th>       <td>460.873</td> <th>  Durbin-Watson:     </th> <td>   1.098</td>\n",
       "</tr>\n",
       "<tr>\n",
       "  <th>Prob(Omnibus):</th> <td> 0.000</td>  <th>  Jarque-Bera (JB):  </th> <td>1548.136</td>\n",
       "</tr>\n",
       "<tr>\n",
       "  <th>Skew:</th>          <td> 1.768</td>  <th>  Prob(JB):          </th> <td>    0.00</td>\n",
       "</tr>\n",
       "<tr>\n",
       "  <th>Kurtosis:</th>      <td> 7.035</td>  <th>  Cond. No.          </th> <td>7.32e+05</td>\n",
       "</tr>\n",
       "</table>"
      ],
      "text/plain": [
       "<class 'statsmodels.iolib.summary.Summary'>\n",
       "\"\"\"\n",
       "                               OLS Regression Results                              \n",
       "===================================================================================\n",
       "Dep. Variable:     annual_profit_per_store   R-squared:                       0.130\n",
       "Model:                                 OLS   Adj. R-squared:                  0.127\n",
       "Method:                      Least Squares   F-statistic:                     48.07\n",
       "Date:                     Wed, 07 Feb 2018   Prob (F-statistic):           1.04e-37\n",
       "Time:                             17:24:10   Log-Likelihood:                -15866.\n",
       "No. Observations:                     1291   AIC:                         3.174e+04\n",
       "Df Residuals:                         1286   BIC:                         3.177e+04\n",
       "Df Model:                                4                                         \n",
       "Covariance Type:                 nonrobust                                         \n",
       "======================================================================================\n",
       "                         coef    std err          t      P>|t|      [0.025      0.975]\n",
       "--------------------------------------------------------------------------------------\n",
       "const              -1.693e+04   1.87e+04     -0.904      0.366   -5.36e+04    1.98e+04\n",
       "metro              -3010.5093    818.032     -3.680      0.000   -4615.334   -1405.685\n",
       "income                -0.6353      0.251     -2.530      0.012      -1.128      -0.143\n",
       "ave_bottle_price    7886.4864    580.175     13.593      0.000    6748.293    9024.680\n",
       "ave_number_bottles   801.4734    318.702      2.515      0.012     176.240    1426.707\n",
       "==============================================================================\n",
       "Omnibus:                      460.873   Durbin-Watson:                   1.098\n",
       "Prob(Omnibus):                  0.000   Jarque-Bera (JB):             1548.136\n",
       "Skew:                           1.768   Prob(JB):                         0.00\n",
       "Kurtosis:                       7.035   Cond. No.                     7.32e+05\n",
       "==============================================================================\n",
       "\n",
       "Warnings:\n",
       "[1] Standard Errors assume that the covariance matrix of the errors is correctly specified.\n",
       "[2] The condition number is large, 7.32e+05. This might indicate that there are\n",
       "strong multicollinearity or other numerical problems.\n",
       "\"\"\""
      ]
     },
     "execution_count": 36,
     "metadata": {},
     "output_type": "execute_result"
    }
   ],
   "source": [
    "# regression model # 5\n",
    "dep = stores['annual_profit_per_store'] # This is the outcome I want to predict\n",
    "indep = stores.drop(['store_id', 'fips','unemp_bins', 'income_bins', \n",
    "                     'pop_bins', 'annual_profit_per_store', 'unemployment', 'population'], \n",
    "                    axis = 'columns') # These are the features that predict it\n",
    "indep = sm.add_constant(indep) # Add the intercept\n",
    "model = sm.OLS(dep,indep) # Instantiate the model\n",
    "results = model.fit() # Fit the model\n",
    "results.summary() # Summarize the results"
   ]
  },
  {
   "cell_type": "code",
   "execution_count": null,
   "metadata": {
    "collapsed": true
   },
   "outputs": [],
   "source": [
    "# All 4 of our predictors have a significant effect\n",
    "# The R-squared is only 14%"
   ]
  },
  {
   "cell_type": "code",
   "execution_count": 40,
   "metadata": {},
   "outputs": [],
   "source": [
    "# Let's go with that as our model."
   ]
  }
 ],
 "metadata": {
  "kernelspec": {
   "display_name": "Python 3",
   "language": "python",
   "name": "python3"
  },
  "language_info": {
   "codemirror_mode": {
    "name": "ipython",
    "version": 3
   },
   "file_extension": ".py",
   "mimetype": "text/x-python",
   "name": "python",
   "nbconvert_exporter": "python",
   "pygments_lexer": "ipython3",
   "version": "3.6.3"
  }
 },
 "nbformat": 4,
 "nbformat_minor": 2
}
