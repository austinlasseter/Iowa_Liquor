{
 "cells": [
  {
   "cell_type": "code",
   "execution_count": 1,
   "metadata": {},
   "outputs": [
    {
     "name": "stderr",
     "output_type": "stream",
     "text": [
      "/Users/austinlasseter/anaconda3/lib/python3.6/site-packages/statsmodels/compat/pandas.py:56: FutureWarning: The pandas.core.datetools module is deprecated and will be removed in a future version. Please use the pandas.tseries module instead.\n",
      "  from pandas.core import datetools\n"
     ]
    }
   ],
   "source": [
    "import sklearn.metrics as metrics\n",
    "import sklearn.linear_model as linear_model\n",
    "import statsmodels.api as sm\n",
    "import pandas as pd\n",
    "import seaborn as sns\n",
    "import matplotlib.pyplot as plt\n",
    "%matplotlib inline"
   ]
  },
  {
   "cell_type": "code",
   "execution_count": 2,
   "metadata": {},
   "outputs": [
    {
     "data": {
      "text/html": [
       "<div>\n",
       "<style>\n",
       "    .dataframe thead tr:only-child th {\n",
       "        text-align: right;\n",
       "    }\n",
       "\n",
       "    .dataframe thead th {\n",
       "        text-align: left;\n",
       "    }\n",
       "\n",
       "    .dataframe tbody tr th {\n",
       "        vertical-align: top;\n",
       "    }\n",
       "</style>\n",
       "<table border=\"1\" class=\"dataframe\">\n",
       "  <thead>\n",
       "    <tr style=\"text-align: right;\">\n",
       "      <th></th>\n",
       "      <th>store_id</th>\n",
       "      <th>fips</th>\n",
       "      <th>metro</th>\n",
       "      <th>unemployment</th>\n",
       "      <th>income</th>\n",
       "      <th>population</th>\n",
       "      <th>ave_bottle_price</th>\n",
       "      <th>ave_number_bottles</th>\n",
       "      <th>annual_profit_per_store</th>\n",
       "      <th>number_of_stores</th>\n",
       "      <th>density</th>\n",
       "      <th>unemp_bins</th>\n",
       "      <th>income_bins</th>\n",
       "      <th>pop_bins</th>\n",
       "      <th>nstores_bins</th>\n",
       "      <th>density_bins</th>\n",
       "    </tr>\n",
       "  </thead>\n",
       "  <tbody>\n",
       "    <tr>\n",
       "      <th>0</th>\n",
       "      <td>2538</td>\n",
       "      <td>19013</td>\n",
       "      <td>3.0</td>\n",
       "      <td>4.7</td>\n",
       "      <td>50887.0</td>\n",
       "      <td>131090.0</td>\n",
       "      <td>15.717369</td>\n",
       "      <td>6.556662</td>\n",
       "      <td>277246.8764</td>\n",
       "      <td>72</td>\n",
       "      <td>1820.694444</td>\n",
       "      <td>(4, 5]</td>\n",
       "      <td>(47000, 70000]</td>\n",
       "      <td>(100000, 200000]</td>\n",
       "      <td>(60, 80]</td>\n",
       "      <td>(1000, 2000]</td>\n",
       "    </tr>\n",
       "    <tr>\n",
       "      <th>1</th>\n",
       "      <td>2564</td>\n",
       "      <td>19013</td>\n",
       "      <td>3.0</td>\n",
       "      <td>4.7</td>\n",
       "      <td>50887.0</td>\n",
       "      <td>131090.0</td>\n",
       "      <td>14.465399</td>\n",
       "      <td>10.122479</td>\n",
       "      <td>186899.9286</td>\n",
       "      <td>72</td>\n",
       "      <td>1820.694444</td>\n",
       "      <td>(4, 5]</td>\n",
       "      <td>(47000, 70000]</td>\n",
       "      <td>(100000, 200000]</td>\n",
       "      <td>(60, 80]</td>\n",
       "      <td>(1000, 2000]</td>\n",
       "    </tr>\n",
       "    <tr>\n",
       "      <th>2</th>\n",
       "      <td>2575</td>\n",
       "      <td>19013</td>\n",
       "      <td>3.0</td>\n",
       "      <td>4.7</td>\n",
       "      <td>50887.0</td>\n",
       "      <td>131090.0</td>\n",
       "      <td>13.919413</td>\n",
       "      <td>7.810056</td>\n",
       "      <td>100527.7990</td>\n",
       "      <td>72</td>\n",
       "      <td>1820.694444</td>\n",
       "      <td>(4, 5]</td>\n",
       "      <td>(47000, 70000]</td>\n",
       "      <td>(100000, 200000]</td>\n",
       "      <td>(60, 80]</td>\n",
       "      <td>(1000, 2000]</td>\n",
       "    </tr>\n",
       "    <tr>\n",
       "      <th>3</th>\n",
       "      <td>2643</td>\n",
       "      <td>19013</td>\n",
       "      <td>3.0</td>\n",
       "      <td>4.7</td>\n",
       "      <td>50887.0</td>\n",
       "      <td>131090.0</td>\n",
       "      <td>17.396789</td>\n",
       "      <td>6.583914</td>\n",
       "      <td>279711.8728</td>\n",
       "      <td>72</td>\n",
       "      <td>1820.694444</td>\n",
       "      <td>(4, 5]</td>\n",
       "      <td>(47000, 70000]</td>\n",
       "      <td>(100000, 200000]</td>\n",
       "      <td>(60, 80]</td>\n",
       "      <td>(1000, 2000]</td>\n",
       "    </tr>\n",
       "    <tr>\n",
       "      <th>4</th>\n",
       "      <td>2835</td>\n",
       "      <td>19013</td>\n",
       "      <td>3.0</td>\n",
       "      <td>4.7</td>\n",
       "      <td>50887.0</td>\n",
       "      <td>131090.0</td>\n",
       "      <td>16.286067</td>\n",
       "      <td>6.998979</td>\n",
       "      <td>40534.1682</td>\n",
       "      <td>72</td>\n",
       "      <td>1820.694444</td>\n",
       "      <td>(4, 5]</td>\n",
       "      <td>(47000, 70000]</td>\n",
       "      <td>(100000, 200000]</td>\n",
       "      <td>(60, 80]</td>\n",
       "      <td>(1000, 2000]</td>\n",
       "    </tr>\n",
       "  </tbody>\n",
       "</table>\n",
       "</div>"
      ],
      "text/plain": [
       "   store_id   fips  metro  unemployment   income  population  \\\n",
       "0      2538  19013    3.0           4.7  50887.0    131090.0   \n",
       "1      2564  19013    3.0           4.7  50887.0    131090.0   \n",
       "2      2575  19013    3.0           4.7  50887.0    131090.0   \n",
       "3      2643  19013    3.0           4.7  50887.0    131090.0   \n",
       "4      2835  19013    3.0           4.7  50887.0    131090.0   \n",
       "\n",
       "   ave_bottle_price  ave_number_bottles  annual_profit_per_store  \\\n",
       "0         15.717369            6.556662              277246.8764   \n",
       "1         14.465399           10.122479              186899.9286   \n",
       "2         13.919413            7.810056              100527.7990   \n",
       "3         17.396789            6.583914              279711.8728   \n",
       "4         16.286067            6.998979               40534.1682   \n",
       "\n",
       "   number_of_stores      density unemp_bins     income_bins          pop_bins  \\\n",
       "0                72  1820.694444     (4, 5]  (47000, 70000]  (100000, 200000]   \n",
       "1                72  1820.694444     (4, 5]  (47000, 70000]  (100000, 200000]   \n",
       "2                72  1820.694444     (4, 5]  (47000, 70000]  (100000, 200000]   \n",
       "3                72  1820.694444     (4, 5]  (47000, 70000]  (100000, 200000]   \n",
       "4                72  1820.694444     (4, 5]  (47000, 70000]  (100000, 200000]   \n",
       "\n",
       "  nstores_bins  density_bins  \n",
       "0     (60, 80]  (1000, 2000]  \n",
       "1     (60, 80]  (1000, 2000]  \n",
       "2     (60, 80]  (1000, 2000]  \n",
       "3     (60, 80]  (1000, 2000]  \n",
       "4     (60, 80]  (1000, 2000]  "
      ]
     },
     "execution_count": 2,
     "metadata": {},
     "output_type": "execute_result"
    }
   ],
   "source": [
    "## Load the data into a DataFrame\n",
    "stores=pd.read_csv('/Users/austinlasseter/DSI-EC-2/projects/datasets/stores_postEDA.csv')\n",
    "stores=stores.drop(['Unnamed: 0'], axis=1)\n",
    "stores.head()"
   ]
  },
  {
   "cell_type": "code",
   "execution_count": 3,
   "metadata": {},
   "outputs": [
    {
     "data": {
      "text/plain": [
       "Index(['store_id', 'fips', 'metro', 'unemployment', 'income', 'population',\n",
       "       'ave_bottle_price', 'ave_number_bottles', 'annual_profit_per_store',\n",
       "       'number_of_stores', 'density', 'unemp_bins', 'income_bins', 'pop_bins',\n",
       "       'nstores_bins', 'density_bins'],\n",
       "      dtype='object')"
      ]
     },
     "execution_count": 3,
     "metadata": {},
     "output_type": "execute_result"
    }
   ],
   "source": [
    "# List out all my variables\n",
    "stores.columns"
   ]
  },
  {
   "cell_type": "markdown",
   "metadata": {},
   "source": [
    "## Model 1: All continuous variables"
   ]
  },
  {
   "cell_type": "code",
   "execution_count": 4,
   "metadata": {},
   "outputs": [
    {
     "data": {
      "text/html": [
       "<table class=\"simpletable\">\n",
       "<caption>OLS Regression Results</caption>\n",
       "<tr>\n",
       "  <th>Dep. Variable:</th>    <td>annual_profit_per_store</td> <th>  R-squared:         </th> <td>   0.142</td> \n",
       "</tr>\n",
       "<tr>\n",
       "  <th>Model:</th>                      <td>OLS</td>           <th>  Adj. R-squared:    </th> <td>   0.137</td> \n",
       "</tr>\n",
       "<tr>\n",
       "  <th>Method:</th>                <td>Least Squares</td>      <th>  F-statistic:       </th> <td>   30.22</td> \n",
       "</tr>\n",
       "<tr>\n",
       "  <th>Date:</th>                <td>Thu, 08 Feb 2018</td>     <th>  Prob (F-statistic):</th> <td>7.33e-39</td> \n",
       "</tr>\n",
       "<tr>\n",
       "  <th>Time:</th>                    <td>10:44:47</td>         <th>  Log-Likelihood:    </th> <td> -15857.</td> \n",
       "</tr>\n",
       "<tr>\n",
       "  <th>No. Observations:</th>         <td>  1291</td>          <th>  AIC:               </th> <td>3.173e+04</td>\n",
       "</tr>\n",
       "<tr>\n",
       "  <th>Df Residuals:</th>             <td>  1283</td>          <th>  BIC:               </th> <td>3.177e+04</td>\n",
       "</tr>\n",
       "<tr>\n",
       "  <th>Df Model:</th>                 <td>     7</td>          <th>                     </th>     <td> </td>    \n",
       "</tr>\n",
       "<tr>\n",
       "  <th>Covariance Type:</th>         <td>nonrobust</td>        <th>                     </th>     <td> </td>    \n",
       "</tr>\n",
       "</table>\n",
       "<table class=\"simpletable\">\n",
       "<tr>\n",
       "           <td></td>             <th>coef</th>     <th>std err</th>      <th>t</th>      <th>P>|t|</th>  <th>[0.025</th>    <th>0.975]</th>  \n",
       "</tr>\n",
       "<tr>\n",
       "  <th>const</th>              <td>-4.578e+04</td> <td> 2.66e+04</td> <td>   -1.720</td> <td> 0.086</td> <td> -9.8e+04</td> <td> 6433.478</td>\n",
       "</tr>\n",
       "<tr>\n",
       "  <th>metro</th>              <td>-2269.1697</td> <td>  996.993</td> <td>   -2.276</td> <td> 0.023</td> <td>-4225.086</td> <td> -313.254</td>\n",
       "</tr>\n",
       "<tr>\n",
       "  <th>unemployment</th>       <td> 1774.5834</td> <td> 2278.129</td> <td>    0.779</td> <td> 0.436</td> <td>-2694.684</td> <td> 6243.851</td>\n",
       "</tr>\n",
       "<tr>\n",
       "  <th>income</th>             <td>   -0.6929</td> <td>    0.307</td> <td>   -2.260</td> <td> 0.024</td> <td>   -1.295</td> <td>   -0.091</td>\n",
       "</tr>\n",
       "<tr>\n",
       "  <th>population</th>         <td>    0.0111</td> <td>    0.015</td> <td>    0.759</td> <td> 0.448</td> <td>   -0.018</td> <td>    0.040</td>\n",
       "</tr>\n",
       "<tr>\n",
       "  <th>ave_bottle_price</th>   <td> 7892.7384</td> <td>  579.829</td> <td>   13.612</td> <td> 0.000</td> <td> 6755.221</td> <td> 9030.256</td>\n",
       "</tr>\n",
       "<tr>\n",
       "  <th>ave_number_bottles</th> <td>  785.7100</td> <td>  317.604</td> <td>    2.474</td> <td> 0.013</td> <td>  162.631</td> <td> 1408.789</td>\n",
       "</tr>\n",
       "<tr>\n",
       "  <th>density</th>            <td>    9.5690</td> <td>    2.388</td> <td>    4.007</td> <td> 0.000</td> <td>    4.885</td> <td>   14.253</td>\n",
       "</tr>\n",
       "</table>\n",
       "<table class=\"simpletable\">\n",
       "<tr>\n",
       "  <th>Omnibus:</th>       <td>462.699</td> <th>  Durbin-Watson:     </th> <td>   1.601</td>\n",
       "</tr>\n",
       "<tr>\n",
       "  <th>Prob(Omnibus):</th> <td> 0.000</td>  <th>  Jarque-Bera (JB):  </th> <td>1571.679</td>\n",
       "</tr>\n",
       "<tr>\n",
       "  <th>Skew:</th>          <td> 1.770</td>  <th>  Prob(JB):          </th> <td>    0.00</td>\n",
       "</tr>\n",
       "<tr>\n",
       "  <th>Kurtosis:</th>      <td> 7.085</td>  <th>  Cond. No.          </th> <td>3.47e+06</td>\n",
       "</tr>\n",
       "</table>"
      ],
      "text/plain": [
       "<class 'statsmodels.iolib.summary.Summary'>\n",
       "\"\"\"\n",
       "                               OLS Regression Results                              \n",
       "===================================================================================\n",
       "Dep. Variable:     annual_profit_per_store   R-squared:                       0.142\n",
       "Model:                                 OLS   Adj. R-squared:                  0.137\n",
       "Method:                      Least Squares   F-statistic:                     30.22\n",
       "Date:                     Thu, 08 Feb 2018   Prob (F-statistic):           7.33e-39\n",
       "Time:                             10:44:47   Log-Likelihood:                -15857.\n",
       "No. Observations:                     1291   AIC:                         3.173e+04\n",
       "Df Residuals:                         1283   BIC:                         3.177e+04\n",
       "Df Model:                                7                                         \n",
       "Covariance Type:                 nonrobust                                         \n",
       "======================================================================================\n",
       "                         coef    std err          t      P>|t|      [0.025      0.975]\n",
       "--------------------------------------------------------------------------------------\n",
       "const              -4.578e+04   2.66e+04     -1.720      0.086    -9.8e+04    6433.478\n",
       "metro              -2269.1697    996.993     -2.276      0.023   -4225.086    -313.254\n",
       "unemployment        1774.5834   2278.129      0.779      0.436   -2694.684    6243.851\n",
       "income                -0.6929      0.307     -2.260      0.024      -1.295      -0.091\n",
       "population             0.0111      0.015      0.759      0.448      -0.018       0.040\n",
       "ave_bottle_price    7892.7384    579.829     13.612      0.000    6755.221    9030.256\n",
       "ave_number_bottles   785.7100    317.604      2.474      0.013     162.631    1408.789\n",
       "density                9.5690      2.388      4.007      0.000       4.885      14.253\n",
       "==============================================================================\n",
       "Omnibus:                      462.699   Durbin-Watson:                   1.601\n",
       "Prob(Omnibus):                  0.000   Jarque-Bera (JB):             1571.679\n",
       "Skew:                           1.770   Prob(JB):                         0.00\n",
       "Kurtosis:                       7.085   Cond. No.                     3.47e+06\n",
       "==============================================================================\n",
       "\n",
       "Warnings:\n",
       "[1] Standard Errors assume that the covariance matrix of the errors is correctly specified.\n",
       "[2] The condition number is large, 3.47e+06. This might indicate that there are\n",
       "strong multicollinearity or other numerical problems.\n",
       "\"\"\""
      ]
     },
     "execution_count": 4,
     "metadata": {},
     "output_type": "execute_result"
    }
   ],
   "source": [
    "# regression model #1\n",
    "dep = stores['annual_profit_per_store'] # This is the outcome I want to predict\n",
    "indep = stores.drop(['store_id', 'fips',  'annual_profit_per_store',\n",
    "       'number_of_stores',  'unemp_bins', 'income_bins', 'pop_bins',\n",
    "       'nstores_bins', 'density_bins'], axis = 'columns') # These are the features that predict it\n",
    "indep = sm.add_constant(indep) # Add the intercept\n",
    "model = sm.OLS(dep,indep) # Instantiate the model\n",
    "results = model.fit() # Fit the model\n",
    "results.summary() # Summarize the results"
   ]
  },
  {
   "cell_type": "code",
   "execution_count": 5,
   "metadata": {
    "collapsed": true
   },
   "outputs": [],
   "source": [
    "# Hmm. That model only has an r2 of 14%, and 5 significant predictors. Let's try it differently"
   ]
  },
  {
   "cell_type": "markdown",
   "metadata": {},
   "source": [
    "## Model 2 - Population bins"
   ]
  },
  {
   "cell_type": "code",
   "execution_count": 6,
   "metadata": {},
   "outputs": [
    {
     "data": {
      "text/plain": [
       "(0, 30000]          487\n",
       "(100000, 200000]    204\n",
       "(300000, 500000]    189\n",
       "(30000, 50000]      188\n",
       "(70000, 100000]     117\n",
       "(200000, 300000]     91\n",
       "(50000, 70000]       15\n",
       "Name: pop_bins, dtype: int64"
      ]
     },
     "execution_count": 6,
     "metadata": {},
     "output_type": "execute_result"
    }
   ],
   "source": [
    "# Distribution of pop:\n",
    "stores.pop_bins.value_counts()"
   ]
  },
  {
   "cell_type": "code",
   "execution_count": 7,
   "metadata": {
    "collapsed": true
   },
   "outputs": [],
   "source": [
    "# Let's convert population to dummy variables\n",
    "model2 = pd.concat([stores, pd.get_dummies(stores['pop_bins'])], axis = 1);"
   ]
  },
  {
   "cell_type": "code",
   "execution_count": 8,
   "metadata": {},
   "outputs": [
    {
     "data": {
      "text/plain": [
       "Index(['store_id', 'fips', 'metro', 'unemployment', 'income', 'population',\n",
       "       'ave_bottle_price', 'ave_number_bottles', 'annual_profit_per_store',\n",
       "       'number_of_stores', 'density', 'unemp_bins', 'income_bins', 'pop_bins',\n",
       "       'nstores_bins', 'density_bins', '(0, 30000]', '(100000, 200000]',\n",
       "       '(200000, 300000]', '(30000, 50000]', '(300000, 500000]',\n",
       "       '(50000, 70000]', '(70000, 100000]'],\n",
       "      dtype='object')"
      ]
     },
     "execution_count": 8,
     "metadata": {},
     "output_type": "execute_result"
    }
   ],
   "source": [
    "model2.columns"
   ]
  },
  {
   "cell_type": "code",
   "execution_count": 9,
   "metadata": {
    "collapsed": true
   },
   "outputs": [],
   "source": [
    "# Let's see if population alone can predict store profits:"
   ]
  },
  {
   "cell_type": "code",
   "execution_count": 10,
   "metadata": {},
   "outputs": [
    {
     "data": {
      "text/html": [
       "<table class=\"simpletable\">\n",
       "<caption>OLS Regression Results</caption>\n",
       "<tr>\n",
       "  <th>Dep. Variable:</th>    <td>annual_profit_per_store</td> <th>  R-squared:         </th> <td>   0.010</td> \n",
       "</tr>\n",
       "<tr>\n",
       "  <th>Model:</th>                      <td>OLS</td>           <th>  Adj. R-squared:    </th> <td>   0.005</td> \n",
       "</tr>\n",
       "<tr>\n",
       "  <th>Method:</th>                <td>Least Squares</td>      <th>  F-statistic:       </th> <td>   2.155</td> \n",
       "</tr>\n",
       "<tr>\n",
       "  <th>Date:</th>                <td>Thu, 08 Feb 2018</td>     <th>  Prob (F-statistic):</th>  <td>0.0449</td>  \n",
       "</tr>\n",
       "<tr>\n",
       "  <th>Time:</th>                    <td>10:44:48</td>         <th>  Log-Likelihood:    </th> <td> -15949.</td> \n",
       "</tr>\n",
       "<tr>\n",
       "  <th>No. Observations:</th>         <td>  1291</td>          <th>  AIC:               </th> <td>3.191e+04</td>\n",
       "</tr>\n",
       "<tr>\n",
       "  <th>Df Residuals:</th>             <td>  1284</td>          <th>  BIC:               </th> <td>3.195e+04</td>\n",
       "</tr>\n",
       "<tr>\n",
       "  <th>Df Model:</th>                 <td>     6</td>          <th>                     </th>     <td> </td>    \n",
       "</tr>\n",
       "<tr>\n",
       "  <th>Covariance Type:</th>         <td>nonrobust</td>        <th>                     </th>     <td> </td>    \n",
       "</tr>\n",
       "</table>\n",
       "<table class=\"simpletable\">\n",
       "<tr>\n",
       "          <td></td>            <th>coef</th>     <th>std err</th>      <th>t</th>      <th>P>|t|</th>  <th>[0.025</th>    <th>0.975]</th>  \n",
       "</tr>\n",
       "<tr>\n",
       "  <th>const</th>            <td> 4.493e+04</td> <td> 2550.277</td> <td>   17.616</td> <td> 0.000</td> <td> 3.99e+04</td> <td> 4.99e+04</td>\n",
       "</tr>\n",
       "<tr>\n",
       "  <th>(100000, 200000]</th> <td>  1.23e+04</td> <td> 4693.656</td> <td>    2.620</td> <td> 0.009</td> <td> 3091.458</td> <td> 2.15e+04</td>\n",
       "</tr>\n",
       "<tr>\n",
       "  <th>(200000, 300000]</th> <td>-2938.0482</td> <td> 6427.329</td> <td>   -0.457</td> <td> 0.648</td> <td>-1.55e+04</td> <td> 9671.171</td>\n",
       "</tr>\n",
       "<tr>\n",
       "  <th>(30000, 50000]</th>   <td> 8508.4262</td> <td> 4832.371</td> <td>    1.761</td> <td> 0.079</td> <td> -971.783</td> <td>  1.8e+04</td>\n",
       "</tr>\n",
       "<tr>\n",
       "  <th>(300000, 500000]</th> <td> 5734.2655</td> <td> 4823.139</td> <td>    1.189</td> <td> 0.235</td> <td>-3727.832</td> <td> 1.52e+04</td>\n",
       "</tr>\n",
       "<tr>\n",
       "  <th>(50000, 70000]</th>   <td>-1.118e+04</td> <td> 1.48e+04</td> <td>   -0.758</td> <td> 0.449</td> <td>-4.01e+04</td> <td> 1.78e+04</td>\n",
       "</tr>\n",
       "<tr>\n",
       "  <th>(70000, 100000]</th>  <td>-3991.3940</td> <td> 5794.458</td> <td>   -0.689</td> <td> 0.491</td> <td>-1.54e+04</td> <td> 7376.251</td>\n",
       "</tr>\n",
       "</table>\n",
       "<table class=\"simpletable\">\n",
       "<tr>\n",
       "  <th>Omnibus:</th>       <td>524.357</td> <th>  Durbin-Watson:     </th> <td>   1.448</td>\n",
       "</tr>\n",
       "<tr>\n",
       "  <th>Prob(Omnibus):</th> <td> 0.000</td>  <th>  Jarque-Bera (JB):  </th> <td>1803.743</td>\n",
       "</tr>\n",
       "<tr>\n",
       "  <th>Skew:</th>          <td> 2.043</td>  <th>  Prob(JB):          </th> <td>    0.00</td>\n",
       "</tr>\n",
       "<tr>\n",
       "  <th>Kurtosis:</th>      <td> 7.103</td>  <th>  Cond. No.          </th> <td>    9.85</td>\n",
       "</tr>\n",
       "</table>"
      ],
      "text/plain": [
       "<class 'statsmodels.iolib.summary.Summary'>\n",
       "\"\"\"\n",
       "                               OLS Regression Results                              \n",
       "===================================================================================\n",
       "Dep. Variable:     annual_profit_per_store   R-squared:                       0.010\n",
       "Model:                                 OLS   Adj. R-squared:                  0.005\n",
       "Method:                      Least Squares   F-statistic:                     2.155\n",
       "Date:                     Thu, 08 Feb 2018   Prob (F-statistic):             0.0449\n",
       "Time:                             10:44:48   Log-Likelihood:                -15949.\n",
       "No. Observations:                     1291   AIC:                         3.191e+04\n",
       "Df Residuals:                         1284   BIC:                         3.195e+04\n",
       "Df Model:                                6                                         \n",
       "Covariance Type:                 nonrobust                                         \n",
       "====================================================================================\n",
       "                       coef    std err          t      P>|t|      [0.025      0.975]\n",
       "------------------------------------------------------------------------------------\n",
       "const             4.493e+04   2550.277     17.616      0.000    3.99e+04    4.99e+04\n",
       "(100000, 200000]   1.23e+04   4693.656      2.620      0.009    3091.458    2.15e+04\n",
       "(200000, 300000] -2938.0482   6427.329     -0.457      0.648   -1.55e+04    9671.171\n",
       "(30000, 50000]    8508.4262   4832.371      1.761      0.079    -971.783     1.8e+04\n",
       "(300000, 500000]  5734.2655   4823.139      1.189      0.235   -3727.832    1.52e+04\n",
       "(50000, 70000]   -1.118e+04   1.48e+04     -0.758      0.449   -4.01e+04    1.78e+04\n",
       "(70000, 100000]  -3991.3940   5794.458     -0.689      0.491   -1.54e+04    7376.251\n",
       "==============================================================================\n",
       "Omnibus:                      524.357   Durbin-Watson:                   1.448\n",
       "Prob(Omnibus):                  0.000   Jarque-Bera (JB):             1803.743\n",
       "Skew:                           2.043   Prob(JB):                         0.00\n",
       "Kurtosis:                       7.103   Cond. No.                         9.85\n",
       "==============================================================================\n",
       "\n",
       "Warnings:\n",
       "[1] Standard Errors assume that the covariance matrix of the errors is correctly specified.\n",
       "\"\"\""
      ]
     },
     "execution_count": 10,
     "metadata": {},
     "output_type": "execute_result"
    }
   ],
   "source": [
    "# regression model # 2\n",
    "dep = model2['annual_profit_per_store'] # This is the outcome I want to predict\n",
    "indep = model2.drop(['store_id', 'fips', 'metro', 'unemployment', 'income', 'population',\n",
    "       'ave_bottle_price', 'ave_number_bottles', 'annual_profit_per_store',\n",
    "       'number_of_stores', 'density', 'unemp_bins', 'income_bins', 'pop_bins',\n",
    "       'nstores_bins', 'density_bins', '(0, 30000]',], \n",
    "                    axis = 'columns') # These are the features that predict it\n",
    "indep = sm.add_constant(indep) # Add the intercept\n",
    "model = sm.OLS(dep,indep) # Instantiate the model\n",
    "results = model.fit() # Fit the model\n",
    "results.summary() # Summarize the results"
   ]
  },
  {
   "cell_type": "code",
   "execution_count": 11,
   "metadata": {
    "collapsed": true
   },
   "outputs": [],
   "source": [
    "# Only one population categories(100000-200000] has a significant effect\n",
    "# But the R-squared is only 1 percent"
   ]
  },
  {
   "cell_type": "markdown",
   "metadata": {},
   "source": [
    "## Model 3 - Unemployment"
   ]
  },
  {
   "cell_type": "code",
   "execution_count": 12,
   "metadata": {},
   "outputs": [
    {
     "data": {
      "text/plain": [
       "(3, 4]    748\n",
       "(4, 5]    286\n",
       "(2, 3]    214\n",
       "(5, 6]     27\n",
       "(6, 7]     16\n",
       "Name: unemp_bins, dtype: int64"
      ]
     },
     "execution_count": 12,
     "metadata": {},
     "output_type": "execute_result"
    }
   ],
   "source": [
    "# Distribution of unemployment:\n",
    "stores.unemp_bins.value_counts()"
   ]
  },
  {
   "cell_type": "code",
   "execution_count": 13,
   "metadata": {
    "collapsed": true
   },
   "outputs": [],
   "source": [
    "# Let's convert population to dummy variables\n",
    "model3 = pd.concat([stores, pd.get_dummies(stores['unemp_bins'])], axis = 1);"
   ]
  },
  {
   "cell_type": "code",
   "execution_count": 14,
   "metadata": {},
   "outputs": [
    {
     "data": {
      "text/plain": [
       "Index(['store_id', 'fips', 'metro', 'unemployment', 'income', 'population',\n",
       "       'ave_bottle_price', 'ave_number_bottles', 'annual_profit_per_store',\n",
       "       'number_of_stores', 'density', 'unemp_bins', 'income_bins', 'pop_bins',\n",
       "       'nstores_bins', 'density_bins', '(2, 3]', '(3, 4]', '(4, 5]', '(5, 6]',\n",
       "       '(6, 7]'],\n",
       "      dtype='object')"
      ]
     },
     "execution_count": 14,
     "metadata": {},
     "output_type": "execute_result"
    }
   ],
   "source": [
    " model3.columns"
   ]
  },
  {
   "cell_type": "code",
   "execution_count": 15,
   "metadata": {},
   "outputs": [
    {
     "data": {
      "text/html": [
       "<table class=\"simpletable\">\n",
       "<caption>OLS Regression Results</caption>\n",
       "<tr>\n",
       "  <th>Dep. Variable:</th>    <td>annual_profit_per_store</td> <th>  R-squared:         </th> <td>   0.005</td> \n",
       "</tr>\n",
       "<tr>\n",
       "  <th>Model:</th>                      <td>OLS</td>           <th>  Adj. R-squared:    </th> <td>   0.001</td> \n",
       "</tr>\n",
       "<tr>\n",
       "  <th>Method:</th>                <td>Least Squares</td>      <th>  F-statistic:       </th> <td>   1.479</td> \n",
       "</tr>\n",
       "<tr>\n",
       "  <th>Date:</th>                <td>Thu, 08 Feb 2018</td>     <th>  Prob (F-statistic):</th>  <td> 0.206</td>  \n",
       "</tr>\n",
       "<tr>\n",
       "  <th>Time:</th>                    <td>10:44:48</td>         <th>  Log-Likelihood:    </th> <td> -15953.</td> \n",
       "</tr>\n",
       "<tr>\n",
       "  <th>No. Observations:</th>         <td>  1291</td>          <th>  AIC:               </th> <td>3.192e+04</td>\n",
       "</tr>\n",
       "<tr>\n",
       "  <th>Df Residuals:</th>             <td>  1286</td>          <th>  BIC:               </th> <td>3.194e+04</td>\n",
       "</tr>\n",
       "<tr>\n",
       "  <th>Df Model:</th>                 <td>     4</td>          <th>                     </th>     <td> </td>    \n",
       "</tr>\n",
       "<tr>\n",
       "  <th>Covariance Type:</th>         <td>nonrobust</td>        <th>                     </th>     <td> </td>    \n",
       "</tr>\n",
       "</table>\n",
       "<table class=\"simpletable\">\n",
       "<tr>\n",
       "     <td></td>       <th>coef</th>     <th>std err</th>      <th>t</th>      <th>P>|t|</th>  <th>[0.025</th>    <th>0.975]</th>  \n",
       "</tr>\n",
       "<tr>\n",
       "  <th>const</th>  <td> 5.186e+04</td> <td> 3854.657</td> <td>   13.455</td> <td> 0.000</td> <td> 4.43e+04</td> <td> 5.94e+04</td>\n",
       "</tr>\n",
       "<tr>\n",
       "  <th>(3, 4]</th> <td>-6135.4284</td> <td> 4371.419</td> <td>   -1.404</td> <td> 0.161</td> <td>-1.47e+04</td> <td> 2440.467</td>\n",
       "</tr>\n",
       "<tr>\n",
       "  <th>(4, 5]</th> <td>-2087.1208</td> <td> 5096.684</td> <td>   -0.410</td> <td> 0.682</td> <td>-1.21e+04</td> <td> 7911.606</td>\n",
       "</tr>\n",
       "<tr>\n",
       "  <th>(5, 6]</th> <td> 1.201e+04</td> <td> 1.15e+04</td> <td>    1.043</td> <td> 0.297</td> <td>-1.06e+04</td> <td> 3.46e+04</td>\n",
       "</tr>\n",
       "<tr>\n",
       "  <th>(6, 7]</th> <td>  1.22e+04</td> <td> 1.46e+04</td> <td>    0.835</td> <td> 0.404</td> <td>-1.65e+04</td> <td> 4.09e+04</td>\n",
       "</tr>\n",
       "</table>\n",
       "<table class=\"simpletable\">\n",
       "<tr>\n",
       "  <th>Omnibus:</th>       <td>526.328</td> <th>  Durbin-Watson:     </th> <td>   1.436</td>\n",
       "</tr>\n",
       "<tr>\n",
       "  <th>Prob(Omnibus):</th> <td> 0.000</td>  <th>  Jarque-Bera (JB):  </th> <td>1818.064</td>\n",
       "</tr>\n",
       "<tr>\n",
       "  <th>Skew:</th>          <td> 2.050</td>  <th>  Prob(JB):          </th> <td>    0.00</td>\n",
       "</tr>\n",
       "<tr>\n",
       "  <th>Kurtosis:</th>      <td> 7.122</td>  <th>  Cond. No.          </th> <td>    11.4</td>\n",
       "</tr>\n",
       "</table>"
      ],
      "text/plain": [
       "<class 'statsmodels.iolib.summary.Summary'>\n",
       "\"\"\"\n",
       "                               OLS Regression Results                              \n",
       "===================================================================================\n",
       "Dep. Variable:     annual_profit_per_store   R-squared:                       0.005\n",
       "Model:                                 OLS   Adj. R-squared:                  0.001\n",
       "Method:                      Least Squares   F-statistic:                     1.479\n",
       "Date:                     Thu, 08 Feb 2018   Prob (F-statistic):              0.206\n",
       "Time:                             10:44:48   Log-Likelihood:                -15953.\n",
       "No. Observations:                     1291   AIC:                         3.192e+04\n",
       "Df Residuals:                         1286   BIC:                         3.194e+04\n",
       "Df Model:                                4                                         \n",
       "Covariance Type:                 nonrobust                                         \n",
       "==============================================================================\n",
       "                 coef    std err          t      P>|t|      [0.025      0.975]\n",
       "------------------------------------------------------------------------------\n",
       "const       5.186e+04   3854.657     13.455      0.000    4.43e+04    5.94e+04\n",
       "(3, 4]     -6135.4284   4371.419     -1.404      0.161   -1.47e+04    2440.467\n",
       "(4, 5]     -2087.1208   5096.684     -0.410      0.682   -1.21e+04    7911.606\n",
       "(5, 6]      1.201e+04   1.15e+04      1.043      0.297   -1.06e+04    3.46e+04\n",
       "(6, 7]       1.22e+04   1.46e+04      0.835      0.404   -1.65e+04    4.09e+04\n",
       "==============================================================================\n",
       "Omnibus:                      526.328   Durbin-Watson:                   1.436\n",
       "Prob(Omnibus):                  0.000   Jarque-Bera (JB):             1818.064\n",
       "Skew:                           2.050   Prob(JB):                         0.00\n",
       "Kurtosis:                       7.122   Cond. No.                         11.4\n",
       "==============================================================================\n",
       "\n",
       "Warnings:\n",
       "[1] Standard Errors assume that the covariance matrix of the errors is correctly specified.\n",
       "\"\"\""
      ]
     },
     "execution_count": 15,
     "metadata": {},
     "output_type": "execute_result"
    }
   ],
   "source": [
    "# regression model # 3\n",
    "dep = model3['annual_profit_per_store'] # This is the outcome I want to predict\n",
    "indep = model3.drop(['store_id', 'fips', 'metro', 'unemployment', 'income', 'population',\n",
    "       'ave_bottle_price', 'ave_number_bottles', 'annual_profit_per_store',\n",
    "       'number_of_stores', 'density', 'unemp_bins', 'income_bins', 'pop_bins',\n",
    "       'nstores_bins', 'density_bins', '(2, 3]',], \n",
    "                    axis = 'columns') # These are the features that predict it\n",
    "indep = sm.add_constant(indep) # Add the intercept\n",
    "model = sm.OLS(dep,indep) # Instantiate the model\n",
    "results = model.fit() # Fit the model\n",
    "results.summary() # Summarize the results"
   ]
  },
  {
   "cell_type": "code",
   "execution_count": 16,
   "metadata": {
    "collapsed": true
   },
   "outputs": [],
   "source": [
    "# None of the unemployment brackets have a sig effect on annual profits\n",
    "# The model has an R2 of only 5%\n",
    "# Let's drop unemployment from our final model"
   ]
  },
  {
   "cell_type": "markdown",
   "metadata": {},
   "source": [
    "## Model 3 - Income"
   ]
  },
  {
   "cell_type": "code",
   "execution_count": 17,
   "metadata": {},
   "outputs": [
    {
     "data": {
      "text/plain": [
       "(47000, 70000]     1219\n",
       "(70000, 100000]      37\n",
       "(40000, 47000]       24\n",
       "(0, 40000]           11\n",
       "Name: income_bins, dtype: int64"
      ]
     },
     "execution_count": 17,
     "metadata": {},
     "output_type": "execute_result"
    }
   ],
   "source": [
    "# Distribution of county-level median household income:\n",
    "stores.income_bins.value_counts()"
   ]
  },
  {
   "cell_type": "code",
   "execution_count": 18,
   "metadata": {
    "collapsed": true
   },
   "outputs": [],
   "source": [
    "# Let's convert to dummy variables\n",
    "model4 = pd.concat([stores, pd.get_dummies(stores['income_bins'])], axis = 1);"
   ]
  },
  {
   "cell_type": "code",
   "execution_count": 19,
   "metadata": {},
   "outputs": [
    {
     "data": {
      "text/plain": [
       "Index(['store_id', 'fips', 'metro', 'unemployment', 'income', 'population',\n",
       "       'ave_bottle_price', 'ave_number_bottles', 'annual_profit_per_store',\n",
       "       'number_of_stores', 'density', 'unemp_bins', 'income_bins', 'pop_bins',\n",
       "       'nstores_bins', 'density_bins', '(0, 40000]', '(40000, 47000]',\n",
       "       '(47000, 70000]', '(70000, 100000]'],\n",
       "      dtype='object')"
      ]
     },
     "execution_count": 19,
     "metadata": {},
     "output_type": "execute_result"
    }
   ],
   "source": [
    "model4.columns"
   ]
  },
  {
   "cell_type": "code",
   "execution_count": 20,
   "metadata": {},
   "outputs": [
    {
     "data": {
      "text/html": [
       "<table class=\"simpletable\">\n",
       "<caption>OLS Regression Results</caption>\n",
       "<tr>\n",
       "  <th>Dep. Variable:</th>    <td>annual_profit_per_store</td> <th>  R-squared:         </th> <td>   0.004</td> \n",
       "</tr>\n",
       "<tr>\n",
       "  <th>Model:</th>                      <td>OLS</td>           <th>  Adj. R-squared:    </th> <td>   0.001</td> \n",
       "</tr>\n",
       "<tr>\n",
       "  <th>Method:</th>                <td>Least Squares</td>      <th>  F-statistic:       </th> <td>   1.607</td> \n",
       "</tr>\n",
       "<tr>\n",
       "  <th>Date:</th>                <td>Thu, 08 Feb 2018</td>     <th>  Prob (F-statistic):</th>  <td> 0.186</td>  \n",
       "</tr>\n",
       "<tr>\n",
       "  <th>Time:</th>                    <td>10:44:48</td>         <th>  Log-Likelihood:    </th> <td> -15953.</td> \n",
       "</tr>\n",
       "<tr>\n",
       "  <th>No. Observations:</th>         <td>  1291</td>          <th>  AIC:               </th> <td>3.191e+04</td>\n",
       "</tr>\n",
       "<tr>\n",
       "  <th>Df Residuals:</th>             <td>  1287</td>          <th>  BIC:               </th> <td>3.194e+04</td>\n",
       "</tr>\n",
       "<tr>\n",
       "  <th>Df Model:</th>                 <td>     3</td>          <th>                     </th>     <td> </td>    \n",
       "</tr>\n",
       "<tr>\n",
       "  <th>Covariance Type:</th>         <td>nonrobust</td>        <th>                     </th>     <td> </td>    \n",
       "</tr>\n",
       "</table>\n",
       "<table class=\"simpletable\">\n",
       "<tr>\n",
       "         <td></td>            <th>coef</th>     <th>std err</th>      <th>t</th>      <th>P>|t|</th>  <th>[0.025</th>    <th>0.975]</th>  \n",
       "</tr>\n",
       "<tr>\n",
       "  <th>const</th>           <td> 3.634e+04</td> <td>  1.7e+04</td> <td>    2.137</td> <td> 0.033</td> <td> 2986.937</td> <td> 6.97e+04</td>\n",
       "</tr>\n",
       "<tr>\n",
       "  <th>(40000, 47000]</th>  <td> 2.924e+04</td> <td> 2.05e+04</td> <td>    1.424</td> <td> 0.155</td> <td> -1.1e+04</td> <td> 6.95e+04</td>\n",
       "</tr>\n",
       "<tr>\n",
       "  <th>(47000, 70000]</th>  <td> 1.208e+04</td> <td> 1.71e+04</td> <td>    0.707</td> <td> 0.480</td> <td>-2.14e+04</td> <td> 4.56e+04</td>\n",
       "</tr>\n",
       "<tr>\n",
       "  <th>(70000, 100000]</th> <td>-1370.3603</td> <td> 1.94e+04</td> <td>   -0.071</td> <td> 0.944</td> <td>-3.94e+04</td> <td> 3.66e+04</td>\n",
       "</tr>\n",
       "</table>\n",
       "<table class=\"simpletable\">\n",
       "<tr>\n",
       "  <th>Omnibus:</th>       <td>523.555</td> <th>  Durbin-Watson:     </th> <td>   1.438</td>\n",
       "</tr>\n",
       "<tr>\n",
       "  <th>Prob(Omnibus):</th> <td> 0.000</td>  <th>  Jarque-Bera (JB):  </th> <td>1794.079</td>\n",
       "</tr>\n",
       "<tr>\n",
       "  <th>Skew:</th>          <td> 2.042</td>  <th>  Prob(JB):          </th> <td>    0.00</td>\n",
       "</tr>\n",
       "<tr>\n",
       "  <th>Kurtosis:</th>      <td> 7.084</td>  <th>  Cond. No.          </th> <td>    30.7</td>\n",
       "</tr>\n",
       "</table>"
      ],
      "text/plain": [
       "<class 'statsmodels.iolib.summary.Summary'>\n",
       "\"\"\"\n",
       "                               OLS Regression Results                              \n",
       "===================================================================================\n",
       "Dep. Variable:     annual_profit_per_store   R-squared:                       0.004\n",
       "Model:                                 OLS   Adj. R-squared:                  0.001\n",
       "Method:                      Least Squares   F-statistic:                     1.607\n",
       "Date:                     Thu, 08 Feb 2018   Prob (F-statistic):              0.186\n",
       "Time:                             10:44:48   Log-Likelihood:                -15953.\n",
       "No. Observations:                     1291   AIC:                         3.191e+04\n",
       "Df Residuals:                         1287   BIC:                         3.194e+04\n",
       "Df Model:                                3                                         \n",
       "Covariance Type:                 nonrobust                                         \n",
       "===================================================================================\n",
       "                      coef    std err          t      P>|t|      [0.025      0.975]\n",
       "-----------------------------------------------------------------------------------\n",
       "const            3.634e+04    1.7e+04      2.137      0.033    2986.937    6.97e+04\n",
       "(40000, 47000]   2.924e+04   2.05e+04      1.424      0.155    -1.1e+04    6.95e+04\n",
       "(47000, 70000]   1.208e+04   1.71e+04      0.707      0.480   -2.14e+04    4.56e+04\n",
       "(70000, 100000] -1370.3603   1.94e+04     -0.071      0.944   -3.94e+04    3.66e+04\n",
       "==============================================================================\n",
       "Omnibus:                      523.555   Durbin-Watson:                   1.438\n",
       "Prob(Omnibus):                  0.000   Jarque-Bera (JB):             1794.079\n",
       "Skew:                           2.042   Prob(JB):                         0.00\n",
       "Kurtosis:                       7.084   Cond. No.                         30.7\n",
       "==============================================================================\n",
       "\n",
       "Warnings:\n",
       "[1] Standard Errors assume that the covariance matrix of the errors is correctly specified.\n",
       "\"\"\""
      ]
     },
     "execution_count": 20,
     "metadata": {},
     "output_type": "execute_result"
    }
   ],
   "source": [
    "# regression model # 4\n",
    "dep = model4['annual_profit_per_store'] # This is the outcome I want to predict\n",
    "indep = model4.drop(['store_id', 'fips', 'metro', 'unemployment', 'income', 'population',\n",
    "       'ave_bottle_price', 'ave_number_bottles', 'annual_profit_per_store',\n",
    "       'number_of_stores', 'density', 'unemp_bins', 'income_bins', 'pop_bins',\n",
    "       'nstores_bins', 'density_bins', '(0, 40000]'],\n",
    "                    axis = 'columns') # These are the features that predict it\n",
    "indep = sm.add_constant(indep) # Add the intercept\n",
    "model = sm.OLS(dep,indep) # Instantiate the model\n",
    "results = model.fit() # Fit the model\n",
    "results.summary() # Summarize the results"
   ]
  },
  {
   "cell_type": "code",
   "execution_count": 21,
   "metadata": {
    "collapsed": true
   },
   "outputs": [],
   "source": [
    "# None of the income brackets has a sig effect on annual profits\n",
    "# The model has an R2 of only 4%"
   ]
  },
  {
   "cell_type": "markdown",
   "metadata": {},
   "source": [
    "## Model 5 - Rural Bins"
   ]
  },
  {
   "cell_type": "code",
   "execution_count": 22,
   "metadata": {
    "collapsed": true
   },
   "outputs": [],
   "source": [
    "# What happens if we convert metro/rural to a dummy?\n",
    "model5 = pd.concat([stores, pd.get_dummies(stores['metro'])], axis = 1);"
   ]
  },
  {
   "cell_type": "code",
   "execution_count": 23,
   "metadata": {},
   "outputs": [
    {
     "data": {
      "text/plain": [
       "Index([               'store_id',                    'fips',\n",
       "                         'metro',            'unemployment',\n",
       "                        'income',              'population',\n",
       "              'ave_bottle_price',      'ave_number_bottles',\n",
       "       'annual_profit_per_store',        'number_of_stores',\n",
       "                       'density',              'unemp_bins',\n",
       "                   'income_bins',                'pop_bins',\n",
       "                  'nstores_bins',            'density_bins',\n",
       "                             2.0,                       3.0,\n",
       "                             4.0,                       5.0,\n",
       "                             6.0,                       7.0,\n",
       "                             8.0,                       9.0],\n",
       "      dtype='object')"
      ]
     },
     "execution_count": 23,
     "metadata": {},
     "output_type": "execute_result"
    }
   ],
   "source": [
    "model5.columns"
   ]
  },
  {
   "cell_type": "code",
   "execution_count": 24,
   "metadata": {},
   "outputs": [
    {
     "data": {
      "text/html": [
       "<table class=\"simpletable\">\n",
       "<caption>OLS Regression Results</caption>\n",
       "<tr>\n",
       "  <th>Dep. Variable:</th>    <td>annual_profit_per_store</td> <th>  R-squared:         </th> <td>   0.021</td> \n",
       "</tr>\n",
       "<tr>\n",
       "  <th>Model:</th>                      <td>OLS</td>           <th>  Adj. R-squared:    </th> <td>   0.016</td> \n",
       "</tr>\n",
       "<tr>\n",
       "  <th>Method:</th>                <td>Least Squares</td>      <th>  F-statistic:       </th> <td>   4.002</td> \n",
       "</tr>\n",
       "<tr>\n",
       "  <th>Date:</th>                <td>Thu, 08 Feb 2018</td>     <th>  Prob (F-statistic):</th> <td>0.000243</td> \n",
       "</tr>\n",
       "<tr>\n",
       "  <th>Time:</th>                    <td>10:44:48</td>         <th>  Log-Likelihood:    </th> <td> -15942.</td> \n",
       "</tr>\n",
       "<tr>\n",
       "  <th>No. Observations:</th>         <td>  1291</td>          <th>  AIC:               </th> <td>3.190e+04</td>\n",
       "</tr>\n",
       "<tr>\n",
       "  <th>Df Residuals:</th>             <td>  1283</td>          <th>  BIC:               </th> <td>3.194e+04</td>\n",
       "</tr>\n",
       "<tr>\n",
       "  <th>Df Model:</th>                 <td>     7</td>          <th>                     </th>     <td> </td>    \n",
       "</tr>\n",
       "<tr>\n",
       "  <th>Covariance Type:</th>         <td>nonrobust</td>        <th>                     </th>     <td> </td>    \n",
       "</tr>\n",
       "</table>\n",
       "<table class=\"simpletable\">\n",
       "<tr>\n",
       "    <td></td>       <th>coef</th>     <th>std err</th>      <th>t</th>      <th>P>|t|</th>  <th>[0.025</th>    <th>0.975]</th>  \n",
       "</tr>\n",
       "<tr>\n",
       "  <th>const</th> <td> 4.654e+04</td> <td> 2630.009</td> <td>   17.697</td> <td> 0.000</td> <td> 4.14e+04</td> <td> 5.17e+04</td>\n",
       "</tr>\n",
       "<tr>\n",
       "  <th>3.0</th>   <td> 6551.5305</td> <td> 4433.312</td> <td>    1.478</td> <td> 0.140</td> <td>-2145.806</td> <td> 1.52e+04</td>\n",
       "</tr>\n",
       "<tr>\n",
       "  <th>4.0</th>   <td>-4532.2736</td> <td> 8418.042</td> <td>   -0.538</td> <td> 0.590</td> <td> -2.1e+04</td> <td>  1.2e+04</td>\n",
       "</tr>\n",
       "<tr>\n",
       "  <th>5.0</th>   <td> 1.754e+04</td> <td> 6521.005</td> <td>    2.689</td> <td> 0.007</td> <td> 4745.166</td> <td> 3.03e+04</td>\n",
       "</tr>\n",
       "<tr>\n",
       "  <th>6.0</th>   <td> 4326.5066</td> <td> 4820.438</td> <td>    0.898</td> <td> 0.370</td> <td>-5130.300</td> <td> 1.38e+04</td>\n",
       "</tr>\n",
       "<tr>\n",
       "  <th>7.0</th>   <td> 3186.9394</td> <td> 5034.737</td> <td>    0.633</td> <td> 0.527</td> <td>-6690.282</td> <td> 1.31e+04</td>\n",
       "</tr>\n",
       "<tr>\n",
       "  <th>8.0</th>   <td>-2.163e+04</td> <td> 8195.987</td> <td>   -2.639</td> <td> 0.008</td> <td>-3.77e+04</td> <td>-5547.691</td>\n",
       "</tr>\n",
       "<tr>\n",
       "  <th>9.0</th>   <td>-2.382e+04</td> <td> 9129.118</td> <td>   -2.609</td> <td> 0.009</td> <td>-4.17e+04</td> <td>-5910.264</td>\n",
       "</tr>\n",
       "</table>\n",
       "<table class=\"simpletable\">\n",
       "<tr>\n",
       "  <th>Omnibus:</th>       <td>507.854</td> <th>  Durbin-Watson:     </th> <td>   1.458</td>\n",
       "</tr>\n",
       "<tr>\n",
       "  <th>Prob(Omnibus):</th> <td> 0.000</td>  <th>  Jarque-Bera (JB):  </th> <td>1686.526</td>\n",
       "</tr>\n",
       "<tr>\n",
       "  <th>Skew:</th>          <td> 1.987</td>  <th>  Prob(JB):          </th> <td>    0.00</td>\n",
       "</tr>\n",
       "<tr>\n",
       "  <th>Kurtosis:</th>      <td> 6.944</td>  <th>  Cond. No.          </th> <td>    6.81</td>\n",
       "</tr>\n",
       "</table>"
      ],
      "text/plain": [
       "<class 'statsmodels.iolib.summary.Summary'>\n",
       "\"\"\"\n",
       "                               OLS Regression Results                              \n",
       "===================================================================================\n",
       "Dep. Variable:     annual_profit_per_store   R-squared:                       0.021\n",
       "Model:                                 OLS   Adj. R-squared:                  0.016\n",
       "Method:                      Least Squares   F-statistic:                     4.002\n",
       "Date:                     Thu, 08 Feb 2018   Prob (F-statistic):           0.000243\n",
       "Time:                             10:44:48   Log-Likelihood:                -15942.\n",
       "No. Observations:                     1291   AIC:                         3.190e+04\n",
       "Df Residuals:                         1283   BIC:                         3.194e+04\n",
       "Df Model:                                7                                         \n",
       "Covariance Type:                 nonrobust                                         \n",
       "==============================================================================\n",
       "                 coef    std err          t      P>|t|      [0.025      0.975]\n",
       "------------------------------------------------------------------------------\n",
       "const       4.654e+04   2630.009     17.697      0.000    4.14e+04    5.17e+04\n",
       "3.0         6551.5305   4433.312      1.478      0.140   -2145.806    1.52e+04\n",
       "4.0        -4532.2736   8418.042     -0.538      0.590    -2.1e+04     1.2e+04\n",
       "5.0         1.754e+04   6521.005      2.689      0.007    4745.166    3.03e+04\n",
       "6.0         4326.5066   4820.438      0.898      0.370   -5130.300    1.38e+04\n",
       "7.0         3186.9394   5034.737      0.633      0.527   -6690.282    1.31e+04\n",
       "8.0        -2.163e+04   8195.987     -2.639      0.008   -3.77e+04   -5547.691\n",
       "9.0        -2.382e+04   9129.118     -2.609      0.009   -4.17e+04   -5910.264\n",
       "==============================================================================\n",
       "Omnibus:                      507.854   Durbin-Watson:                   1.458\n",
       "Prob(Omnibus):                  0.000   Jarque-Bera (JB):             1686.526\n",
       "Skew:                           1.987   Prob(JB):                         0.00\n",
       "Kurtosis:                       6.944   Cond. No.                         6.81\n",
       "==============================================================================\n",
       "\n",
       "Warnings:\n",
       "[1] Standard Errors assume that the covariance matrix of the errors is correctly specified.\n",
       "\"\"\""
      ]
     },
     "execution_count": 24,
     "metadata": {},
     "output_type": "execute_result"
    }
   ],
   "source": [
    "# regression model # 5a\n",
    "dep = model5['annual_profit_per_store'] # This is the outcome I want to predict\n",
    "indep = model5.drop(['store_id',                    'fips',\n",
    "                         'metro',            'unemployment',\n",
    "                        'income',              'population',\n",
    "              'ave_bottle_price',      'ave_number_bottles',\n",
    "       'annual_profit_per_store',        'number_of_stores',\n",
    "                       'density',              'unemp_bins',\n",
    "                   'income_bins',                'pop_bins',\n",
    "                  'nstores_bins',            'density_bins',\n",
    "                             2.0],\n",
    "                    axis = 'columns') # These are the features that predict it\n",
    "indep = sm.add_constant(indep) # Add the intercept\n",
    "model = sm.OLS(dep,indep) # Instantiate the model\n",
    "results = model.fit() # Fit the model\n",
    "results.summary() # Summarize the results"
   ]
  },
  {
   "cell_type": "code",
   "execution_count": 25,
   "metadata": {},
   "outputs": [
    {
     "name": "stdout",
     "output_type": "stream",
     "text": [
      "False    1203\n",
      "True       88\n",
      "Name: Bool_Suburban, dtype: int64\n"
     ]
    },
    {
     "data": {
      "text/plain": [
       "Index(['store_id', 'fips', 'metro', 'unemployment', 'income', 'population',\n",
       "       'ave_bottle_price', 'ave_number_bottles', 'annual_profit_per_store',\n",
       "       'number_of_stores', 'density', 'unemp_bins', 'income_bins', 'pop_bins',\n",
       "       'nstores_bins', 'density_bins', 'suburbs'],\n",
       "      dtype='object')"
      ]
     },
     "execution_count": 25,
     "metadata": {},
     "output_type": "execute_result"
    }
   ],
   "source": [
    "# A couple of metro values (5, 8, and 9) have a sig effect on the outcome, but in opposite directions.\n",
    "# Let's try a different approach\n",
    "# Suburbs\n",
    "stores['Bool_Suburban']=stores['metro']==5\n",
    "print(stores['Bool_Suburban'].value_counts())\n",
    "stores = pd.concat([stores, pd.get_dummies(stores['Bool_Suburban'])], axis = 1);\n",
    "stores.drop(['Bool_Suburban', False], axis=1, inplace=True)\n",
    "stores.rename(columns = {True: 'suburbs'}, inplace=True)\n",
    "stores.columns"
   ]
  },
  {
   "cell_type": "code",
   "execution_count": 26,
   "metadata": {},
   "outputs": [
    {
     "name": "stdout",
     "output_type": "stream",
     "text": [
      "False    929\n",
      "True     362\n",
      "Name: Bool_Town, dtype: int64\n"
     ]
    },
    {
     "data": {
      "text/plain": [
       "Index(['store_id', 'fips', 'metro', 'unemployment', 'income', 'population',\n",
       "       'ave_bottle_price', 'ave_number_bottles', 'annual_profit_per_store',\n",
       "       'number_of_stores', 'density', 'unemp_bins', 'income_bins', 'pop_bins',\n",
       "       'nstores_bins', 'density_bins', 'suburbs', 'town'],\n",
       "      dtype='object')"
      ]
     },
     "execution_count": 26,
     "metadata": {},
     "output_type": "execute_result"
    }
   ],
   "source": [
    "# Towns\n",
    "stores['Bool_Town']=(stores['metro']==6) | (stores['metro']==7)\n",
    "print(stores['Bool_Town'].value_counts())\n",
    "stores = pd.concat([stores, pd.get_dummies(stores['Bool_Town'])], axis = 1);\n",
    "stores.drop(['Bool_Town', False], axis=1, inplace=True)\n",
    "stores.rename(columns = {True: 'town'}, inplace=True)\n",
    "stores.columns"
   ]
  },
  {
   "cell_type": "code",
   "execution_count": 27,
   "metadata": {},
   "outputs": [
    {
     "name": "stdout",
     "output_type": "stream",
     "text": [
      "False    1198\n",
      "True       93\n",
      "Name: Bool_Rural, dtype: int64\n"
     ]
    },
    {
     "data": {
      "text/plain": [
       "Index(['store_id', 'fips', 'metro', 'unemployment', 'income', 'population',\n",
       "       'ave_bottle_price', 'ave_number_bottles', 'annual_profit_per_store',\n",
       "       'number_of_stores', 'density', 'unemp_bins', 'income_bins', 'pop_bins',\n",
       "       'nstores_bins', 'density_bins', 'suburbs', 'town', 'rural'],\n",
       "      dtype='object')"
      ]
     },
     "execution_count": 27,
     "metadata": {},
     "output_type": "execute_result"
    }
   ],
   "source": [
    "# Rural\n",
    "stores['Bool_Rural']=(stores['metro']>7)\n",
    "print(stores['Bool_Rural'].value_counts())\n",
    "stores = pd.concat([stores, pd.get_dummies(stores['Bool_Rural'])], axis = 1);\n",
    "stores.drop(['Bool_Rural', False], axis=1, inplace=True)\n",
    "stores.rename(columns = {True: 'rural'}, inplace=True)\n",
    "stores.columns"
   ]
  },
  {
   "cell_type": "code",
   "execution_count": 28,
   "metadata": {},
   "outputs": [
    {
     "data": {
      "text/plain": [
       "Index(['store_id', 'fips', 'metro', 'unemployment', 'income', 'population',\n",
       "       'ave_bottle_price', 'ave_number_bottles', 'annual_profit_per_store',\n",
       "       'number_of_stores', 'density', 'unemp_bins', 'income_bins', 'pop_bins',\n",
       "       'nstores_bins', 'density_bins', 'suburbs', 'town', 'rural'],\n",
       "      dtype='object')"
      ]
     },
     "execution_count": 28,
     "metadata": {},
     "output_type": "execute_result"
    }
   ],
   "source": [
    "stores.columns"
   ]
  },
  {
   "cell_type": "code",
   "execution_count": 29,
   "metadata": {},
   "outputs": [
    {
     "data": {
      "text/html": [
       "<table class=\"simpletable\">\n",
       "<caption>OLS Regression Results</caption>\n",
       "<tr>\n",
       "  <th>Dep. Variable:</th>    <td>annual_profit_per_store</td> <th>  R-squared:         </th> <td>   0.019</td> \n",
       "</tr>\n",
       "<tr>\n",
       "  <th>Model:</th>                      <td>OLS</td>           <th>  Adj. R-squared:    </th> <td>   0.017</td> \n",
       "</tr>\n",
       "<tr>\n",
       "  <th>Method:</th>                <td>Least Squares</td>      <th>  F-statistic:       </th> <td>   8.365</td> \n",
       "</tr>\n",
       "<tr>\n",
       "  <th>Date:</th>                <td>Thu, 08 Feb 2018</td>     <th>  Prob (F-statistic):</th> <td>1.65e-05</td> \n",
       "</tr>\n",
       "<tr>\n",
       "  <th>Time:</th>                    <td>10:44:48</td>         <th>  Log-Likelihood:    </th> <td> -15943.</td> \n",
       "</tr>\n",
       "<tr>\n",
       "  <th>No. Observations:</th>         <td>  1291</td>          <th>  AIC:               </th> <td>3.189e+04</td>\n",
       "</tr>\n",
       "<tr>\n",
       "  <th>Df Residuals:</th>             <td>  1287</td>          <th>  BIC:               </th> <td>3.192e+04</td>\n",
       "</tr>\n",
       "<tr>\n",
       "  <th>Df Model:</th>                 <td>     3</td>          <th>                     </th>     <td> </td>    \n",
       "</tr>\n",
       "<tr>\n",
       "  <th>Covariance Type:</th>         <td>nonrobust</td>        <th>                     </th>     <td> </td>    \n",
       "</tr>\n",
       "</table>\n",
       "<table class=\"simpletable\">\n",
       "<tr>\n",
       "     <td></td>        <th>coef</th>     <th>std err</th>      <th>t</th>      <th>P>|t|</th>  <th>[0.025</th>    <th>0.975]</th>  \n",
       "</tr>\n",
       "<tr>\n",
       "  <th>const</th>   <td>  4.84e+04</td> <td> 2045.863</td> <td>   23.657</td> <td> 0.000</td> <td> 4.44e+04</td> <td> 5.24e+04</td>\n",
       "</tr>\n",
       "<tr>\n",
       "  <th>suburbs</th> <td> 1.568e+04</td> <td> 6305.774</td> <td>    2.487</td> <td> 0.013</td> <td> 3309.699</td> <td> 2.81e+04</td>\n",
       "</tr>\n",
       "<tr>\n",
       "  <th>town</th>    <td> 1933.6033</td> <td> 3582.480</td> <td>    0.540</td> <td> 0.589</td> <td>-5094.538</td> <td> 8961.745</td>\n",
       "</tr>\n",
       "<tr>\n",
       "  <th>rural</th>   <td>-2.445e+04</td> <td> 6152.238</td> <td>   -3.974</td> <td> 0.000</td> <td>-3.65e+04</td> <td>-1.24e+04</td>\n",
       "</tr>\n",
       "</table>\n",
       "<table class=\"simpletable\">\n",
       "<tr>\n",
       "  <th>Omnibus:</th>       <td>511.848</td> <th>  Durbin-Watson:     </th> <td>   1.455</td>\n",
       "</tr>\n",
       "<tr>\n",
       "  <th>Prob(Omnibus):</th> <td> 0.000</td>  <th>  Jarque-Bera (JB):  </th> <td>1720.858</td>\n",
       "</tr>\n",
       "<tr>\n",
       "  <th>Skew:</th>          <td> 1.998</td>  <th>  Prob(JB):          </th> <td>    0.00</td>\n",
       "</tr>\n",
       "<tr>\n",
       "  <th>Kurtosis:</th>      <td> 7.002</td>  <th>  Cond. No.          </th> <td>    4.54</td>\n",
       "</tr>\n",
       "</table>"
      ],
      "text/plain": [
       "<class 'statsmodels.iolib.summary.Summary'>\n",
       "\"\"\"\n",
       "                               OLS Regression Results                              \n",
       "===================================================================================\n",
       "Dep. Variable:     annual_profit_per_store   R-squared:                       0.019\n",
       "Model:                                 OLS   Adj. R-squared:                  0.017\n",
       "Method:                      Least Squares   F-statistic:                     8.365\n",
       "Date:                     Thu, 08 Feb 2018   Prob (F-statistic):           1.65e-05\n",
       "Time:                             10:44:48   Log-Likelihood:                -15943.\n",
       "No. Observations:                     1291   AIC:                         3.189e+04\n",
       "Df Residuals:                         1287   BIC:                         3.192e+04\n",
       "Df Model:                                3                                         \n",
       "Covariance Type:                 nonrobust                                         \n",
       "==============================================================================\n",
       "                 coef    std err          t      P>|t|      [0.025      0.975]\n",
       "------------------------------------------------------------------------------\n",
       "const        4.84e+04   2045.863     23.657      0.000    4.44e+04    5.24e+04\n",
       "suburbs     1.568e+04   6305.774      2.487      0.013    3309.699    2.81e+04\n",
       "town        1933.6033   3582.480      0.540      0.589   -5094.538    8961.745\n",
       "rural      -2.445e+04   6152.238     -3.974      0.000   -3.65e+04   -1.24e+04\n",
       "==============================================================================\n",
       "Omnibus:                      511.848   Durbin-Watson:                   1.455\n",
       "Prob(Omnibus):                  0.000   Jarque-Bera (JB):             1720.858\n",
       "Skew:                           1.998   Prob(JB):                         0.00\n",
       "Kurtosis:                       7.002   Cond. No.                         4.54\n",
       "==============================================================================\n",
       "\n",
       "Warnings:\n",
       "[1] Standard Errors assume that the covariance matrix of the errors is correctly specified.\n",
       "\"\"\""
      ]
     },
     "execution_count": 29,
     "metadata": {},
     "output_type": "execute_result"
    }
   ],
   "source": [
    "# Let's run a new regression model with these dummies\n",
    "# regression model # 5b\n",
    "dep = stores['annual_profit_per_store'] # This is the outcome I want to predict\n",
    "indep = stores.drop(['store_id', 'fips', 'metro', 'unemployment', 'income', 'population',\n",
    "       'ave_bottle_price', 'ave_number_bottles', 'annual_profit_per_store',\n",
    "       'number_of_stores', 'density', 'unemp_bins', 'income_bins', 'pop_bins',\n",
    "       'nstores_bins', 'density_bins', ],  axis = 'columns') # These are the features that predict it\n",
    "indep = sm.add_constant(indep) # Add the intercept\n",
    "model = sm.OLS(dep,indep) # Instantiate the model\n",
    "results = model.fit() # Fit the model\n",
    "results.summary() # Summarize the results"
   ]
  },
  {
   "cell_type": "code",
   "execution_count": 30,
   "metadata": {
    "collapsed": true
   },
   "outputs": [],
   "source": [
    "# Okay, this seems promising. \n",
    "# We see a significant effect for suburban (positive) and rural (negative) compared to urban."
   ]
  },
  {
   "cell_type": "markdown",
   "metadata": {
    "collapsed": true
   },
   "source": [
    "## Model 6: Density"
   ]
  },
  {
   "cell_type": "code",
   "execution_count": 31,
   "metadata": {
    "collapsed": true
   },
   "outputs": [],
   "source": [
    "# What happens if we convert metro/rural to a dummy?\n",
    "model6 = pd.concat([stores, pd.get_dummies(stores['density_bins'])], axis = 1);"
   ]
  },
  {
   "cell_type": "code",
   "execution_count": 32,
   "metadata": {},
   "outputs": [
    {
     "data": {
      "text/plain": [
       "Index(['store_id', 'fips', 'metro', 'unemployment', 'income', 'population',\n",
       "       'ave_bottle_price', 'ave_number_bottles', 'annual_profit_per_store',\n",
       "       'number_of_stores', 'density', 'unemp_bins', 'income_bins', 'pop_bins',\n",
       "       'nstores_bins', 'density_bins', 'suburbs', 'town', 'rural', '(0, 1000]',\n",
       "       '(1000, 2000]', '(2000, 3000]', '(3000, 4000]', '(4000, 10000]'],\n",
       "      dtype='object')"
      ]
     },
     "execution_count": 32,
     "metadata": {},
     "output_type": "execute_result"
    }
   ],
   "source": [
    "model6.columns"
   ]
  },
  {
   "cell_type": "code",
   "execution_count": 33,
   "metadata": {},
   "outputs": [
    {
     "data": {
      "text/html": [
       "<table class=\"simpletable\">\n",
       "<caption>OLS Regression Results</caption>\n",
       "<tr>\n",
       "  <th>Dep. Variable:</th>    <td>annual_profit_per_store</td> <th>  R-squared:         </th> <td>   0.010</td> \n",
       "</tr>\n",
       "<tr>\n",
       "  <th>Model:</th>                      <td>OLS</td>           <th>  Adj. R-squared:    </th> <td>   0.008</td> \n",
       "</tr>\n",
       "<tr>\n",
       "  <th>Method:</th>                <td>Least Squares</td>      <th>  F-statistic:       </th> <td>   6.268</td> \n",
       "</tr>\n",
       "<tr>\n",
       "  <th>Date:</th>                <td>Thu, 08 Feb 2018</td>     <th>  Prob (F-statistic):</th>  <td>0.00195</td> \n",
       "</tr>\n",
       "<tr>\n",
       "  <th>Time:</th>                    <td>10:44:48</td>         <th>  Log-Likelihood:    </th> <td> -15950.</td> \n",
       "</tr>\n",
       "<tr>\n",
       "  <th>No. Observations:</th>         <td>  1291</td>          <th>  AIC:               </th> <td>3.191e+04</td>\n",
       "</tr>\n",
       "<tr>\n",
       "  <th>Df Residuals:</th>             <td>  1288</td>          <th>  BIC:               </th> <td>3.192e+04</td>\n",
       "</tr>\n",
       "<tr>\n",
       "  <th>Df Model:</th>                 <td>     2</td>          <th>                     </th>     <td> </td>    \n",
       "</tr>\n",
       "<tr>\n",
       "  <th>Covariance Type:</th>         <td>nonrobust</td>        <th>                     </th>     <td> </td>    \n",
       "</tr>\n",
       "</table>\n",
       "<table class=\"simpletable\">\n",
       "<tr>\n",
       "        <td></td>           <th>coef</th>     <th>std err</th>      <th>t</th>      <th>P>|t|</th>  <th>[0.025</th>    <th>0.975]</th>  \n",
       "</tr>\n",
       "<tr>\n",
       "  <th>const</th>         <td> 4.666e+04</td> <td> 1636.785</td> <td>   28.504</td> <td> 0.000</td> <td> 4.34e+04</td> <td> 4.99e+04</td>\n",
       "</tr>\n",
       "<tr>\n",
       "  <th>(3000, 4000]</th>  <td> 1.441e+04</td> <td> 6382.376</td> <td>    2.257</td> <td> 0.024</td> <td> 1884.357</td> <td> 2.69e+04</td>\n",
       "</tr>\n",
       "<tr>\n",
       "  <th>(4000, 10000]</th> <td> 2.974e+04</td> <td> 1.06e+04</td> <td>    2.815</td> <td> 0.005</td> <td> 9017.775</td> <td> 5.05e+04</td>\n",
       "</tr>\n",
       "</table>\n",
       "<table class=\"simpletable\">\n",
       "<tr>\n",
       "  <th>Omnibus:</th>       <td>531.598</td> <th>  Durbin-Watson:     </th> <td>   1.445</td>\n",
       "</tr>\n",
       "<tr>\n",
       "  <th>Prob(Omnibus):</th> <td> 0.000</td>  <th>  Jarque-Bera (JB):  </th> <td>1872.150</td>\n",
       "</tr>\n",
       "<tr>\n",
       "  <th>Skew:</th>          <td> 2.063</td>  <th>  Prob(JB):          </th> <td>    0.00</td>\n",
       "</tr>\n",
       "<tr>\n",
       "  <th>Kurtosis:</th>      <td> 7.218</td>  <th>  Cond. No.          </th> <td>    6.78</td>\n",
       "</tr>\n",
       "</table>"
      ],
      "text/plain": [
       "<class 'statsmodels.iolib.summary.Summary'>\n",
       "\"\"\"\n",
       "                               OLS Regression Results                              \n",
       "===================================================================================\n",
       "Dep. Variable:     annual_profit_per_store   R-squared:                       0.010\n",
       "Model:                                 OLS   Adj. R-squared:                  0.008\n",
       "Method:                      Least Squares   F-statistic:                     6.268\n",
       "Date:                     Thu, 08 Feb 2018   Prob (F-statistic):            0.00195\n",
       "Time:                             10:44:48   Log-Likelihood:                -15950.\n",
       "No. Observations:                     1291   AIC:                         3.191e+04\n",
       "Df Residuals:                         1288   BIC:                         3.192e+04\n",
       "Df Model:                                2                                         \n",
       "Covariance Type:                 nonrobust                                         \n",
       "=================================================================================\n",
       "                    coef    std err          t      P>|t|      [0.025      0.975]\n",
       "---------------------------------------------------------------------------------\n",
       "const          4.666e+04   1636.785     28.504      0.000    4.34e+04    4.99e+04\n",
       "(3000, 4000]   1.441e+04   6382.376      2.257      0.024    1884.357    2.69e+04\n",
       "(4000, 10000]  2.974e+04   1.06e+04      2.815      0.005    9017.775    5.05e+04\n",
       "==============================================================================\n",
       "Omnibus:                      531.598   Durbin-Watson:                   1.445\n",
       "Prob(Omnibus):                  0.000   Jarque-Bera (JB):             1872.150\n",
       "Skew:                           2.063   Prob(JB):                         0.00\n",
       "Kurtosis:                       7.218   Cond. No.                         6.78\n",
       "==============================================================================\n",
       "\n",
       "Warnings:\n",
       "[1] Standard Errors assume that the covariance matrix of the errors is correctly specified.\n",
       "\"\"\""
      ]
     },
     "execution_count": 33,
     "metadata": {},
     "output_type": "execute_result"
    }
   ],
   "source": [
    "# regression model # 7\n",
    "dep = model6['annual_profit_per_store'] # This is the outcome I want to predict\n",
    "indep = model6.drop(['store_id', 'fips', 'metro', 'unemployment', 'income', 'population',\n",
    "       'ave_bottle_price', 'ave_number_bottles', 'annual_profit_per_store',\n",
    "       'number_of_stores', 'density', 'unemp_bins', 'income_bins', 'pop_bins',\n",
    "       'nstores_bins', 'density_bins', 'suburbs', 'town', 'rural', '(0, 1000]',\n",
    "       '(1000, 2000]', '(2000, 3000]'], \n",
    "                    axis = 'columns') # These are the features that predict it\n",
    "indep = sm.add_constant(indep) # Add the intercept\n",
    "model = sm.OLS(dep,indep) # Instantiate the model\n",
    "results = model.fit() # Fit the model\n",
    "results.summary() # Summarize the results"
   ]
  },
  {
   "cell_type": "code",
   "execution_count": null,
   "metadata": {
    "collapsed": true
   },
   "outputs": [],
   "source": []
  },
  {
   "cell_type": "markdown",
   "metadata": {},
   "source": [
    "## Model 7 - Final Model"
   ]
  },
  {
   "cell_type": "code",
   "execution_count": 34,
   "metadata": {},
   "outputs": [
    {
     "data": {
      "text/plain": [
       "Index(['store_id', 'fips', 'metro', 'unemployment', 'income', 'population',\n",
       "       'ave_bottle_price', 'ave_number_bottles', 'annual_profit_per_store',\n",
       "       'number_of_stores', 'density', 'unemp_bins', 'income_bins', 'pop_bins',\n",
       "       'nstores_bins', 'density_bins', 'suburbs', 'town', 'rural'],\n",
       "      dtype='object')"
      ]
     },
     "execution_count": 34,
     "metadata": {},
     "output_type": "execute_result"
    }
   ],
   "source": [
    "stores.columns"
   ]
  },
  {
   "cell_type": "markdown",
   "metadata": {},
   "source": [
    "#### Model 7a: income, density, and the metro dummies"
   ]
  },
  {
   "cell_type": "code",
   "execution_count": 35,
   "metadata": {},
   "outputs": [
    {
     "data": {
      "text/html": [
       "<table class=\"simpletable\">\n",
       "<caption>OLS Regression Results</caption>\n",
       "<tr>\n",
       "  <th>Dep. Variable:</th>    <td>annual_profit_per_store</td> <th>  R-squared:         </th> <td>   0.150</td> \n",
       "</tr>\n",
       "<tr>\n",
       "  <th>Model:</th>                      <td>OLS</td>           <th>  Adj. R-squared:    </th> <td>   0.145</td> \n",
       "</tr>\n",
       "<tr>\n",
       "  <th>Method:</th>                <td>Least Squares</td>      <th>  F-statistic:       </th> <td>   32.37</td> \n",
       "</tr>\n",
       "<tr>\n",
       "  <th>Date:</th>                <td>Thu, 08 Feb 2018</td>     <th>  Prob (F-statistic):</th> <td>1.36e-41</td> \n",
       "</tr>\n",
       "<tr>\n",
       "  <th>Time:</th>                    <td>10:44:48</td>         <th>  Log-Likelihood:    </th> <td> -15851.</td> \n",
       "</tr>\n",
       "<tr>\n",
       "  <th>No. Observations:</th>         <td>  1291</td>          <th>  AIC:               </th> <td>3.172e+04</td>\n",
       "</tr>\n",
       "<tr>\n",
       "  <th>Df Residuals:</th>             <td>  1283</td>          <th>  BIC:               </th> <td>3.176e+04</td>\n",
       "</tr>\n",
       "<tr>\n",
       "  <th>Df Model:</th>                 <td>     7</td>          <th>                     </th>     <td> </td>    \n",
       "</tr>\n",
       "<tr>\n",
       "  <th>Covariance Type:</th>         <td>nonrobust</td>        <th>                     </th>     <td> </td>    \n",
       "</tr>\n",
       "</table>\n",
       "<table class=\"simpletable\">\n",
       "<tr>\n",
       "           <td></td>             <th>coef</th>     <th>std err</th>      <th>t</th>      <th>P>|t|</th>  <th>[0.025</th>    <th>0.975]</th>  \n",
       "</tr>\n",
       "<tr>\n",
       "  <th>const</th>              <td> -5.97e+04</td> <td> 1.77e+04</td> <td>   -3.364</td> <td> 0.001</td> <td>-9.45e+04</td> <td>-2.49e+04</td>\n",
       "</tr>\n",
       "<tr>\n",
       "  <th>income</th>             <td>   -0.3593</td> <td>    0.250</td> <td>   -1.439</td> <td> 0.150</td> <td>   -0.849</td> <td>    0.131</td>\n",
       "</tr>\n",
       "<tr>\n",
       "  <th>ave_bottle_price</th>   <td> 7786.1751</td> <td>  574.078</td> <td>   13.563</td> <td> 0.000</td> <td> 6659.941</td> <td> 8912.409</td>\n",
       "</tr>\n",
       "<tr>\n",
       "  <th>ave_number_bottles</th> <td>  756.2020</td> <td>  315.638</td> <td>    2.396</td> <td> 0.017</td> <td>  136.979</td> <td> 1375.425</td>\n",
       "</tr>\n",
       "<tr>\n",
       "  <th>density</th>            <td>    8.2945</td> <td>    2.311</td> <td>    3.590</td> <td> 0.000</td> <td>    3.762</td> <td>   12.827</td>\n",
       "</tr>\n",
       "<tr>\n",
       "  <th>suburbs</th>            <td> 1.212e+04</td> <td> 6541.873</td> <td>    1.853</td> <td> 0.064</td> <td> -712.449</td> <td>  2.5e+04</td>\n",
       "</tr>\n",
       "<tr>\n",
       "  <th>town</th>               <td>-3716.8030</td> <td> 3760.933</td> <td>   -0.988</td> <td> 0.323</td> <td>-1.11e+04</td> <td> 3661.450</td>\n",
       "</tr>\n",
       "<tr>\n",
       "  <th>rural</th>              <td>-2.611e+04</td> <td> 6162.575</td> <td>   -4.236</td> <td> 0.000</td> <td>-3.82e+04</td> <td> -1.4e+04</td>\n",
       "</tr>\n",
       "</table>\n",
       "<table class=\"simpletable\">\n",
       "<tr>\n",
       "  <th>Omnibus:</th>       <td>449.191</td> <th>  Durbin-Watson:     </th> <td>   1.609</td>\n",
       "</tr>\n",
       "<tr>\n",
       "  <th>Prob(Omnibus):</th> <td> 0.000</td>  <th>  Jarque-Bera (JB):  </th> <td>1478.241</td>\n",
       "</tr>\n",
       "<tr>\n",
       "  <th>Skew:</th>          <td> 1.727</td>  <th>  Prob(JB):          </th> <td>    0.00</td>\n",
       "</tr>\n",
       "<tr>\n",
       "  <th>Kurtosis:</th>      <td> 6.943</td>  <th>  Cond. No.          </th> <td>7.19e+05</td>\n",
       "</tr>\n",
       "</table>"
      ],
      "text/plain": [
       "<class 'statsmodels.iolib.summary.Summary'>\n",
       "\"\"\"\n",
       "                               OLS Regression Results                              \n",
       "===================================================================================\n",
       "Dep. Variable:     annual_profit_per_store   R-squared:                       0.150\n",
       "Model:                                 OLS   Adj. R-squared:                  0.145\n",
       "Method:                      Least Squares   F-statistic:                     32.37\n",
       "Date:                     Thu, 08 Feb 2018   Prob (F-statistic):           1.36e-41\n",
       "Time:                             10:44:48   Log-Likelihood:                -15851.\n",
       "No. Observations:                     1291   AIC:                         3.172e+04\n",
       "Df Residuals:                         1283   BIC:                         3.176e+04\n",
       "Df Model:                                7                                         \n",
       "Covariance Type:                 nonrobust                                         \n",
       "======================================================================================\n",
       "                         coef    std err          t      P>|t|      [0.025      0.975]\n",
       "--------------------------------------------------------------------------------------\n",
       "const               -5.97e+04   1.77e+04     -3.364      0.001   -9.45e+04   -2.49e+04\n",
       "income                -0.3593      0.250     -1.439      0.150      -0.849       0.131\n",
       "ave_bottle_price    7786.1751    574.078     13.563      0.000    6659.941    8912.409\n",
       "ave_number_bottles   756.2020    315.638      2.396      0.017     136.979    1375.425\n",
       "density                8.2945      2.311      3.590      0.000       3.762      12.827\n",
       "suburbs             1.212e+04   6541.873      1.853      0.064    -712.449     2.5e+04\n",
       "town               -3716.8030   3760.933     -0.988      0.323   -1.11e+04    3661.450\n",
       "rural              -2.611e+04   6162.575     -4.236      0.000   -3.82e+04    -1.4e+04\n",
       "==============================================================================\n",
       "Omnibus:                      449.191   Durbin-Watson:                   1.609\n",
       "Prob(Omnibus):                  0.000   Jarque-Bera (JB):             1478.241\n",
       "Skew:                           1.727   Prob(JB):                         0.00\n",
       "Kurtosis:                       6.943   Cond. No.                     7.19e+05\n",
       "==============================================================================\n",
       "\n",
       "Warnings:\n",
       "[1] Standard Errors assume that the covariance matrix of the errors is correctly specified.\n",
       "[2] The condition number is large, 7.19e+05. This might indicate that there are\n",
       "strong multicollinearity or other numerical problems.\n",
       "\"\"\""
      ]
     },
     "execution_count": 35,
     "metadata": {},
     "output_type": "execute_result"
    }
   ],
   "source": [
    "# regression model # 7a\n",
    "dep = stores['annual_profit_per_store'] # This is the outcome I want to predict\n",
    "indep = stores.drop(['store_id', 'fips', 'metro', 'unemployment',  'population',\n",
    "        'annual_profit_per_store',\n",
    "       'number_of_stores',  'unemp_bins', 'income_bins', 'pop_bins',\n",
    "       'nstores_bins', 'density_bins'], \n",
    "                    axis = 'columns') # These are the features that predict it\n",
    "indep = sm.add_constant(indep) # Add the intercept\n",
    "model = sm.OLS(dep,indep) # Instantiate the model\n",
    "results = model.fit() # Fit the model\n",
    "results.summary() # Summarize the results"
   ]
  },
  {
   "cell_type": "markdown",
   "metadata": {},
   "source": [
    "#### Model 7b. Density, Income dummies, and Metro"
   ]
  },
  {
   "cell_type": "code",
   "execution_count": 36,
   "metadata": {
    "collapsed": true
   },
   "outputs": [],
   "source": [
    "# Dummify income.\n",
    "model7b = pd.concat([stores, pd.get_dummies(stores['income_bins'])], axis = 1);"
   ]
  },
  {
   "cell_type": "code",
   "execution_count": 37,
   "metadata": {},
   "outputs": [
    {
     "data": {
      "text/plain": [
       "Index(['store_id', 'fips', 'metro', 'unemployment', 'income', 'population',\n",
       "       'ave_bottle_price', 'ave_number_bottles', 'annual_profit_per_store',\n",
       "       'number_of_stores', 'density', 'unemp_bins', 'income_bins', 'pop_bins',\n",
       "       'nstores_bins', 'density_bins', 'suburbs', 'town', 'rural',\n",
       "       '(0, 40000]', '(40000, 47000]', '(47000, 70000]', '(70000, 100000]'],\n",
       "      dtype='object')"
      ]
     },
     "execution_count": 37,
     "metadata": {},
     "output_type": "execute_result"
    }
   ],
   "source": [
    "model7b.columns"
   ]
  },
  {
   "cell_type": "code",
   "execution_count": 38,
   "metadata": {},
   "outputs": [
    {
     "data": {
      "text/html": [
       "<table class=\"simpletable\">\n",
       "<caption>OLS Regression Results</caption>\n",
       "<tr>\n",
       "  <th>Dep. Variable:</th>    <td>annual_profit_per_store</td> <th>  R-squared:         </th> <td>   0.141</td> \n",
       "</tr>\n",
       "<tr>\n",
       "  <th>Model:</th>                      <td>OLS</td>           <th>  Adj. R-squared:    </th> <td>   0.136</td> \n",
       "</tr>\n",
       "<tr>\n",
       "  <th>Method:</th>                <td>Least Squares</td>      <th>  F-statistic:       </th> <td>   30.06</td> \n",
       "</tr>\n",
       "<tr>\n",
       "  <th>Date:</th>                <td>Thu, 08 Feb 2018</td>     <th>  Prob (F-statistic):</th> <td>1.20e-38</td> \n",
       "</tr>\n",
       "<tr>\n",
       "  <th>Time:</th>                    <td>10:44:48</td>         <th>  Log-Likelihood:    </th> <td> -15858.</td> \n",
       "</tr>\n",
       "<tr>\n",
       "  <th>No. Observations:</th>         <td>  1291</td>          <th>  AIC:               </th> <td>3.173e+04</td>\n",
       "</tr>\n",
       "<tr>\n",
       "  <th>Df Residuals:</th>             <td>  1283</td>          <th>  BIC:               </th> <td>3.177e+04</td>\n",
       "</tr>\n",
       "<tr>\n",
       "  <th>Df Model:</th>                 <td>     7</td>          <th>                     </th>     <td> </td>    \n",
       "</tr>\n",
       "<tr>\n",
       "  <th>Covariance Type:</th>         <td>nonrobust</td>        <th>                     </th>     <td> </td>    \n",
       "</tr>\n",
       "</table>\n",
       "<table class=\"simpletable\">\n",
       "<tr>\n",
       "           <td></td>             <th>coef</th>     <th>std err</th>      <th>t</th>      <th>P>|t|</th>  <th>[0.025</th>    <th>0.975]</th>  \n",
       "</tr>\n",
       "<tr>\n",
       "  <th>const</th>              <td>-8.806e+04</td> <td> 1.97e+04</td> <td>   -4.481</td> <td> 0.000</td> <td>-1.27e+05</td> <td>-4.95e+04</td>\n",
       "</tr>\n",
       "<tr>\n",
       "  <th>metro</th>              <td>-1826.9938</td> <td>  700.377</td> <td>   -2.609</td> <td> 0.009</td> <td>-3201.004</td> <td> -452.983</td>\n",
       "</tr>\n",
       "<tr>\n",
       "  <th>ave_bottle_price</th>   <td> 7843.0057</td> <td>  577.123</td> <td>   13.590</td> <td> 0.000</td> <td> 6710.798</td> <td> 8975.214</td>\n",
       "</tr>\n",
       "<tr>\n",
       "  <th>ave_number_bottles</th> <td>  878.8674</td> <td>  316.071</td> <td>    2.781</td> <td> 0.006</td> <td>  258.795</td> <td> 1498.940</td>\n",
       "</tr>\n",
       "<tr>\n",
       "  <th>density</th>            <td>    9.1529</td> <td>    2.385</td> <td>    3.837</td> <td> 0.000</td> <td>    4.474</td> <td>   13.832</td>\n",
       "</tr>\n",
       "<tr>\n",
       "  <th>(40000, 47000]</th>     <td>  2.35e+04</td> <td> 1.93e+04</td> <td>    1.220</td> <td> 0.223</td> <td>-1.43e+04</td> <td> 6.13e+04</td>\n",
       "</tr>\n",
       "<tr>\n",
       "  <th>(47000, 70000]</th>     <td> 1.012e+04</td> <td> 1.61e+04</td> <td>    0.629</td> <td> 0.530</td> <td>-2.15e+04</td> <td> 4.17e+04</td>\n",
       "</tr>\n",
       "<tr>\n",
       "  <th>(70000, 100000]</th>    <td>-1.434e+04</td> <td> 1.86e+04</td> <td>   -0.771</td> <td> 0.441</td> <td>-5.08e+04</td> <td> 2.22e+04</td>\n",
       "</tr>\n",
       "</table>\n",
       "<table class=\"simpletable\">\n",
       "<tr>\n",
       "  <th>Omnibus:</th>       <td>461.245</td> <th>  Durbin-Watson:     </th> <td>   1.602</td>\n",
       "</tr>\n",
       "<tr>\n",
       "  <th>Prob(Omnibus):</th> <td> 0.000</td>  <th>  Jarque-Bera (JB):  </th> <td>1554.823</td>\n",
       "</tr>\n",
       "<tr>\n",
       "  <th>Skew:</th>          <td> 1.768</td>  <th>  Prob(JB):          </th> <td>    0.00</td>\n",
       "</tr>\n",
       "<tr>\n",
       "  <th>Kurtosis:</th>      <td> 7.051</td>  <th>  Cond. No.          </th> <td>5.27e+04</td>\n",
       "</tr>\n",
       "</table>"
      ],
      "text/plain": [
       "<class 'statsmodels.iolib.summary.Summary'>\n",
       "\"\"\"\n",
       "                               OLS Regression Results                              \n",
       "===================================================================================\n",
       "Dep. Variable:     annual_profit_per_store   R-squared:                       0.141\n",
       "Model:                                 OLS   Adj. R-squared:                  0.136\n",
       "Method:                      Least Squares   F-statistic:                     30.06\n",
       "Date:                     Thu, 08 Feb 2018   Prob (F-statistic):           1.20e-38\n",
       "Time:                             10:44:48   Log-Likelihood:                -15858.\n",
       "No. Observations:                     1291   AIC:                         3.173e+04\n",
       "Df Residuals:                         1283   BIC:                         3.177e+04\n",
       "Df Model:                                7                                         \n",
       "Covariance Type:                 nonrobust                                         \n",
       "======================================================================================\n",
       "                         coef    std err          t      P>|t|      [0.025      0.975]\n",
       "--------------------------------------------------------------------------------------\n",
       "const              -8.806e+04   1.97e+04     -4.481      0.000   -1.27e+05   -4.95e+04\n",
       "metro              -1826.9938    700.377     -2.609      0.009   -3201.004    -452.983\n",
       "ave_bottle_price    7843.0057    577.123     13.590      0.000    6710.798    8975.214\n",
       "ave_number_bottles   878.8674    316.071      2.781      0.006     258.795    1498.940\n",
       "density                9.1529      2.385      3.837      0.000       4.474      13.832\n",
       "(40000, 47000]       2.35e+04   1.93e+04      1.220      0.223   -1.43e+04    6.13e+04\n",
       "(47000, 70000]      1.012e+04   1.61e+04      0.629      0.530   -2.15e+04    4.17e+04\n",
       "(70000, 100000]    -1.434e+04   1.86e+04     -0.771      0.441   -5.08e+04    2.22e+04\n",
       "==============================================================================\n",
       "Omnibus:                      461.245   Durbin-Watson:                   1.602\n",
       "Prob(Omnibus):                  0.000   Jarque-Bera (JB):             1554.823\n",
       "Skew:                           1.768   Prob(JB):                         0.00\n",
       "Kurtosis:                       7.051   Cond. No.                     5.27e+04\n",
       "==============================================================================\n",
       "\n",
       "Warnings:\n",
       "[1] Standard Errors assume that the covariance matrix of the errors is correctly specified.\n",
       "[2] The condition number is large, 5.27e+04. This might indicate that there are\n",
       "strong multicollinearity or other numerical problems.\n",
       "\"\"\""
      ]
     },
     "execution_count": 38,
     "metadata": {},
     "output_type": "execute_result"
    }
   ],
   "source": [
    "# regression model # 7b\n",
    "dep = model7b['annual_profit_per_store'] # This is the outcome I want to predict\n",
    "indep = model7b.drop(['store_id', 'fips', 'unemployment', 'income', 'population',\n",
    "       'annual_profit_per_store',\n",
    "       'number_of_stores', 'unemp_bins', 'income_bins', 'pop_bins',\n",
    "       'nstores_bins', 'density_bins', 'suburbs', 'town', 'rural',\n",
    "       '(0, 40000]'], \n",
    "                    axis = 'columns') # These are the features that predict it\n",
    "indep = sm.add_constant(indep) # Add the intercept\n",
    "model = sm.OLS(dep,indep) # Instantiate the model\n",
    "results = model.fit() # Fit the model\n",
    "results.summary() # Summarize the results"
   ]
  },
  {
   "cell_type": "code",
   "execution_count": 39,
   "metadata": {
    "collapsed": true
   },
   "outputs": [],
   "source": [
    "# Median Household Income just doesn't have a significant impact once you include metro status.\n",
    "# We'll have to drop it from the model."
   ]
  },
  {
   "cell_type": "markdown",
   "metadata": {},
   "source": [
    "#### Model 7c: Drop income; keep density and the metro dummies"
   ]
  },
  {
   "cell_type": "code",
   "execution_count": 44,
   "metadata": {},
   "outputs": [
    {
     "data": {
      "text/html": [
       "<table class=\"simpletable\">\n",
       "<caption>OLS Regression Results</caption>\n",
       "<tr>\n",
       "  <th>Dep. Variable:</th>    <td>annual_profit_per_store</td> <th>  R-squared:         </th> <td>   0.149</td> \n",
       "</tr>\n",
       "<tr>\n",
       "  <th>Model:</th>                      <td>OLS</td>           <th>  Adj. R-squared:    </th> <td>   0.145</td> \n",
       "</tr>\n",
       "<tr>\n",
       "  <th>Method:</th>                <td>Least Squares</td>      <th>  F-statistic:       </th> <td>   37.39</td> \n",
       "</tr>\n",
       "<tr>\n",
       "  <th>Date:</th>                <td>Thu, 08 Feb 2018</td>     <th>  Prob (F-statistic):</th> <td>5.83e-42</td> \n",
       "</tr>\n",
       "<tr>\n",
       "  <th>Time:</th>                    <td>10:46:55</td>         <th>  Log-Likelihood:    </th> <td> -15852.</td> \n",
       "</tr>\n",
       "<tr>\n",
       "  <th>No. Observations:</th>         <td>  1291</td>          <th>  AIC:               </th> <td>3.172e+04</td>\n",
       "</tr>\n",
       "<tr>\n",
       "  <th>Df Residuals:</th>             <td>  1284</td>          <th>  BIC:               </th> <td>3.175e+04</td>\n",
       "</tr>\n",
       "<tr>\n",
       "  <th>Df Model:</th>                 <td>     6</td>          <th>                     </th>     <td> </td>    \n",
       "</tr>\n",
       "<tr>\n",
       "  <th>Covariance Type:</th>         <td>nonrobust</td>        <th>                     </th>     <td> </td>    \n",
       "</tr>\n",
       "</table>\n",
       "<table class=\"simpletable\">\n",
       "<tr>\n",
       "           <td></td>             <th>coef</th>     <th>std err</th>      <th>t</th>      <th>P>|t|</th>  <th>[0.025</th>    <th>0.975]</th>  \n",
       "</tr>\n",
       "<tr>\n",
       "  <th>const</th>              <td>-8.045e+04</td> <td> 1.03e+04</td> <td>   -7.773</td> <td> 0.000</td> <td>-1.01e+05</td> <td>-6.01e+04</td>\n",
       "</tr>\n",
       "<tr>\n",
       "  <th>ave_bottle_price</th>   <td> 7775.1602</td> <td>  574.266</td> <td>   13.539</td> <td> 0.000</td> <td> 6648.558</td> <td> 8901.763</td>\n",
       "</tr>\n",
       "<tr>\n",
       "  <th>ave_number_bottles</th> <td>  781.6108</td> <td>  315.275</td> <td>    2.479</td> <td> 0.013</td> <td>  163.101</td> <td> 1400.121</td>\n",
       "</tr>\n",
       "<tr>\n",
       "  <th>density</th>            <td>    7.8649</td> <td>    2.292</td> <td>    3.431</td> <td> 0.001</td> <td>    3.368</td> <td>   12.362</td>\n",
       "</tr>\n",
       "<tr>\n",
       "  <th>suburbs</th>            <td> 1.621e+04</td> <td> 5895.357</td> <td>    2.749</td> <td> 0.006</td> <td> 4642.786</td> <td> 2.78e+04</td>\n",
       "</tr>\n",
       "<tr>\n",
       "  <th>town</th>               <td>-1332.6517</td> <td> 3377.547</td> <td>   -0.395</td> <td> 0.693</td> <td>-7958.768</td> <td> 5293.465</td>\n",
       "</tr>\n",
       "<tr>\n",
       "  <th>rural</th>              <td>-2.338e+04</td> <td> 5865.936</td> <td>   -3.986</td> <td> 0.000</td> <td>-3.49e+04</td> <td>-1.19e+04</td>\n",
       "</tr>\n",
       "</table>\n",
       "<table class=\"simpletable\">\n",
       "<tr>\n",
       "  <th>Omnibus:</th>       <td>449.601</td> <th>  Durbin-Watson:     </th> <td>   1.607</td>\n",
       "</tr>\n",
       "<tr>\n",
       "  <th>Prob(Omnibus):</th> <td> 0.000</td>  <th>  Jarque-Bera (JB):  </th> <td>1479.830</td>\n",
       "</tr>\n",
       "<tr>\n",
       "  <th>Skew:</th>          <td> 1.729</td>  <th>  Prob(JB):          </th> <td>    0.00</td>\n",
       "</tr>\n",
       "<tr>\n",
       "  <th>Kurtosis:</th>      <td> 6.944</td>  <th>  Cond. No.          </th> <td>1.66e+04</td>\n",
       "</tr>\n",
       "</table>"
      ],
      "text/plain": [
       "<class 'statsmodels.iolib.summary.Summary'>\n",
       "\"\"\"\n",
       "                               OLS Regression Results                              \n",
       "===================================================================================\n",
       "Dep. Variable:     annual_profit_per_store   R-squared:                       0.149\n",
       "Model:                                 OLS   Adj. R-squared:                  0.145\n",
       "Method:                      Least Squares   F-statistic:                     37.39\n",
       "Date:                     Thu, 08 Feb 2018   Prob (F-statistic):           5.83e-42\n",
       "Time:                             10:46:55   Log-Likelihood:                -15852.\n",
       "No. Observations:                     1291   AIC:                         3.172e+04\n",
       "Df Residuals:                         1284   BIC:                         3.175e+04\n",
       "Df Model:                                6                                         \n",
       "Covariance Type:                 nonrobust                                         \n",
       "======================================================================================\n",
       "                         coef    std err          t      P>|t|      [0.025      0.975]\n",
       "--------------------------------------------------------------------------------------\n",
       "const              -8.045e+04   1.03e+04     -7.773      0.000   -1.01e+05   -6.01e+04\n",
       "ave_bottle_price    7775.1602    574.266     13.539      0.000    6648.558    8901.763\n",
       "ave_number_bottles   781.6108    315.275      2.479      0.013     163.101    1400.121\n",
       "density                7.8649      2.292      3.431      0.001       3.368      12.362\n",
       "suburbs             1.621e+04   5895.357      2.749      0.006    4642.786    2.78e+04\n",
       "town               -1332.6517   3377.547     -0.395      0.693   -7958.768    5293.465\n",
       "rural              -2.338e+04   5865.936     -3.986      0.000   -3.49e+04   -1.19e+04\n",
       "==============================================================================\n",
       "Omnibus:                      449.601   Durbin-Watson:                   1.607\n",
       "Prob(Omnibus):                  0.000   Jarque-Bera (JB):             1479.830\n",
       "Skew:                           1.729   Prob(JB):                         0.00\n",
       "Kurtosis:                       6.944   Cond. No.                     1.66e+04\n",
       "==============================================================================\n",
       "\n",
       "Warnings:\n",
       "[1] Standard Errors assume that the covariance matrix of the errors is correctly specified.\n",
       "[2] The condition number is large, 1.66e+04. This might indicate that there are\n",
       "strong multicollinearity or other numerical problems.\n",
       "\"\"\""
      ]
     },
     "execution_count": 44,
     "metadata": {},
     "output_type": "execute_result"
    }
   ],
   "source": [
    "# regression model # 7c\n",
    "dep = stores['annual_profit_per_store'] # This is the outcome I want to predict\n",
    "indep = stores.drop(['store_id', 'fips', 'metro', 'unemployment', 'income', 'population',\n",
    "       'annual_profit_per_store',\n",
    "       'number_of_stores', 'unemp_bins', 'income_bins', 'pop_bins',\n",
    "       'nstores_bins', 'density_bins'],\n",
    "                    axis = 'columns') # These are the features that predict it\n",
    "indep = sm.add_constant(indep) # Add the intercept\n",
    "model = sm.OLS(dep,indep) # Instantiate the model\n",
    "results = model.fit() # Fit the model\n",
    "results.summary() # Summarize the results"
   ]
  },
  {
   "cell_type": "markdown",
   "metadata": {},
   "source": [
    "## Let's go with Model 7c: It has 5 sig predictors and an R-sq of 15%."
   ]
  },
  {
   "cell_type": "code",
   "execution_count": 45,
   "metadata": {
    "collapsed": true
   },
   "outputs": [],
   "source": [
    "# Rural stores earn $23K less on average than urban stores.\n",
    "# Suburban stores earn $16K more than urban stores.\n",
    "# For a 100-person increase in the density of people per store, annual profit increases by $786\n",
    "# For a one-bottle increase in the average # of bottles per transaction, annual profits increase by $780.\n",
    "# For a one-dollar increase in the average $ of a bottle in a transaction, annual profits increase by almost $8K.\n",
    "# The R-squared is 15% -- low, but respectable."
   ]
  },
  {
   "cell_type": "code",
   "execution_count": 42,
   "metadata": {
    "collapsed": true
   },
   "outputs": [],
   "source": [
    "# Save your work to a csv\n",
    "stores.to_csv('/Users/austinlasseter/DSI-EC-2/projects/datasets/stores_modeling.csv')"
   ]
  },
  {
   "cell_type": "code",
   "execution_count": null,
   "metadata": {
    "collapsed": true
   },
   "outputs": [],
   "source": []
  }
 ],
 "metadata": {
  "kernelspec": {
   "display_name": "Python 3",
   "language": "python",
   "name": "python3"
  },
  "language_info": {
   "codemirror_mode": {
    "name": "ipython",
    "version": 3
   },
   "file_extension": ".py",
   "mimetype": "text/x-python",
   "name": "python",
   "nbconvert_exporter": "python",
   "pygments_lexer": "ipython3",
   "version": "3.6.3"
  }
 },
 "nbformat": 4,
 "nbformat_minor": 2
}
