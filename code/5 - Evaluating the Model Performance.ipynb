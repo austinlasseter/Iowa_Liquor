{
 "cells": [
  {
   "cell_type": "code",
   "execution_count": 36,
   "metadata": {},
   "outputs": [],
   "source": [
    "import sklearn.metrics as metrics\n",
    "import sklearn.linear_model as linear_model\n",
    "from sklearn.linear_model import LinearRegression\n",
    "import numpy as np\n",
    "import statsmodels.api as sm\n",
    "import pandas as pd\n",
    "import seaborn as sns\n",
    "import matplotlib.pyplot as plt\n",
    "%matplotlib inline"
   ]
  },
  {
   "cell_type": "code",
   "execution_count": 5,
   "metadata": {},
   "outputs": [],
   "source": [
    "## Load the data into a DataFrame\n",
    "stores=pd.read_csv('/Users/austinlasseter/DSI-EC-2/projects/datasets/stores_postEDA.csv')\n",
    "stores=stores.drop(['Unnamed: 0'], axis=1)"
   ]
  },
  {
   "cell_type": "markdown",
   "metadata": {},
   "source": [
    "## What's the R-squared of our model?"
   ]
  },
  {
   "cell_type": "code",
   "execution_count": 6,
   "metadata": {},
   "outputs": [
    {
     "data": {
      "text/plain": [
       "Index(['store_id', 'fips', 'metro', 'unemployment', 'income', 'population',\n",
       "       'ave_bottle_price', 'ave_number_bottles', 'annual_profit_per_store',\n",
       "       'unemp_bins', 'income_bins', 'pop_bins'],\n",
       "      dtype='object')"
      ]
     },
     "execution_count": 6,
     "metadata": {},
     "output_type": "execute_result"
    }
   ],
   "source": [
    "stores.columns"
   ]
  },
  {
   "cell_type": "code",
   "execution_count": 55,
   "metadata": {},
   "outputs": [],
   "source": [
    "# This is model #5 from the previous notebook (I'm using SK Learn this time, not stats models)\n",
    "dep = stores['annual_profit_per_store'] # This is the outcome I want to predict\n",
    "indep = stores.drop(['store_id', 'fips','unemp_bins', 'income_bins', \n",
    "                     'pop_bins', 'annual_profit_per_store', 'unemployment', 'population'], \n",
    "                    axis = 'columns') # These are the features that predict it\n",
    "lm = linear_model.LinearRegression(fit_intercept=True,\n",
    "                                   normalize=False,\n",
    "                                   copy_X=True,\n",
    "                                   n_jobs=1)\n",
    "lm.fit(X=indep, y=dep)\n",
    "predicted = lm.predict(X=indep) # y_preds\n",
    "true = dep"
   ]
  },
  {
   "cell_type": "code",
   "execution_count": 53,
   "metadata": {},
   "outputs": [
    {
     "data": {
      "text/plain": [
       "count      1291.000000\n",
       "mean      48249.495300\n",
       "std       56430.637266\n",
       "min         267.624000\n",
       "25%       11712.432200\n",
       "50%       26298.034600\n",
       "75%       61575.715800\n",
       "max      295762.362600\n",
       "Name: annual_profit_per_store, dtype: float64"
      ]
     },
     "execution_count": 53,
     "metadata": {},
     "output_type": "execute_result"
    }
   ],
   "source": [
    "# What's the distribution of our true values?\n",
    "dep.describe()"
   ]
  },
  {
   "cell_type": "code",
   "execution_count": 60,
   "metadata": {},
   "outputs": [
    {
     "data": {
      "text/html": [
       "<div>\n",
       "<style>\n",
       "    .dataframe thead tr:only-child th {\n",
       "        text-align: right;\n",
       "    }\n",
       "\n",
       "    .dataframe thead th {\n",
       "        text-align: left;\n",
       "    }\n",
       "\n",
       "    .dataframe tbody tr th {\n",
       "        vertical-align: top;\n",
       "    }\n",
       "</style>\n",
       "<table border=\"1\" class=\"dataframe\">\n",
       "  <thead>\n",
       "    <tr style=\"text-align: right;\">\n",
       "      <th></th>\n",
       "      <th>0</th>\n",
       "    </tr>\n",
       "  </thead>\n",
       "  <tbody>\n",
       "    <tr>\n",
       "      <th>count</th>\n",
       "      <td>1291.000000</td>\n",
       "    </tr>\n",
       "    <tr>\n",
       "      <th>mean</th>\n",
       "      <td>48249.495300</td>\n",
       "    </tr>\n",
       "    <tr>\n",
       "      <th>std</th>\n",
       "      <td>20351.689714</td>\n",
       "    </tr>\n",
       "    <tr>\n",
       "      <th>min</th>\n",
       "      <td>-7526.213144</td>\n",
       "    </tr>\n",
       "    <tr>\n",
       "      <th>25%</th>\n",
       "      <td>34144.540126</td>\n",
       "    </tr>\n",
       "    <tr>\n",
       "      <th>50%</th>\n",
       "      <td>46092.736054</td>\n",
       "    </tr>\n",
       "    <tr>\n",
       "      <th>75%</th>\n",
       "      <td>60144.181381</td>\n",
       "    </tr>\n",
       "    <tr>\n",
       "      <th>max</th>\n",
       "      <td>171460.425274</td>\n",
       "    </tr>\n",
       "  </tbody>\n",
       "</table>\n",
       "</div>"
      ],
      "text/plain": [
       "                   0\n",
       "count    1291.000000\n",
       "mean    48249.495300\n",
       "std     20351.689714\n",
       "min     -7526.213144\n",
       "25%     34144.540126\n",
       "50%     46092.736054\n",
       "75%     60144.181381\n",
       "max    171460.425274"
      ]
     },
     "execution_count": 60,
     "metadata": {},
     "output_type": "execute_result"
    }
   ],
   "source": [
    "# What's the distribution of our predicted values?\n",
    "preds=pd.DataFrame(predicted)\n",
    "preds.describe()"
   ]
  },
  {
   "cell_type": "code",
   "execution_count": 73,
   "metadata": {},
   "outputs": [
    {
     "name": "stdout",
     "output_type": "stream",
     "text": [
      "0.128339788801\n"
     ]
    }
   ],
   "source": [
    "# This is our R-sqsuared score: we explain about 12% of the variability in the out\n",
    "print(slr.score(indep, dep))"
   ]
  },
  {
   "cell_type": "code",
   "execution_count": 63,
   "metadata": {},
   "outputs": [
    {
     "data": {
      "text/plain": [
       "[Text(0,0.5,'True Annual Profit'), Text(0.5,0,'Predicted Annual Profit')]"
      ]
     },
     "execution_count": 63,
     "metadata": {},
     "output_type": "execute_result"
    },
    {
     "data": {
      "image/png": "[encoded data removed]",
      "text/plain": [
       "<matplotlib.figure.Figure at 0x10b556978>"
      ]
     },
     "metadata": {},
     "output_type": "display_data"
    }
   ],
   "source": [
    "# create a figure\n",
    "fig = plt.figure(figsize=(15,7))\n",
    "fig.set_figheight(8)\n",
    "fig.set_figwidth(15)\n",
    "\n",
    "# get the axis\n",
    "ax = fig.gca()\n",
    "\n",
    "# plot it\n",
    "ax.scatter(x=dep, y=preds, c='k')\n",
    "ax.set(xlabel='Predicted Annual Profit', ylabel='True Annual Profit')\n",
    "# ax.plot(stores['annual_profit_per_store'], preds, color='b');"
   ]
  },
  {
   "cell_type": "markdown",
   "metadata": {},
   "source": [
    "## Train-Test Split"
   ]
  },
  {
   "cell_type": "code",
   "execution_count": 27,
   "metadata": {},
   "outputs": [],
   "source": [
    "# Train-test split\n",
    "from sklearn.model_selection import train_test_split"
   ]
  },
  {
   "cell_type": "code",
   "execution_count": 64,
   "metadata": {},
   "outputs": [],
   "source": [
    "y = stores['annual_profit_per_store'] \n",
    "\n",
    "X = stores.drop(['store_id', 'fips','unemp_bins', 'income_bins', \n",
    "                     'pop_bins', 'annual_profit_per_store', 'unemployment', 'population'], \n",
    "                    axis = 'columns')"
   ]
  },
  {
   "cell_type": "code",
   "execution_count": 65,
   "metadata": {},
   "outputs": [],
   "source": [
    "# cross-validation-train-test-split\n",
    "X_train, X_test, y_train, y_test = train_test_split(X, y, test_size=0.5, random_state=42)"
   ]
  },
  {
   "cell_type": "code",
   "execution_count": 66,
   "metadata": {},
   "outputs": [
    {
     "name": "stdout",
     "output_type": "stream",
     "text": [
      "(1291, 4) (1291,)\n",
      "(645, 4) (645,)\n",
      "(646, 4) (646,)\n"
     ]
    }
   ],
   "source": [
    "print(X.shape, y.shape)\n",
    "print(X_train.shape, y_train.shape)\n",
    "print(X_test.shape, y_test.shape)"
   ]
  },
  {
   "cell_type": "code",
   "execution_count": 67,
   "metadata": {},
   "outputs": [
    {
     "data": {
      "text/plain": [
       "LinearRegression(copy_X=True, fit_intercept=True, n_jobs=1, normalize=False)"
      ]
     },
     "execution_count": 67,
     "metadata": {},
     "output_type": "execute_result"
    }
   ],
   "source": [
    "from sklearn.linear_model import LinearRegression\n",
    "\n",
    "slr = LinearRegression()\n",
    "slr.fit(X_train, y_train)"
   ]
  },
  {
   "cell_type": "code",
   "execution_count": 69,
   "metadata": {},
   "outputs": [
    {
     "name": "stdout",
     "output_type": "stream",
     "text": [
      "0.146683366422\n"
     ]
    }
   ],
   "source": [
    "# This is our R-squared of our model on the training data:\n",
    "print(slr.score(X_train, y_train))"
   ]
  },
  {
   "cell_type": "code",
   "execution_count": null,
   "metadata": {
    "collapsed": true
   },
   "outputs": [],
   "source": [
    "# This is the R-squared of our model on the test data: It went down, but not by too much.\n",
    "print(slr.score(X_test, y_test))"
   ]
  },
  {
   "cell_type": "markdown",
   "metadata": {},
   "source": [
    "## K-folds crossvalidation"
   ]
  },
  {
   "cell_type": "code",
   "execution_count": 70,
   "metadata": {
    "collapsed": true
   },
   "outputs": [],
   "source": [
    "from sklearn.model_selection import KFold, cross_val_score, cross_val_predict\n",
    "from sklearn import metrics"
   ]
  },
  {
   "cell_type": "code",
   "execution_count": 71,
   "metadata": {},
   "outputs": [
    {
     "name": "stdout",
     "output_type": "stream",
     "text": [
      "[-0.5914411   0.00413415 -0.44518569 -1.38794199 -0.26822735]\n",
      "-0.53773239652\n"
     ]
    },
    {
     "data": {
      "text/plain": [
       "LinearRegression(copy_X=True, fit_intercept=True, n_jobs=1, normalize=False)"
      ]
     },
     "execution_count": 71,
     "metadata": {},
     "output_type": "execute_result"
    }
   ],
   "source": [
    "# Iterate using CV scores to determine how you're doing\n",
    "# model selection/tuning stage\n",
    "lr = LinearRegression()\n",
    "print(cross_val_score(slr, X, y, cv=5))\n",
    "scores=cross_val_score(slr, X, y, cv=5)\n",
    "print(np.mean(scores))\n",
    "# these are all R-squared scores ON THE TRAINING DATA (across 5 folds), and their average.\n",
    "lr.fit(X,y)\n",
    "# One last fit on ALL the training data"
   ]
  },
  {
   "cell_type": "code",
   "execution_count": 72,
   "metadata": {},
   "outputs": [
    {
     "name": "stdout",
     "output_type": "stream",
     "text": [
      "-0.0402673219072\n"
     ]
    }
   ],
   "source": [
    "# Now we're predicting/scoring ON THE TESTING DATA\n",
    "predictions = cross_val_predict(lr, X, y, cv=5) # Note: lr was defined in the previous cell.\n",
    "r2 = metrics.r2_score(y, predictions)\n",
    "print(r2) "
   ]
  },
  {
   "cell_type": "code",
   "execution_count": null,
   "metadata": {
    "collapsed": true
   },
   "outputs": [],
   "source": [
    "# I'm getting a negative R squared. What's up with that?"
   ]
  }
 ],
 "metadata": {
  "kernelspec": {
   "display_name": "Python 3",
   "language": "python",
   "name": "python3"
  },
  "language_info": {
   "codemirror_mode": {
    "name": "ipython",
    "version": 3
   },
   "file_extension": ".py",
   "mimetype": "text/x-python",
   "name": "python",
   "nbconvert_exporter": "python",
   "pygments_lexer": "ipython3",
   "version": "3.6.3"
  }
 },
 "nbformat": 4,
 "nbformat_minor": 2
}
