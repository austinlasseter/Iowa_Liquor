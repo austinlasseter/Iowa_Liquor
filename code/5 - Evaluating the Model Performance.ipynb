{
 "cells": [
  {
   "cell_type": "code",
   "execution_count": 1,
   "metadata": {},
   "outputs": [
    {
     "name": "stderr",
     "output_type": "stream",
     "text": [
      "/Users/austinlasseter/anaconda3/lib/python3.6/site-packages/statsmodels/compat/pandas.py:56: FutureWarning: The pandas.core.datetools module is deprecated and will be removed in a future version. Please use the pandas.tseries module instead.\n",
      "  from pandas.core import datetools\n"
     ]
    }
   ],
   "source": [
    "import sklearn.metrics as metrics\n",
    "import sklearn.linear_model as linear_model\n",
    "from sklearn.linear_model import LinearRegression\n",
    "from sklearn import metrics\n",
    "import numpy as np\n",
    "import statsmodels.api as sm\n",
    "import pandas as pd\n",
    "import seaborn as sns\n",
    "import matplotlib.pyplot as plt\n",
    "%matplotlib inline"
   ]
  },
  {
   "cell_type": "code",
   "execution_count": 2,
   "metadata": {
    "collapsed": true
   },
   "outputs": [],
   "source": [
    "## Load the data into a DataFrame\n",
    "stores=pd.read_csv('/Users/austinlasseter/DSI-EC-2/projects/datasets/stores_modeling.csv')\n",
    "stores=stores.drop(['Unnamed: 0'], axis=1)"
   ]
  },
  {
   "cell_type": "markdown",
   "metadata": {},
   "source": [
    "## What's the R-squared of our model?"
   ]
  },
  {
   "cell_type": "code",
   "execution_count": 49,
   "metadata": {},
   "outputs": [
    {
     "data": {
      "text/plain": [
       "48249.49529961269"
      ]
     },
     "execution_count": 49,
     "metadata": {},
     "output_type": "execute_result"
    }
   ],
   "source": [
    "# What's the mean annual profit of all stores? This is the guess we want to beat with our model.\n",
    "stores.annual_profit_per_store.mean()"
   ]
  },
  {
   "cell_type": "code",
   "execution_count": 3,
   "metadata": {},
   "outputs": [
    {
     "data": {
      "text/plain": [
       "Index(['store_id', 'fips', 'metro', 'unemployment', 'income', 'population',\n",
       "       'ave_bottle_price', 'ave_number_bottles', 'annual_profit_per_store',\n",
       "       'number_of_stores', 'density', 'unemp_bins', 'income_bins', 'pop_bins',\n",
       "       'nstores_bins', 'density_bins', 'suburbs', 'town', 'rural'],\n",
       "      dtype='object')"
      ]
     },
     "execution_count": 3,
     "metadata": {},
     "output_type": "execute_result"
    }
   ],
   "source": [
    "stores.columns"
   ]
  },
  {
   "cell_type": "code",
   "execution_count": 4,
   "metadata": {
    "collapsed": true
   },
   "outputs": [],
   "source": [
    "# This is model 7c from the previous notebook (I'm using SK Learn this time, not stats models)\n",
    "dep = stores['annual_profit_per_store'] # This is the outcome I want to predict\n",
    "indep = stores.drop(['store_id', 'fips', 'metro', 'unemployment', 'income', 'population',\n",
    "       'annual_profit_per_store',\n",
    "       'number_of_stores', 'unemp_bins', 'income_bins', 'pop_bins',\n",
    "       'nstores_bins', 'density_bins'], \n",
    "                    axis = 'columns') # These are the features that predict it\n",
    "lm = linear_model.LinearRegression(fit_intercept=True,\n",
    "                                   normalize=False,\n",
    "                                   copy_X=True,\n",
    "                                   n_jobs=1)\n",
    "lm.fit(X=indep, y=dep)\n",
    "predicted = lm.predict(X=indep) # y_preds\n",
    "true = dep"
   ]
  },
  {
   "cell_type": "code",
   "execution_count": 64,
   "metadata": {},
   "outputs": [
    {
     "data": {
      "text/plain": [
       "array([  7.77516018e+03,   7.81610807e+02,   7.86491539e+00,\n",
       "         1.62083749e+04,  -1.33265169e+03,  -2.33791978e+04])"
      ]
     },
     "execution_count": 64,
     "metadata": {},
     "output_type": "execute_result"
    }
   ],
   "source": [
    "# Coefficients\n",
    "lm.coef_"
   ]
  },
  {
   "cell_type": "code",
   "execution_count": 5,
   "metadata": {},
   "outputs": [
    {
     "data": {
      "text/plain": [
       "count      1291.000000\n",
       "mean      48249.495300\n",
       "std       56430.637266\n",
       "min         267.624000\n",
       "25%       11712.432200\n",
       "50%       26298.034600\n",
       "75%       61575.715800\n",
       "max      295762.362600\n",
       "Name: annual_profit_per_store, dtype: float64"
      ]
     },
     "execution_count": 5,
     "metadata": {},
     "output_type": "execute_result"
    }
   ],
   "source": [
    "# What's the distribution of our true values?\n",
    "dep.describe()"
   ]
  },
  {
   "cell_type": "code",
   "execution_count": 6,
   "metadata": {},
   "outputs": [
    {
     "data": {
      "text/html": [
       "<div>\n",
       "<style>\n",
       "    .dataframe thead tr:only-child th {\n",
       "        text-align: right;\n",
       "    }\n",
       "\n",
       "    .dataframe thead th {\n",
       "        text-align: left;\n",
       "    }\n",
       "\n",
       "    .dataframe tbody tr th {\n",
       "        vertical-align: top;\n",
       "    }\n",
       "</style>\n",
       "<table border=\"1\" class=\"dataframe\">\n",
       "  <thead>\n",
       "    <tr style=\"text-align: right;\">\n",
       "      <th></th>\n",
       "      <th>0</th>\n",
       "    </tr>\n",
       "  </thead>\n",
       "  <tbody>\n",
       "    <tr>\n",
       "      <th>count</th>\n",
       "      <td>1291.000000</td>\n",
       "    </tr>\n",
       "    <tr>\n",
       "      <th>mean</th>\n",
       "      <td>48249.495300</td>\n",
       "    </tr>\n",
       "    <tr>\n",
       "      <th>std</th>\n",
       "      <td>21764.110557</td>\n",
       "    </tr>\n",
       "    <tr>\n",
       "      <th>min</th>\n",
       "      <td>-16478.597379</td>\n",
       "    </tr>\n",
       "    <tr>\n",
       "      <th>25%</th>\n",
       "      <td>32800.623040</td>\n",
       "    </tr>\n",
       "    <tr>\n",
       "      <th>50%</th>\n",
       "      <td>47003.841156</td>\n",
       "    </tr>\n",
       "    <tr>\n",
       "      <th>75%</th>\n",
       "      <td>61729.926862</td>\n",
       "    </tr>\n",
       "    <tr>\n",
       "      <th>max</th>\n",
       "      <td>173224.781758</td>\n",
       "    </tr>\n",
       "  </tbody>\n",
       "</table>\n",
       "</div>"
      ],
      "text/plain": [
       "                   0\n",
       "count    1291.000000\n",
       "mean    48249.495300\n",
       "std     21764.110557\n",
       "min    -16478.597379\n",
       "25%     32800.623040\n",
       "50%     47003.841156\n",
       "75%     61729.926862\n",
       "max    173224.781758"
      ]
     },
     "execution_count": 6,
     "metadata": {},
     "output_type": "execute_result"
    }
   ],
   "source": [
    "# What's the distribution of our predicted values?\n",
    "preds=pd.DataFrame(predicted)\n",
    "preds.describe()"
   ]
  },
  {
   "cell_type": "code",
   "execution_count": 7,
   "metadata": {},
   "outputs": [
    {
     "name": "stdout",
     "output_type": "stream",
     "text": [
      "0.148748274728\n"
     ]
    }
   ],
   "source": [
    "# This is our R-sqsuared score: we explain about 13% of the variability in the outcome with this model.\n",
    "print(lm.score(indep, dep))"
   ]
  },
  {
   "cell_type": "code",
   "execution_count": 62,
   "metadata": {},
   "outputs": [
    {
     "data": {
      "text/plain": [
       "<matplotlib.lines.Line2D at 0x1c23f72b00>"
      ]
     },
     "execution_count": 62,
     "metadata": {},
     "output_type": "execute_result"
    },
    {
     "data": {
      "image/png": "[encoded data removed]",
      "text/plain": [
       "<matplotlib.figure.Figure at 0x1c23dd5cf8>"
      ]
     },
     "metadata": {},
     "output_type": "display_data"
    }
   ],
   "source": [
    "# create a figure\n",
    "fig = plt.figure(figsize=(12,12))\n",
    "fig.set_figheight(12)\n",
    "fig.set_figwidth(12)\n",
    "\n",
    "# get the axis\n",
    "ax = fig.gca()\n",
    "\n",
    "# plot it\n",
    "ax.scatter(x=dep, y=preds, c='k')\n",
    "ax.set(xlabel='True Annual Profit', ylabel='Predicted Annual Profit')\n",
    "\n",
    "# add the trend line of my model \n",
    "fit = np.polyfit(dep, preds, deg=1)\n",
    "ax.plot(dep, fit[0] * dep + fit[1], color='red')\n",
    "\n",
    "# add the line of best fit (45-degree angle)\n",
    "ax.plot(ax.get_xlim(), ax.get_xlim(), color='orange')\n",
    "\n",
    "# plot a line at the mean\n",
    "plt.axhline(y=stores.annual_profit_per_store.mean(), color='blue')\n",
    "\n",
    "# Interpretation: My model is under-predicting true annual profit, but it's better than just taking the mean (flat)"
   ]
  },
  {
   "cell_type": "markdown",
   "metadata": {},
   "source": [
    "## Train-Test Split"
   ]
  },
  {
   "cell_type": "code",
   "execution_count": 15,
   "metadata": {
    "collapsed": true
   },
   "outputs": [],
   "source": [
    "# Train-test split\n",
    "from sklearn.model_selection import train_test_split"
   ]
  },
  {
   "cell_type": "code",
   "execution_count": 16,
   "metadata": {
    "collapsed": true
   },
   "outputs": [],
   "source": [
    "y = stores['annual_profit_per_store'] \n",
    "\n",
    "X = stores.drop(['store_id', 'fips', 'metro', 'unemployment', 'income', 'population',\n",
    "       'annual_profit_per_store',\n",
    "       'number_of_stores', 'unemp_bins', 'income_bins', 'pop_bins',\n",
    "       'nstores_bins', 'density_bins'], \n",
    "                    axis = 'columns')"
   ]
  },
  {
   "cell_type": "code",
   "execution_count": 17,
   "metadata": {
    "collapsed": true
   },
   "outputs": [],
   "source": [
    "# cross-validation-train-test-split\n",
    "X_train, X_test, y_train, y_test = train_test_split(X, y, test_size=0.5, random_state=42)"
   ]
  },
  {
   "cell_type": "code",
   "execution_count": 18,
   "metadata": {},
   "outputs": [
    {
     "name": "stdout",
     "output_type": "stream",
     "text": [
      "(1291, 6) (1291,)\n",
      "(645, 6) (645,)\n",
      "(646, 6) (646,)\n"
     ]
    }
   ],
   "source": [
    "print(X.shape, y.shape)\n",
    "print(X_train.shape, y_train.shape)\n",
    "print(X_test.shape, y_test.shape)"
   ]
  },
  {
   "cell_type": "code",
   "execution_count": 19,
   "metadata": {},
   "outputs": [
    {
     "data": {
      "text/plain": [
       "LinearRegression(copy_X=True, fit_intercept=True, n_jobs=1, normalize=False)"
      ]
     },
     "execution_count": 19,
     "metadata": {},
     "output_type": "execute_result"
    }
   ],
   "source": [
    "from sklearn.linear_model import LinearRegression\n",
    "\n",
    "slr = LinearRegression()\n",
    "slr.fit(X_train, y_train)"
   ]
  },
  {
   "cell_type": "code",
   "execution_count": 20,
   "metadata": {},
   "outputs": [
    {
     "name": "stdout",
     "output_type": "stream",
     "text": [
      "0.197337848768\n"
     ]
    }
   ],
   "source": [
    "# This is our R-squared of our model on the training data:\n",
    "print(slr.score(X_train, y_train))"
   ]
  },
  {
   "cell_type": "code",
   "execution_count": 21,
   "metadata": {},
   "outputs": [
    {
     "name": "stdout",
     "output_type": "stream",
     "text": [
      "0.059869989654\n"
     ]
    }
   ],
   "source": [
    "# This is the R-squared of our model on the test data: It went down, but not by too much.\n",
    "print(slr.score(X_test, y_test))"
   ]
  },
  {
   "cell_type": "markdown",
   "metadata": {},
   "source": [
    "## K-folds crossvalidation"
   ]
  },
  {
   "cell_type": "code",
   "execution_count": 22,
   "metadata": {
    "collapsed": true
   },
   "outputs": [],
   "source": [
    "from sklearn.model_selection import KFold, cross_val_score, cross_val_predict"
   ]
  },
  {
   "cell_type": "code",
   "execution_count": 23,
   "metadata": {},
   "outputs": [
    {
     "name": "stdout",
     "output_type": "stream",
     "text": [
      "[ 0.1060688   0.14994638  0.12876918  0.12959634  0.16688954]\n",
      "0.136254048974\n"
     ]
    },
    {
     "data": {
      "text/plain": [
       "LinearRegression(copy_X=True, fit_intercept=True, n_jobs=1, normalize=False)"
      ]
     },
     "execution_count": 23,
     "metadata": {},
     "output_type": "execute_result"
    }
   ],
   "source": [
    "# Iterate using CV scores to determine how you're doing\n",
    "# model selection/tuning stage\n",
    "lr = LinearRegression()\n",
    "print(cross_val_score(slr, X, y, cv=5))\n",
    "scores=cross_val_score(slr, X, y, cv=5)\n",
    "print(np.mean(scores))\n",
    "# these are all R-squared scores ON THE TRAINING DATA (across 5 folds), and their average.\n",
    "lr.fit(X,y)\n",
    "# One last fit on ALL the training data"
   ]
  },
  {
   "cell_type": "code",
   "execution_count": 24,
   "metadata": {},
   "outputs": [
    {
     "name": "stdout",
     "output_type": "stream",
     "text": [
      "0.141641184781\n"
     ]
    }
   ],
   "source": [
    "# Now we're predicting/scoring ON THE TESTING DATA\n",
    "predictions = cross_val_predict(lr, X, y, cv=5) # Note: lr was defined in the previous cell.\n",
    "r2 = metrics.r2_score(y, predictions)\n",
    "print(r2) "
   ]
  },
  {
   "cell_type": "code",
   "execution_count": 25,
   "metadata": {
    "collapsed": true
   },
   "outputs": [],
   "source": [
    "# Our model explains about 14% of the variation in the outcome, annual per-store profit"
   ]
  }
 ],
 "metadata": {
  "kernelspec": {
   "display_name": "Python 3",
   "language": "python",
   "name": "python3"
  },
  "language_info": {
   "codemirror_mode": {
    "name": "ipython",
    "version": 3
   },
   "file_extension": ".py",
   "mimetype": "text/x-python",
   "name": "python",
   "nbconvert_exporter": "python",
   "pygments_lexer": "ipython3",
   "version": "3.6.3"
  }
 },
 "nbformat": 4,
 "nbformat_minor": 2
}
