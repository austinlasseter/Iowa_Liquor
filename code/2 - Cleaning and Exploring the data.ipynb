{
 "cells": [
  {
   "cell_type": "code",
   "execution_count": 1,
   "metadata": {
    "collapsed": true
   },
   "outputs": [],
   "source": [
    "import pandas as pd\n",
    "import seaborn as sns\n",
    "import matplotlib.pyplot as plt\n",
    "%matplotlib inline"
   ]
  },
  {
   "cell_type": "markdown",
   "metadata": {},
   "source": [
    "# Transaction-level Dataset\n"
   ]
  },
  {
   "cell_type": "code",
   "execution_count": 2,
   "metadata": {
    "collapsed": true
   },
   "outputs": [],
   "source": [
    "## Load the data into a DataFrame\n",
    "transactions=pd.read_csv('/Users/austinlasseter/DSI-EC-2/projects/datasets/iowa_liquor_short.csv')"
   ]
  },
  {
   "cell_type": "code",
   "execution_count": 3,
   "metadata": {
    "collapsed": true
   },
   "outputs": [],
   "source": [
    "# Drop the columns I don't plan to use\n",
    "transactions=transactions.drop(['Area_name', 'State', 'Unnamed: 0', 'Date', 'County Number'], axis=1);"
   ]
  },
  {
   "cell_type": "code",
   "execution_count": 4,
   "metadata": {},
   "outputs": [
    {
     "data": {
      "text/plain": [
       "Index(['FIPS', 'Rural_urban_continuum_code_2013', 'Unemployment_rate_2016',\n",
       "       'Median_Household_Income_2016', 'CENSUS_2010_POP', 'County',\n",
       "       'Store Number', 'State Bottle Cost', 'State Bottle Retail',\n",
       "       'Bottles Sold', 'Year'],\n",
       "      dtype='object')"
      ]
     },
     "execution_count": 4,
     "metadata": {},
     "output_type": "execute_result"
    }
   ],
   "source": [
    "# Some of these names are really long.\n",
    "transactions.columns"
   ]
  },
  {
   "cell_type": "code",
   "execution_count": 5,
   "metadata": {},
   "outputs": [
    {
     "data": {
      "text/html": [
       "<div>\n",
       "<style>\n",
       "    .dataframe thead tr:only-child th {\n",
       "        text-align: right;\n",
       "    }\n",
       "\n",
       "    .dataframe thead th {\n",
       "        text-align: left;\n",
       "    }\n",
       "\n",
       "    .dataframe tbody tr th {\n",
       "        vertical-align: top;\n",
       "    }\n",
       "</style>\n",
       "<table border=\"1\" class=\"dataframe\">\n",
       "  <thead>\n",
       "    <tr style=\"text-align: right;\">\n",
       "      <th></th>\n",
       "      <th>fips</th>\n",
       "      <th>metro</th>\n",
       "      <th>unemployment</th>\n",
       "      <th>income</th>\n",
       "      <th>population</th>\n",
       "      <th>county</th>\n",
       "      <th>store</th>\n",
       "      <th>cost</th>\n",
       "      <th>retail</th>\n",
       "      <th>bottles</th>\n",
       "      <th>year</th>\n",
       "    </tr>\n",
       "  </thead>\n",
       "  <tbody>\n",
       "    <tr>\n",
       "      <th>0</th>\n",
       "      <td>19001</td>\n",
       "      <td>8.0</td>\n",
       "      <td>3.0</td>\n",
       "      <td>53416.0</td>\n",
       "      <td>7682</td>\n",
       "      <td>Adair</td>\n",
       "      <td>3461</td>\n",
       "      <td>$5.23</td>\n",
       "      <td>$7.85</td>\n",
       "      <td>12</td>\n",
       "      <td>2015</td>\n",
       "    </tr>\n",
       "    <tr>\n",
       "      <th>1</th>\n",
       "      <td>19001</td>\n",
       "      <td>8.0</td>\n",
       "      <td>3.0</td>\n",
       "      <td>53416.0</td>\n",
       "      <td>7682</td>\n",
       "      <td>Adair</td>\n",
       "      <td>3461</td>\n",
       "      <td>$6.74</td>\n",
       "      <td>$10.11</td>\n",
       "      <td>4</td>\n",
       "      <td>2015</td>\n",
       "    </tr>\n",
       "    <tr>\n",
       "      <th>2</th>\n",
       "      <td>19001</td>\n",
       "      <td>8.0</td>\n",
       "      <td>3.0</td>\n",
       "      <td>53416.0</td>\n",
       "      <td>7682</td>\n",
       "      <td>Adair</td>\n",
       "      <td>3461</td>\n",
       "      <td>$4.00</td>\n",
       "      <td>$6.00</td>\n",
       "      <td>3</td>\n",
       "      <td>2015</td>\n",
       "    </tr>\n",
       "    <tr>\n",
       "      <th>3</th>\n",
       "      <td>19001</td>\n",
       "      <td>8.0</td>\n",
       "      <td>3.0</td>\n",
       "      <td>53416.0</td>\n",
       "      <td>7682</td>\n",
       "      <td>Adair</td>\n",
       "      <td>4620</td>\n",
       "      <td>$5.48</td>\n",
       "      <td>$8.22</td>\n",
       "      <td>24</td>\n",
       "      <td>2015</td>\n",
       "    </tr>\n",
       "    <tr>\n",
       "      <th>4</th>\n",
       "      <td>19001</td>\n",
       "      <td>8.0</td>\n",
       "      <td>3.0</td>\n",
       "      <td>53416.0</td>\n",
       "      <td>7682</td>\n",
       "      <td>Adair</td>\n",
       "      <td>4654</td>\n",
       "      <td>$12.05</td>\n",
       "      <td>$18.08</td>\n",
       "      <td>12</td>\n",
       "      <td>2015</td>\n",
       "    </tr>\n",
       "  </tbody>\n",
       "</table>\n",
       "</div>"
      ],
      "text/plain": [
       "    fips  metro  unemployment   income  population county  store    cost  \\\n",
       "0  19001    8.0           3.0  53416.0        7682  Adair   3461   $5.23   \n",
       "1  19001    8.0           3.0  53416.0        7682  Adair   3461   $6.74   \n",
       "2  19001    8.0           3.0  53416.0        7682  Adair   3461   $4.00   \n",
       "3  19001    8.0           3.0  53416.0        7682  Adair   4620   $5.48   \n",
       "4  19001    8.0           3.0  53416.0        7682  Adair   4654  $12.05   \n",
       "\n",
       "   retail  bottles  year  \n",
       "0   $7.85       12  2015  \n",
       "1  $10.11        4  2015  \n",
       "2   $6.00        3  2015  \n",
       "3   $8.22       24  2015  \n",
       "4  $18.08       12  2015  "
      ]
     },
     "execution_count": 5,
     "metadata": {},
     "output_type": "execute_result"
    }
   ],
   "source": [
    "# Shorten those names, and make them lower-case (this is best practice)\n",
    "new_cols=['fips', 'metro', 'unemployment',\n",
    "       'income', 'population', 'county',\n",
    "       'store', 'cost', 'retail',\n",
    "       'bottles', 'year']\n",
    "transactions.columns=new_cols\n",
    "transactions.head()"
   ]
  },
  {
   "cell_type": "code",
   "execution_count": 6,
   "metadata": {
    "collapsed": true
   },
   "outputs": [],
   "source": [
    "# Convert cost and retail into numeric values\n",
    "transactions['cost']=transactions['cost'].replace( '[\\$,)]','', regex=True ).astype(float)\n",
    "transactions['retail']=transactions['retail'].replace( '[\\$,)]','', regex=True ).astype(float)"
   ]
  },
  {
   "cell_type": "code",
   "execution_count": 7,
   "metadata": {},
   "outputs": [
    {
     "data": {
      "text/plain": [
       "dtype('int64')"
      ]
     },
     "execution_count": 7,
     "metadata": {},
     "output_type": "execute_result"
    }
   ],
   "source": [
    "# Make sure that \"bottles\" is an integer\n",
    "transactions.bottles.dtype"
   ]
  },
  {
   "cell_type": "code",
   "execution_count": 8,
   "metadata": {
    "collapsed": true
   },
   "outputs": [],
   "source": [
    "# restrict the dataset only to 2015 sales (so we have a complete year of information)\n",
    "transactions=transactions[transactions['year']==2015]"
   ]
  },
  {
   "cell_type": "code",
   "execution_count": 9,
   "metadata": {},
   "outputs": [
    {
     "data": {
      "text/html": [
       "<div>\n",
       "<style>\n",
       "    .dataframe thead tr:only-child th {\n",
       "        text-align: right;\n",
       "    }\n",
       "\n",
       "    .dataframe thead th {\n",
       "        text-align: left;\n",
       "    }\n",
       "\n",
       "    .dataframe tbody tr th {\n",
       "        vertical-align: top;\n",
       "    }\n",
       "</style>\n",
       "<table border=\"1\" class=\"dataframe\">\n",
       "  <thead>\n",
       "    <tr style=\"text-align: right;\">\n",
       "      <th></th>\n",
       "      <th>fips</th>\n",
       "      <th>metro</th>\n",
       "      <th>unemployment</th>\n",
       "      <th>income</th>\n",
       "      <th>population</th>\n",
       "      <th>county</th>\n",
       "      <th>store</th>\n",
       "      <th>cost</th>\n",
       "      <th>retail</th>\n",
       "      <th>bottles</th>\n",
       "      <th>year</th>\n",
       "      <th>profit_per_sale</th>\n",
       "    </tr>\n",
       "  </thead>\n",
       "  <tbody>\n",
       "    <tr>\n",
       "      <th>0</th>\n",
       "      <td>19001</td>\n",
       "      <td>8.0</td>\n",
       "      <td>3.0</td>\n",
       "      <td>53416.0</td>\n",
       "      <td>7682</td>\n",
       "      <td>Adair</td>\n",
       "      <td>3461</td>\n",
       "      <td>5.23</td>\n",
       "      <td>7.85</td>\n",
       "      <td>12</td>\n",
       "      <td>2015</td>\n",
       "      <td>31.44</td>\n",
       "    </tr>\n",
       "    <tr>\n",
       "      <th>1</th>\n",
       "      <td>19001</td>\n",
       "      <td>8.0</td>\n",
       "      <td>3.0</td>\n",
       "      <td>53416.0</td>\n",
       "      <td>7682</td>\n",
       "      <td>Adair</td>\n",
       "      <td>3461</td>\n",
       "      <td>6.74</td>\n",
       "      <td>10.11</td>\n",
       "      <td>4</td>\n",
       "      <td>2015</td>\n",
       "      <td>13.48</td>\n",
       "    </tr>\n",
       "    <tr>\n",
       "      <th>2</th>\n",
       "      <td>19001</td>\n",
       "      <td>8.0</td>\n",
       "      <td>3.0</td>\n",
       "      <td>53416.0</td>\n",
       "      <td>7682</td>\n",
       "      <td>Adair</td>\n",
       "      <td>3461</td>\n",
       "      <td>4.00</td>\n",
       "      <td>6.00</td>\n",
       "      <td>3</td>\n",
       "      <td>2015</td>\n",
       "      <td>6.00</td>\n",
       "    </tr>\n",
       "    <tr>\n",
       "      <th>3</th>\n",
       "      <td>19001</td>\n",
       "      <td>8.0</td>\n",
       "      <td>3.0</td>\n",
       "      <td>53416.0</td>\n",
       "      <td>7682</td>\n",
       "      <td>Adair</td>\n",
       "      <td>4620</td>\n",
       "      <td>5.48</td>\n",
       "      <td>8.22</td>\n",
       "      <td>24</td>\n",
       "      <td>2015</td>\n",
       "      <td>65.76</td>\n",
       "    </tr>\n",
       "    <tr>\n",
       "      <th>4</th>\n",
       "      <td>19001</td>\n",
       "      <td>8.0</td>\n",
       "      <td>3.0</td>\n",
       "      <td>53416.0</td>\n",
       "      <td>7682</td>\n",
       "      <td>Adair</td>\n",
       "      <td>4654</td>\n",
       "      <td>12.05</td>\n",
       "      <td>18.08</td>\n",
       "      <td>12</td>\n",
       "      <td>2015</td>\n",
       "      <td>72.36</td>\n",
       "    </tr>\n",
       "  </tbody>\n",
       "</table>\n",
       "</div>"
      ],
      "text/plain": [
       "    fips  metro  unemployment   income  population county  store   cost  \\\n",
       "0  19001    8.0           3.0  53416.0        7682  Adair   3461   5.23   \n",
       "1  19001    8.0           3.0  53416.0        7682  Adair   3461   6.74   \n",
       "2  19001    8.0           3.0  53416.0        7682  Adair   3461   4.00   \n",
       "3  19001    8.0           3.0  53416.0        7682  Adair   4620   5.48   \n",
       "4  19001    8.0           3.0  53416.0        7682  Adair   4654  12.05   \n",
       "\n",
       "   retail  bottles  year  profit_per_sale  \n",
       "0    7.85       12  2015            31.44  \n",
       "1   10.11        4  2015            13.48  \n",
       "2    6.00        3  2015             6.00  \n",
       "3    8.22       24  2015            65.76  \n",
       "4   18.08       12  2015            72.36  "
      ]
     },
     "execution_count": 9,
     "metadata": {},
     "output_type": "execute_result"
    }
   ],
   "source": [
    "# Calculate transaction-level profit\n",
    "transactions['profit_per_sale'] = (transactions['retail'] - transactions['cost'])*transactions['bottles']\n",
    "transactions.head()"
   ]
  },
  {
   "cell_type": "code",
   "execution_count": 10,
   "metadata": {},
   "outputs": [
    {
     "name": "stdout",
     "output_type": "stream",
     "text": [
      "1375\n"
     ]
    }
   ],
   "source": [
    "# Calculate store-level annual profit\n",
    "x=transactions['profit_per_sale'].groupby(transactions['store']).sum()\n",
    "print(len(x))\n",
    "profit=pd.DataFrame(x);"
   ]
  },
  {
   "cell_type": "code",
   "execution_count": 11,
   "metadata": {},
   "outputs": [
    {
     "data": {
      "text/html": [
       "<div>\n",
       "<style>\n",
       "    .dataframe thead tr:only-child th {\n",
       "        text-align: right;\n",
       "    }\n",
       "\n",
       "    .dataframe thead th {\n",
       "        text-align: left;\n",
       "    }\n",
       "\n",
       "    .dataframe tbody tr th {\n",
       "        vertical-align: top;\n",
       "    }\n",
       "</style>\n",
       "<table border=\"1\" class=\"dataframe\">\n",
       "  <thead>\n",
       "    <tr style=\"text-align: right;\">\n",
       "      <th></th>\n",
       "      <th>store</th>\n",
       "      <th>profit_per_sale</th>\n",
       "    </tr>\n",
       "  </thead>\n",
       "  <tbody>\n",
       "    <tr>\n",
       "      <th>0</th>\n",
       "      <td>2106</td>\n",
       "      <td>478695.22</td>\n",
       "    </tr>\n",
       "    <tr>\n",
       "      <th>1</th>\n",
       "      <td>2113</td>\n",
       "      <td>28693.18</td>\n",
       "    </tr>\n",
       "    <tr>\n",
       "      <th>2</th>\n",
       "      <td>2130</td>\n",
       "      <td>369675.74</td>\n",
       "    </tr>\n",
       "    <tr>\n",
       "      <th>3</th>\n",
       "      <td>2152</td>\n",
       "      <td>24143.45</td>\n",
       "    </tr>\n",
       "    <tr>\n",
       "      <th>4</th>\n",
       "      <td>2178</td>\n",
       "      <td>93235.51</td>\n",
       "    </tr>\n",
       "  </tbody>\n",
       "</table>\n",
       "</div>"
      ],
      "text/plain": [
       "   store  profit_per_sale\n",
       "0   2106        478695.22\n",
       "1   2113         28693.18\n",
       "2   2130        369675.74\n",
       "3   2152         24143.45\n",
       "4   2178         93235.51"
      ]
     },
     "execution_count": 11,
     "metadata": {},
     "output_type": "execute_result"
    }
   ],
   "source": [
    "# Reset the index so it isn't \"store\"\n",
    "profit.reset_index(level=0, inplace=True)\n",
    "profit.head()"
   ]
  },
  {
   "cell_type": "markdown",
   "metadata": {},
   "source": [
    "# Store-level data"
   ]
  },
  {
   "cell_type": "code",
   "execution_count": 12,
   "metadata": {},
   "outputs": [
    {
     "name": "stdout",
     "output_type": "stream",
     "text": [
      "1375\n",
      "1375\n",
      "1375\n"
     ]
    }
   ],
   "source": [
    "# How many transactions are there the entire state? There are at least 3 ways to do this.\n",
    "print(len(transactions.groupby('store')))\n",
    "print(transactions.store.nunique())\n",
    "print(len(transactions.store.unique()))"
   ]
  },
  {
   "cell_type": "code",
   "execution_count": 13,
   "metadata": {},
   "outputs": [
    {
     "name": "stdout",
     "output_type": "stream",
     "text": [
      "1375\n"
     ]
    },
    {
     "data": {
      "text/html": [
       "<div>\n",
       "<style>\n",
       "    .dataframe thead tr:only-child th {\n",
       "        text-align: right;\n",
       "    }\n",
       "\n",
       "    .dataframe thead th {\n",
       "        text-align: left;\n",
       "    }\n",
       "\n",
       "    .dataframe tbody tr th {\n",
       "        vertical-align: top;\n",
       "    }\n",
       "</style>\n",
       "<table border=\"1\" class=\"dataframe\">\n",
       "  <thead>\n",
       "    <tr style=\"text-align: right;\">\n",
       "      <th></th>\n",
       "      <th>fips</th>\n",
       "      <th>metro</th>\n",
       "      <th>unemployment</th>\n",
       "      <th>income</th>\n",
       "      <th>population</th>\n",
       "      <th>retail</th>\n",
       "      <th>bottles</th>\n",
       "    </tr>\n",
       "    <tr>\n",
       "      <th>store</th>\n",
       "      <th></th>\n",
       "      <th></th>\n",
       "      <th></th>\n",
       "      <th></th>\n",
       "      <th></th>\n",
       "      <th></th>\n",
       "      <th></th>\n",
       "    </tr>\n",
       "  </thead>\n",
       "  <tbody>\n",
       "    <tr>\n",
       "      <th>2106</th>\n",
       "      <td>19013.0</td>\n",
       "      <td>3.0</td>\n",
       "      <td>4.7</td>\n",
       "      <td>50887.0</td>\n",
       "      <td>131090.0</td>\n",
       "      <td>16.225173</td>\n",
       "      <td>19.588247</td>\n",
       "    </tr>\n",
       "    <tr>\n",
       "      <th>2113</th>\n",
       "      <td>19187.0</td>\n",
       "      <td>5.0</td>\n",
       "      <td>4.0</td>\n",
       "      <td>48013.0</td>\n",
       "      <td>38013.0</td>\n",
       "      <td>15.963071</td>\n",
       "      <td>4.763409</td>\n",
       "    </tr>\n",
       "    <tr>\n",
       "      <th>2130</th>\n",
       "      <td>19013.0</td>\n",
       "      <td>3.0</td>\n",
       "      <td>4.7</td>\n",
       "      <td>50887.0</td>\n",
       "      <td>131090.0</td>\n",
       "      <td>15.423895</td>\n",
       "      <td>18.374778</td>\n",
       "    </tr>\n",
       "    <tr>\n",
       "      <th>2152</th>\n",
       "      <td>19033.0</td>\n",
       "      <td>5.0</td>\n",
       "      <td>3.7</td>\n",
       "      <td>53109.0</td>\n",
       "      <td>44151.0</td>\n",
       "      <td>12.897199</td>\n",
       "      <td>4.131010</td>\n",
       "    </tr>\n",
       "    <tr>\n",
       "      <th>2178</th>\n",
       "      <td>19005.0</td>\n",
       "      <td>6.0</td>\n",
       "      <td>5.0</td>\n",
       "      <td>49439.0</td>\n",
       "      <td>14330.0</td>\n",
       "      <td>15.046966</td>\n",
       "      <td>7.699587</td>\n",
       "    </tr>\n",
       "  </tbody>\n",
       "</table>\n",
       "</div>"
      ],
      "text/plain": [
       "          fips  metro  unemployment   income  population     retail    bottles\n",
       "store                                                                         \n",
       "2106   19013.0    3.0           4.7  50887.0    131090.0  16.225173  19.588247\n",
       "2113   19187.0    5.0           4.0  48013.0     38013.0  15.963071   4.763409\n",
       "2130   19013.0    3.0           4.7  50887.0    131090.0  15.423895  18.374778\n",
       "2152   19033.0    5.0           3.7  53109.0     44151.0  12.897199   4.131010\n",
       "2178   19005.0    6.0           5.0  49439.0     14330.0  15.046966   7.699587"
      ]
     },
     "execution_count": 13,
     "metadata": {},
     "output_type": "execute_result"
    }
   ],
   "source": [
    "# create a new dataset where every row is a store\n",
    "stores=transactions.drop(['cost', 'year', 'profit_per_sale'], axis=1).groupby('store').mean()\n",
    "print(len(stores))\n",
    "stores.head()"
   ]
  },
  {
   "cell_type": "code",
   "execution_count": null,
   "metadata": {},
   "outputs": [],
   "source": []
  },
  {
   "cell_type": "code",
   "execution_count": 14,
   "metadata": {
    "collapsed": true
   },
   "outputs": [],
   "source": [
    "# Reset the index so it isn't \"store\"\n",
    "stores.reset_index(level=0, inplace=True)"
   ]
  },
  {
   "cell_type": "code",
   "execution_count": 15,
   "metadata": {},
   "outputs": [],
   "source": [
    "# Merge back in the \"annual profit\" variable\n",
    "stores=pd.merge(stores, profit, on='store')"
   ]
  },
  {
   "cell_type": "code",
   "execution_count": 16,
   "metadata": {},
   "outputs": [
    {
     "name": "stdout",
     "output_type": "stream",
     "text": [
      "Index(['store', 'fips', 'metro', 'unemployment', 'income', 'population',\n",
      "       'retail', 'bottles', 'profit_per_sale'],\n",
      "      dtype='object')\n"
     ]
    },
    {
     "ename": "ValueError",
     "evalue": "Length mismatch: Expected axis has 9 elements, new values have 8 elements",
     "output_type": "error",
     "traceback": [
      "\u001b[0;31m---------------------------------------------------------------------------\u001b[0m",
      "\u001b[0;31mValueError\u001b[0m                                Traceback (most recent call last)",
      "\u001b[0;32m<ipython-input-16-7a58d5975f34>\u001b[0m in \u001b[0;36m<module>\u001b[0;34m()\u001b[0m\n\u001b[1;32m      3\u001b[0m new_cols=['fips', 'metro', 'unemployment', 'income', 'population',\n\u001b[1;32m      4\u001b[0m        'ave_bottle_price', 'ave_number_bottles', 'annual_profit_per_store']\n\u001b[0;32m----> 5\u001b[0;31m \u001b[0mstores\u001b[0m\u001b[0;34m.\u001b[0m\u001b[0mcolumns\u001b[0m\u001b[0;34m=\u001b[0m\u001b[0mnew_cols\u001b[0m\u001b[0;34m\u001b[0m\u001b[0m\n\u001b[0m",
      "\u001b[0;32m~/anaconda3/lib/python3.6/site-packages/pandas/core/generic.py\u001b[0m in \u001b[0;36m__setattr__\u001b[0;34m(self, name, value)\u001b[0m\n\u001b[1;32m   3092\u001b[0m         \u001b[0;32mtry\u001b[0m\u001b[0;34m:\u001b[0m\u001b[0;34m\u001b[0m\u001b[0m\n\u001b[1;32m   3093\u001b[0m             \u001b[0mobject\u001b[0m\u001b[0;34m.\u001b[0m\u001b[0m__getattribute__\u001b[0m\u001b[0;34m(\u001b[0m\u001b[0mself\u001b[0m\u001b[0;34m,\u001b[0m \u001b[0mname\u001b[0m\u001b[0;34m)\u001b[0m\u001b[0;34m\u001b[0m\u001b[0m\n\u001b[0;32m-> 3094\u001b[0;31m             \u001b[0;32mreturn\u001b[0m \u001b[0mobject\u001b[0m\u001b[0;34m.\u001b[0m\u001b[0m__setattr__\u001b[0m\u001b[0;34m(\u001b[0m\u001b[0mself\u001b[0m\u001b[0;34m,\u001b[0m \u001b[0mname\u001b[0m\u001b[0;34m,\u001b[0m \u001b[0mvalue\u001b[0m\u001b[0;34m)\u001b[0m\u001b[0;34m\u001b[0m\u001b[0m\n\u001b[0m\u001b[1;32m   3095\u001b[0m         \u001b[0;32mexcept\u001b[0m \u001b[0mAttributeError\u001b[0m\u001b[0;34m:\u001b[0m\u001b[0;34m\u001b[0m\u001b[0m\n\u001b[1;32m   3096\u001b[0m             \u001b[0;32mpass\u001b[0m\u001b[0;34m\u001b[0m\u001b[0m\n",
      "\u001b[0;32mpandas/_libs/src/properties.pyx\u001b[0m in \u001b[0;36mpandas._libs.lib.AxisProperty.__set__\u001b[0;34m()\u001b[0m\n",
      "\u001b[0;32m~/anaconda3/lib/python3.6/site-packages/pandas/core/generic.py\u001b[0m in \u001b[0;36m_set_axis\u001b[0;34m(self, axis, labels)\u001b[0m\n\u001b[1;32m    471\u001b[0m \u001b[0;34m\u001b[0m\u001b[0m\n\u001b[1;32m    472\u001b[0m     \u001b[0;32mdef\u001b[0m \u001b[0m_set_axis\u001b[0m\u001b[0;34m(\u001b[0m\u001b[0mself\u001b[0m\u001b[0;34m,\u001b[0m \u001b[0maxis\u001b[0m\u001b[0;34m,\u001b[0m \u001b[0mlabels\u001b[0m\u001b[0;34m)\u001b[0m\u001b[0;34m:\u001b[0m\u001b[0;34m\u001b[0m\u001b[0m\n\u001b[0;32m--> 473\u001b[0;31m         \u001b[0mself\u001b[0m\u001b[0;34m.\u001b[0m\u001b[0m_data\u001b[0m\u001b[0;34m.\u001b[0m\u001b[0mset_axis\u001b[0m\u001b[0;34m(\u001b[0m\u001b[0maxis\u001b[0m\u001b[0;34m,\u001b[0m \u001b[0mlabels\u001b[0m\u001b[0;34m)\u001b[0m\u001b[0;34m\u001b[0m\u001b[0m\n\u001b[0m\u001b[1;32m    474\u001b[0m         \u001b[0mself\u001b[0m\u001b[0;34m.\u001b[0m\u001b[0m_clear_item_cache\u001b[0m\u001b[0;34m(\u001b[0m\u001b[0;34m)\u001b[0m\u001b[0;34m\u001b[0m\u001b[0m\n\u001b[1;32m    475\u001b[0m \u001b[0;34m\u001b[0m\u001b[0m\n",
      "\u001b[0;32m~/anaconda3/lib/python3.6/site-packages/pandas/core/internals.py\u001b[0m in \u001b[0;36mset_axis\u001b[0;34m(self, axis, new_labels)\u001b[0m\n\u001b[1;32m   2834\u001b[0m             raise ValueError('Length mismatch: Expected axis has %d elements, '\n\u001b[1;32m   2835\u001b[0m                              \u001b[0;34m'new values have %d elements'\u001b[0m \u001b[0;34m%\u001b[0m\u001b[0;34m\u001b[0m\u001b[0m\n\u001b[0;32m-> 2836\u001b[0;31m                              (old_len, new_len))\n\u001b[0m\u001b[1;32m   2837\u001b[0m \u001b[0;34m\u001b[0m\u001b[0m\n\u001b[1;32m   2838\u001b[0m         \u001b[0mself\u001b[0m\u001b[0;34m.\u001b[0m\u001b[0maxes\u001b[0m\u001b[0;34m[\u001b[0m\u001b[0maxis\u001b[0m\u001b[0;34m]\u001b[0m \u001b[0;34m=\u001b[0m \u001b[0mnew_labels\u001b[0m\u001b[0;34m\u001b[0m\u001b[0m\n",
      "\u001b[0;31mValueError\u001b[0m: Length mismatch: Expected axis has 9 elements, new values have 8 elements"
     ]
    }
   ],
   "source": [
    "# Rename some of the columns\n",
    "print(stores.columns)\n",
    "new_cols=['fips', 'metro', 'unemployment', 'income', 'population',\n",
    "       'ave_bottle_price', 'ave_number_bottles', 'annual_profit_per_store']\n",
    "stores.columns=new_cols"
   ]
  },
  {
   "cell_type": "code",
   "execution_count": null,
   "metadata": {},
   "outputs": [],
   "source": [
    "# Note \n",
    "stores.head()"
   ]
  },
  {
   "cell_type": "code",
   "execution_count": null,
   "metadata": {
    "collapsed": true
   },
   "outputs": [],
   "source": [
    "# FIPS became a float. That decimal is annoying. Let's make it an integer again.\n",
    "stores.fips=stores.fips.astype(int)"
   ]
  },
  {
   "cell_type": "code",
   "execution_count": null,
   "metadata": {},
   "outputs": [],
   "source": [
    "# How many counties are there?\n",
    "stores.fips.nunique()"
   ]
  },
  {
   "cell_type": "code",
   "execution_count": null,
   "metadata": {},
   "outputs": [],
   "source": [
    "# How many stores are there in each county?\n",
    "x=stores.fips.value_counts()\n",
    "print(len(x))\n",
    "x.head()"
   ]
  },
  {
   "cell_type": "markdown",
   "metadata": {},
   "source": [
    "## County-level dataset"
   ]
  },
  {
   "cell_type": "code",
   "execution_count": null,
   "metadata": {},
   "outputs": [],
   "source": [
    "# What's the metro/nonmetro status of each county?\n",
    "y=stores.groupby('fips').metro.mean()\n",
    "print(len(y))"
   ]
  },
  {
   "cell_type": "code",
   "execution_count": null,
   "metadata": {},
   "outputs": [],
   "source": [
    "# Is there a relationship between nonmetro status and number of stores in a county?\n",
    "plt.scatter(x,y)\n",
    "plt.ylabel('metro')\n",
    "plt.xlabel('stores')\n",
    "plt.title('rural counties have more liquor stores')\n",
    "plt.show"
   ]
  },
  {
   "cell_type": "code",
   "execution_count": null,
   "metadata": {},
   "outputs": [],
   "source": [
    "# Polk county has over 200 liquor stores.\n",
    "transactions[transactions.fips==19153].head()"
   ]
  },
  {
   "cell_type": "code",
   "execution_count": null,
   "metadata": {
    "collapsed": true
   },
   "outputs": [],
   "source": []
  },
  {
   "cell_type": "code",
   "execution_count": null,
   "metadata": {
    "collapsed": true
   },
   "outputs": [],
   "source": []
  }
 ],
 "metadata": {
  "anaconda-cloud": {},
  "kernelspec": {
   "display_name": "Python 3",
   "language": "python",
   "name": "python3"
  },
  "language_info": {
   "codemirror_mode": {
    "name": "ipython",
    "version": 3
   },
   "file_extension": ".py",
   "mimetype": "text/x-python",
   "name": "python",
   "nbconvert_exporter": "python",
   "pygments_lexer": "ipython3",
   "version": "3.6.3"
  }
 },
 "nbformat": 4,
 "nbformat_minor": 1
}
