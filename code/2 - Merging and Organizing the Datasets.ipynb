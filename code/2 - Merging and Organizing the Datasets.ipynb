{
 "cells": [
  {
   "cell_type": "code",
   "execution_count": 1,
   "metadata": {
    "collapsed": true
   },
   "outputs": [],
   "source": [
    "import pandas as pd\n",
    "import seaborn as sns\n",
    "import matplotlib.pyplot as plt\n",
    "%matplotlib inline"
   ]
  },
  {
   "cell_type": "markdown",
   "metadata": {},
   "source": [
    "# Transaction-level Dataset\n"
   ]
  },
  {
   "cell_type": "code",
   "execution_count": 2,
   "metadata": {
    "collapsed": true
   },
   "outputs": [],
   "source": [
    "## Load the data into a DataFrame\n",
    "transactions=pd.read_csv('/Users/austinlasseter/DSI-EC-2/projects/datasets/iowa_liquor_short.csv')"
   ]
  },
  {
   "cell_type": "code",
   "execution_count": 3,
   "metadata": {
    "collapsed": true
   },
   "outputs": [],
   "source": [
    "# Drop the columns I don't plan to use\n",
    "transactions=transactions.drop(['Area_name', 'State', 'Unnamed: 0', 'Date', 'County Number'], axis=1);"
   ]
  },
  {
   "cell_type": "code",
   "execution_count": 4,
   "metadata": {},
   "outputs": [
    {
     "data": {
      "text/plain": [
       "Index(['FIPS', 'Rural_urban_continuum_code_2013', 'Unemployment_rate_2016',\n",
       "       'Median_Household_Income_2016', 'CENSUS_2010_POP', 'County',\n",
       "       'Store Number', 'State Bottle Cost', 'State Bottle Retail',\n",
       "       'Bottles Sold', 'Year'],\n",
       "      dtype='object')"
      ]
     },
     "execution_count": 4,
     "metadata": {},
     "output_type": "execute_result"
    }
   ],
   "source": [
    "# Some of these names are really long.\n",
    "transactions.columns"
   ]
  },
  {
   "cell_type": "code",
   "execution_count": 5,
   "metadata": {},
   "outputs": [
    {
     "data": {
      "text/html": [
       "<div>\n",
       "<style>\n",
       "    .dataframe thead tr:only-child th {\n",
       "        text-align: right;\n",
       "    }\n",
       "\n",
       "    .dataframe thead th {\n",
       "        text-align: left;\n",
       "    }\n",
       "\n",
       "    .dataframe tbody tr th {\n",
       "        vertical-align: top;\n",
       "    }\n",
       "</style>\n",
       "<table border=\"1\" class=\"dataframe\">\n",
       "  <thead>\n",
       "    <tr style=\"text-align: right;\">\n",
       "      <th></th>\n",
       "      <th>fips</th>\n",
       "      <th>metro</th>\n",
       "      <th>unemployment</th>\n",
       "      <th>income</th>\n",
       "      <th>population</th>\n",
       "      <th>county</th>\n",
       "      <th>store</th>\n",
       "      <th>cost</th>\n",
       "      <th>retail</th>\n",
       "      <th>bottles</th>\n",
       "      <th>year</th>\n",
       "    </tr>\n",
       "  </thead>\n",
       "  <tbody>\n",
       "    <tr>\n",
       "      <th>0</th>\n",
       "      <td>19001</td>\n",
       "      <td>8.0</td>\n",
       "      <td>3.0</td>\n",
       "      <td>53416.0</td>\n",
       "      <td>7682</td>\n",
       "      <td>Adair</td>\n",
       "      <td>3461</td>\n",
       "      <td>$5.23</td>\n",
       "      <td>$7.85</td>\n",
       "      <td>12</td>\n",
       "      <td>2015</td>\n",
       "    </tr>\n",
       "    <tr>\n",
       "      <th>1</th>\n",
       "      <td>19001</td>\n",
       "      <td>8.0</td>\n",
       "      <td>3.0</td>\n",
       "      <td>53416.0</td>\n",
       "      <td>7682</td>\n",
       "      <td>Adair</td>\n",
       "      <td>3461</td>\n",
       "      <td>$6.74</td>\n",
       "      <td>$10.11</td>\n",
       "      <td>4</td>\n",
       "      <td>2015</td>\n",
       "    </tr>\n",
       "    <tr>\n",
       "      <th>2</th>\n",
       "      <td>19001</td>\n",
       "      <td>8.0</td>\n",
       "      <td>3.0</td>\n",
       "      <td>53416.0</td>\n",
       "      <td>7682</td>\n",
       "      <td>Adair</td>\n",
       "      <td>3461</td>\n",
       "      <td>$4.00</td>\n",
       "      <td>$6.00</td>\n",
       "      <td>3</td>\n",
       "      <td>2015</td>\n",
       "    </tr>\n",
       "    <tr>\n",
       "      <th>3</th>\n",
       "      <td>19001</td>\n",
       "      <td>8.0</td>\n",
       "      <td>3.0</td>\n",
       "      <td>53416.0</td>\n",
       "      <td>7682</td>\n",
       "      <td>Adair</td>\n",
       "      <td>4620</td>\n",
       "      <td>$5.48</td>\n",
       "      <td>$8.22</td>\n",
       "      <td>24</td>\n",
       "      <td>2015</td>\n",
       "    </tr>\n",
       "    <tr>\n",
       "      <th>4</th>\n",
       "      <td>19001</td>\n",
       "      <td>8.0</td>\n",
       "      <td>3.0</td>\n",
       "      <td>53416.0</td>\n",
       "      <td>7682</td>\n",
       "      <td>Adair</td>\n",
       "      <td>4654</td>\n",
       "      <td>$12.05</td>\n",
       "      <td>$18.08</td>\n",
       "      <td>12</td>\n",
       "      <td>2015</td>\n",
       "    </tr>\n",
       "  </tbody>\n",
       "</table>\n",
       "</div>"
      ],
      "text/plain": [
       "    fips  metro  unemployment   income  population county  store    cost  \\\n",
       "0  19001    8.0           3.0  53416.0        7682  Adair   3461   $5.23   \n",
       "1  19001    8.0           3.0  53416.0        7682  Adair   3461   $6.74   \n",
       "2  19001    8.0           3.0  53416.0        7682  Adair   3461   $4.00   \n",
       "3  19001    8.0           3.0  53416.0        7682  Adair   4620   $5.48   \n",
       "4  19001    8.0           3.0  53416.0        7682  Adair   4654  $12.05   \n",
       "\n",
       "   retail  bottles  year  \n",
       "0   $7.85       12  2015  \n",
       "1  $10.11        4  2015  \n",
       "2   $6.00        3  2015  \n",
       "3   $8.22       24  2015  \n",
       "4  $18.08       12  2015  "
      ]
     },
     "execution_count": 5,
     "metadata": {},
     "output_type": "execute_result"
    }
   ],
   "source": [
    "# Shorten those names, and make them lower-case (this is best practice)\n",
    "new_cols=['fips', 'metro', 'unemployment',\n",
    "       'income', 'population', 'county',\n",
    "       'store', 'cost', 'retail',\n",
    "       'bottles', 'year']\n",
    "transactions.columns=new_cols\n",
    "transactions.head()"
   ]
  },
  {
   "cell_type": "code",
   "execution_count": 6,
   "metadata": {
    "collapsed": true
   },
   "outputs": [],
   "source": [
    "# Convert cost and retail into numeric values\n",
    "transactions['cost']=transactions['cost'].replace( '[\\$,)]','', regex=True ).astype(float)\n",
    "transactions['retail']=transactions['retail'].replace( '[\\$,)]','', regex=True ).astype(float)"
   ]
  },
  {
   "cell_type": "code",
   "execution_count": 7,
   "metadata": {},
   "outputs": [
    {
     "data": {
      "text/plain": [
       "dtype('int64')"
      ]
     },
     "execution_count": 7,
     "metadata": {},
     "output_type": "execute_result"
    }
   ],
   "source": [
    "# Make sure that \"bottles\" is an integer\n",
    "transactions.bottles.dtype"
   ]
  },
  {
   "cell_type": "code",
   "execution_count": 8,
   "metadata": {
    "collapsed": true
   },
   "outputs": [],
   "source": [
    "# restrict the dataset only to 2015 sales (so we have a complete year of information)\n",
    "transactions=transactions[transactions['year']==2015]"
   ]
  },
  {
   "cell_type": "code",
   "execution_count": 9,
   "metadata": {},
   "outputs": [
    {
     "data": {
      "text/html": [
       "<div>\n",
       "<style>\n",
       "    .dataframe thead tr:only-child th {\n",
       "        text-align: right;\n",
       "    }\n",
       "\n",
       "    .dataframe thead th {\n",
       "        text-align: left;\n",
       "    }\n",
       "\n",
       "    .dataframe tbody tr th {\n",
       "        vertical-align: top;\n",
       "    }\n",
       "</style>\n",
       "<table border=\"1\" class=\"dataframe\">\n",
       "  <thead>\n",
       "    <tr style=\"text-align: right;\">\n",
       "      <th></th>\n",
       "      <th>fips</th>\n",
       "      <th>metro</th>\n",
       "      <th>unemployment</th>\n",
       "      <th>income</th>\n",
       "      <th>population</th>\n",
       "      <th>county</th>\n",
       "      <th>store</th>\n",
       "      <th>cost</th>\n",
       "      <th>retail</th>\n",
       "      <th>bottles</th>\n",
       "      <th>year</th>\n",
       "      <th>profit_per_sale</th>\n",
       "    </tr>\n",
       "  </thead>\n",
       "  <tbody>\n",
       "    <tr>\n",
       "      <th>0</th>\n",
       "      <td>19001</td>\n",
       "      <td>8.0</td>\n",
       "      <td>3.0</td>\n",
       "      <td>53416.0</td>\n",
       "      <td>7682</td>\n",
       "      <td>Adair</td>\n",
       "      <td>3461</td>\n",
       "      <td>5.23</td>\n",
       "      <td>7.85</td>\n",
       "      <td>12</td>\n",
       "      <td>2015</td>\n",
       "      <td>37.0992</td>\n",
       "    </tr>\n",
       "    <tr>\n",
       "      <th>1</th>\n",
       "      <td>19001</td>\n",
       "      <td>8.0</td>\n",
       "      <td>3.0</td>\n",
       "      <td>53416.0</td>\n",
       "      <td>7682</td>\n",
       "      <td>Adair</td>\n",
       "      <td>3461</td>\n",
       "      <td>6.74</td>\n",
       "      <td>10.11</td>\n",
       "      <td>4</td>\n",
       "      <td>2015</td>\n",
       "      <td>15.9064</td>\n",
       "    </tr>\n",
       "    <tr>\n",
       "      <th>2</th>\n",
       "      <td>19001</td>\n",
       "      <td>8.0</td>\n",
       "      <td>3.0</td>\n",
       "      <td>53416.0</td>\n",
       "      <td>7682</td>\n",
       "      <td>Adair</td>\n",
       "      <td>3461</td>\n",
       "      <td>4.00</td>\n",
       "      <td>6.00</td>\n",
       "      <td>3</td>\n",
       "      <td>2015</td>\n",
       "      <td>7.0800</td>\n",
       "    </tr>\n",
       "    <tr>\n",
       "      <th>3</th>\n",
       "      <td>19001</td>\n",
       "      <td>8.0</td>\n",
       "      <td>3.0</td>\n",
       "      <td>53416.0</td>\n",
       "      <td>7682</td>\n",
       "      <td>Adair</td>\n",
       "      <td>4620</td>\n",
       "      <td>5.48</td>\n",
       "      <td>8.22</td>\n",
       "      <td>24</td>\n",
       "      <td>2015</td>\n",
       "      <td>77.5968</td>\n",
       "    </tr>\n",
       "    <tr>\n",
       "      <th>4</th>\n",
       "      <td>19001</td>\n",
       "      <td>8.0</td>\n",
       "      <td>3.0</td>\n",
       "      <td>53416.0</td>\n",
       "      <td>7682</td>\n",
       "      <td>Adair</td>\n",
       "      <td>4654</td>\n",
       "      <td>12.05</td>\n",
       "      <td>18.08</td>\n",
       "      <td>12</td>\n",
       "      <td>2015</td>\n",
       "      <td>85.3848</td>\n",
       "    </tr>\n",
       "  </tbody>\n",
       "</table>\n",
       "</div>"
      ],
      "text/plain": [
       "    fips  metro  unemployment   income  population county  store   cost  \\\n",
       "0  19001    8.0           3.0  53416.0        7682  Adair   3461   5.23   \n",
       "1  19001    8.0           3.0  53416.0        7682  Adair   3461   6.74   \n",
       "2  19001    8.0           3.0  53416.0        7682  Adair   3461   4.00   \n",
       "3  19001    8.0           3.0  53416.0        7682  Adair   4620   5.48   \n",
       "4  19001    8.0           3.0  53416.0        7682  Adair   4654  12.05   \n",
       "\n",
       "   retail  bottles  year  profit_per_sale  \n",
       "0    7.85       12  2015          37.0992  \n",
       "1   10.11        4  2015          15.9064  \n",
       "2    6.00        3  2015           7.0800  \n",
       "3    8.22       24  2015          77.5968  \n",
       "4   18.08       12  2015          85.3848  "
      ]
     },
     "execution_count": 9,
     "metadata": {},
     "output_type": "execute_result"
    }
   ],
   "source": [
    "# Calculate transaction-level profit. Note that we include a multiplier of 18% for mark-up over state profit.\n",
    "transactions['profit_per_sale'] = ((transactions['retail'] - transactions['cost'])*transactions['bottles'])*1.18\n",
    "transactions.head()"
   ]
  },
  {
   "cell_type": "code",
   "execution_count": 10,
   "metadata": {},
   "outputs": [
    {
     "name": "stdout",
     "output_type": "stream",
     "text": [
      "1375\n"
     ]
    }
   ],
   "source": [
    "# Calculate store-level annual profit\n",
    "x=transactions['profit_per_sale'].groupby(transactions['store']).sum()\n",
    "print(len(x))\n",
    "profit=pd.DataFrame(x);"
   ]
  },
  {
   "cell_type": "code",
   "execution_count": 11,
   "metadata": {},
   "outputs": [
    {
     "data": {
      "text/html": [
       "<div>\n",
       "<style>\n",
       "    .dataframe thead tr:only-child th {\n",
       "        text-align: right;\n",
       "    }\n",
       "\n",
       "    .dataframe thead th {\n",
       "        text-align: left;\n",
       "    }\n",
       "\n",
       "    .dataframe tbody tr th {\n",
       "        vertical-align: top;\n",
       "    }\n",
       "</style>\n",
       "<table border=\"1\" class=\"dataframe\">\n",
       "  <thead>\n",
       "    <tr style=\"text-align: right;\">\n",
       "      <th></th>\n",
       "      <th>store</th>\n",
       "      <th>profit_per_sale</th>\n",
       "    </tr>\n",
       "  </thead>\n",
       "  <tbody>\n",
       "    <tr>\n",
       "      <th>0</th>\n",
       "      <td>2106</td>\n",
       "      <td>564860.3596</td>\n",
       "    </tr>\n",
       "    <tr>\n",
       "      <th>1</th>\n",
       "      <td>2113</td>\n",
       "      <td>33857.9524</td>\n",
       "    </tr>\n",
       "    <tr>\n",
       "      <th>2</th>\n",
       "      <td>2130</td>\n",
       "      <td>436217.3732</td>\n",
       "    </tr>\n",
       "    <tr>\n",
       "      <th>3</th>\n",
       "      <td>2152</td>\n",
       "      <td>28489.2710</td>\n",
       "    </tr>\n",
       "    <tr>\n",
       "      <th>4</th>\n",
       "      <td>2178</td>\n",
       "      <td>110017.9018</td>\n",
       "    </tr>\n",
       "  </tbody>\n",
       "</table>\n",
       "</div>"
      ],
      "text/plain": [
       "   store  profit_per_sale\n",
       "0   2106      564860.3596\n",
       "1   2113       33857.9524\n",
       "2   2130      436217.3732\n",
       "3   2152       28489.2710\n",
       "4   2178      110017.9018"
      ]
     },
     "execution_count": 11,
     "metadata": {},
     "output_type": "execute_result"
    }
   ],
   "source": [
    "# Reset the index so it isn't \"store\"\n",
    "profit.reset_index(level=0, inplace=True)\n",
    "profit.head()"
   ]
  },
  {
   "cell_type": "markdown",
   "metadata": {},
   "source": [
    "# Store-level data"
   ]
  },
  {
   "cell_type": "code",
   "execution_count": 12,
   "metadata": {},
   "outputs": [
    {
     "name": "stdout",
     "output_type": "stream",
     "text": [
      "1375\n",
      "1375\n",
      "1375\n"
     ]
    }
   ],
   "source": [
    "# How many stores are there the entire state? There are at least 3 ways to do this.\n",
    "print(len(transactions.groupby('store')))\n",
    "print(transactions.store.nunique())\n",
    "print(len(transactions.store.unique()))"
   ]
  },
  {
   "cell_type": "code",
   "execution_count": 13,
   "metadata": {},
   "outputs": [
    {
     "name": "stdout",
     "output_type": "stream",
     "text": [
      "1375\n"
     ]
    },
    {
     "data": {
      "text/html": [
       "<div>\n",
       "<style>\n",
       "    .dataframe thead tr:only-child th {\n",
       "        text-align: right;\n",
       "    }\n",
       "\n",
       "    .dataframe thead th {\n",
       "        text-align: left;\n",
       "    }\n",
       "\n",
       "    .dataframe tbody tr th {\n",
       "        vertical-align: top;\n",
       "    }\n",
       "</style>\n",
       "<table border=\"1\" class=\"dataframe\">\n",
       "  <thead>\n",
       "    <tr style=\"text-align: right;\">\n",
       "      <th></th>\n",
       "      <th>store</th>\n",
       "      <th>fips</th>\n",
       "      <th>metro</th>\n",
       "      <th>unemployment</th>\n",
       "      <th>income</th>\n",
       "      <th>population</th>\n",
       "      <th>retail</th>\n",
       "      <th>bottles</th>\n",
       "    </tr>\n",
       "  </thead>\n",
       "  <tbody>\n",
       "    <tr>\n",
       "      <th>0</th>\n",
       "      <td>2106</td>\n",
       "      <td>19013.0</td>\n",
       "      <td>3.0</td>\n",
       "      <td>4.7</td>\n",
       "      <td>50887.0</td>\n",
       "      <td>131090.0</td>\n",
       "      <td>16.225173</td>\n",
       "      <td>19.588247</td>\n",
       "    </tr>\n",
       "    <tr>\n",
       "      <th>1</th>\n",
       "      <td>2113</td>\n",
       "      <td>19187.0</td>\n",
       "      <td>5.0</td>\n",
       "      <td>4.0</td>\n",
       "      <td>48013.0</td>\n",
       "      <td>38013.0</td>\n",
       "      <td>15.963071</td>\n",
       "      <td>4.763409</td>\n",
       "    </tr>\n",
       "    <tr>\n",
       "      <th>2</th>\n",
       "      <td>2130</td>\n",
       "      <td>19013.0</td>\n",
       "      <td>3.0</td>\n",
       "      <td>4.7</td>\n",
       "      <td>50887.0</td>\n",
       "      <td>131090.0</td>\n",
       "      <td>15.423895</td>\n",
       "      <td>18.374778</td>\n",
       "    </tr>\n",
       "    <tr>\n",
       "      <th>3</th>\n",
       "      <td>2152</td>\n",
       "      <td>19033.0</td>\n",
       "      <td>5.0</td>\n",
       "      <td>3.7</td>\n",
       "      <td>53109.0</td>\n",
       "      <td>44151.0</td>\n",
       "      <td>12.897199</td>\n",
       "      <td>4.131010</td>\n",
       "    </tr>\n",
       "    <tr>\n",
       "      <th>4</th>\n",
       "      <td>2178</td>\n",
       "      <td>19005.0</td>\n",
       "      <td>6.0</td>\n",
       "      <td>5.0</td>\n",
       "      <td>49439.0</td>\n",
       "      <td>14330.0</td>\n",
       "      <td>15.046966</td>\n",
       "      <td>7.699587</td>\n",
       "    </tr>\n",
       "  </tbody>\n",
       "</table>\n",
       "</div>"
      ],
      "text/plain": [
       "   store     fips  metro  unemployment   income  population     retail  \\\n",
       "0   2106  19013.0    3.0           4.7  50887.0    131090.0  16.225173   \n",
       "1   2113  19187.0    5.0           4.0  48013.0     38013.0  15.963071   \n",
       "2   2130  19013.0    3.0           4.7  50887.0    131090.0  15.423895   \n",
       "3   2152  19033.0    5.0           3.7  53109.0     44151.0  12.897199   \n",
       "4   2178  19005.0    6.0           5.0  49439.0     14330.0  15.046966   \n",
       "\n",
       "     bottles  \n",
       "0  19.588247  \n",
       "1   4.763409  \n",
       "2  18.374778  \n",
       "3   4.131010  \n",
       "4   7.699587  "
      ]
     },
     "execution_count": 13,
     "metadata": {},
     "output_type": "execute_result"
    }
   ],
   "source": [
    "# create a new dataset where every row is a store\n",
    "stores=transactions.drop(['cost', 'year', 'profit_per_sale'], axis=1).groupby('store', as_index=False).mean()\n",
    "print(len(stores))\n",
    "stores.head()"
   ]
  },
  {
   "cell_type": "code",
   "execution_count": 14,
   "metadata": {},
   "outputs": [
    {
     "name": "stdout",
     "output_type": "stream",
     "text": [
      "1375\n",
      "1375\n"
     ]
    }
   ],
   "source": [
    "# How many stores are there?\n",
    "print(transactions.store.nunique())\n",
    "print(stores.store.nunique())"
   ]
  },
  {
   "cell_type": "code",
   "execution_count": 15,
   "metadata": {
    "collapsed": true
   },
   "outputs": [],
   "source": [
    "# Merge back in the \"annual profit\" variable\n",
    "stores=pd.merge(stores, profit, on='store')"
   ]
  },
  {
   "cell_type": "code",
   "execution_count": 16,
   "metadata": {
    "collapsed": true
   },
   "outputs": [],
   "source": [
    "# FIPS became a float. That decimal is annoying. Let's make it an integer again.\n",
    "stores.fips=stores.fips.astype(int)"
   ]
  },
  {
   "cell_type": "code",
   "execution_count": 17,
   "metadata": {},
   "outputs": [
    {
     "name": "stdout",
     "output_type": "stream",
     "text": [
      "Index(['store', 'fips', 'metro', 'unemployment', 'income', 'population',\n",
      "       'retail', 'bottles', 'profit_per_sale'],\n",
      "      dtype='object')\n"
     ]
    }
   ],
   "source": [
    "# Rename some of the columns\n",
    "print(stores.columns)\n",
    "new_cols=['store_id', 'fips', 'metro', 'unemployment', 'income', 'population',\n",
    "       'ave_bottle_price', 'ave_number_bottles', 'annual_profit_per_store']\n",
    "stores.columns=new_cols"
   ]
  },
  {
   "cell_type": "code",
   "execution_count": 18,
   "metadata": {},
   "outputs": [
    {
     "data": {
      "text/html": [
       "<div>\n",
       "<style>\n",
       "    .dataframe thead tr:only-child th {\n",
       "        text-align: right;\n",
       "    }\n",
       "\n",
       "    .dataframe thead th {\n",
       "        text-align: left;\n",
       "    }\n",
       "\n",
       "    .dataframe tbody tr th {\n",
       "        vertical-align: top;\n",
       "    }\n",
       "</style>\n",
       "<table border=\"1\" class=\"dataframe\">\n",
       "  <thead>\n",
       "    <tr style=\"text-align: right;\">\n",
       "      <th></th>\n",
       "      <th>store_id</th>\n",
       "      <th>fips</th>\n",
       "      <th>metro</th>\n",
       "      <th>unemployment</th>\n",
       "      <th>income</th>\n",
       "      <th>population</th>\n",
       "      <th>ave_bottle_price</th>\n",
       "      <th>ave_number_bottles</th>\n",
       "      <th>annual_profit_per_store</th>\n",
       "    </tr>\n",
       "  </thead>\n",
       "  <tbody>\n",
       "    <tr>\n",
       "      <th>0</th>\n",
       "      <td>2106</td>\n",
       "      <td>19013</td>\n",
       "      <td>3.0</td>\n",
       "      <td>4.7</td>\n",
       "      <td>50887.0</td>\n",
       "      <td>131090.0</td>\n",
       "      <td>16.225173</td>\n",
       "      <td>19.588247</td>\n",
       "      <td>564860.3596</td>\n",
       "    </tr>\n",
       "    <tr>\n",
       "      <th>1</th>\n",
       "      <td>2113</td>\n",
       "      <td>19187</td>\n",
       "      <td>5.0</td>\n",
       "      <td>4.0</td>\n",
       "      <td>48013.0</td>\n",
       "      <td>38013.0</td>\n",
       "      <td>15.963071</td>\n",
       "      <td>4.763409</td>\n",
       "      <td>33857.9524</td>\n",
       "    </tr>\n",
       "    <tr>\n",
       "      <th>2</th>\n",
       "      <td>2130</td>\n",
       "      <td>19013</td>\n",
       "      <td>3.0</td>\n",
       "      <td>4.7</td>\n",
       "      <td>50887.0</td>\n",
       "      <td>131090.0</td>\n",
       "      <td>15.423895</td>\n",
       "      <td>18.374778</td>\n",
       "      <td>436217.3732</td>\n",
       "    </tr>\n",
       "    <tr>\n",
       "      <th>3</th>\n",
       "      <td>2152</td>\n",
       "      <td>19033</td>\n",
       "      <td>5.0</td>\n",
       "      <td>3.7</td>\n",
       "      <td>53109.0</td>\n",
       "      <td>44151.0</td>\n",
       "      <td>12.897199</td>\n",
       "      <td>4.131010</td>\n",
       "      <td>28489.2710</td>\n",
       "    </tr>\n",
       "    <tr>\n",
       "      <th>4</th>\n",
       "      <td>2178</td>\n",
       "      <td>19005</td>\n",
       "      <td>6.0</td>\n",
       "      <td>5.0</td>\n",
       "      <td>49439.0</td>\n",
       "      <td>14330.0</td>\n",
       "      <td>15.046966</td>\n",
       "      <td>7.699587</td>\n",
       "      <td>110017.9018</td>\n",
       "    </tr>\n",
       "  </tbody>\n",
       "</table>\n",
       "</div>"
      ],
      "text/plain": [
       "   store_id   fips  metro  unemployment   income  population  \\\n",
       "0      2106  19013    3.0           4.7  50887.0    131090.0   \n",
       "1      2113  19187    5.0           4.0  48013.0     38013.0   \n",
       "2      2130  19013    3.0           4.7  50887.0    131090.0   \n",
       "3      2152  19033    5.0           3.7  53109.0     44151.0   \n",
       "4      2178  19005    6.0           5.0  49439.0     14330.0   \n",
       "\n",
       "   ave_bottle_price  ave_number_bottles  annual_profit_per_store  \n",
       "0         16.225173           19.588247              564860.3596  \n",
       "1         15.963071            4.763409               33857.9524  \n",
       "2         15.423895           18.374778              436217.3732  \n",
       "3         12.897199            4.131010               28489.2710  \n",
       "4         15.046966            7.699587              110017.9018  "
      ]
     },
     "execution_count": 18,
     "metadata": {},
     "output_type": "execute_result"
    }
   ],
   "source": [
    "# Note the following:\n",
    "    # ave_bottle_price = average cost of a bottle at that store (so it distinguishes cheap vs. fancy stores)\n",
    "    # ave_number_bottles = average number of bottles per sale at that store (so it distinguishes hi vs low-selling stores)\n",
    "stores.head()"
   ]
  },
  {
   "cell_type": "code",
   "execution_count": 19,
   "metadata": {},
   "outputs": [
    {
     "name": "stdout",
     "output_type": "stream",
     "text": [
      "1375\n"
     ]
    },
    {
     "data": {
      "text/plain": [
       "<function matplotlib.pyplot.show>"
      ]
     },
     "execution_count": 19,
     "metadata": {},
     "output_type": "execute_result"
    },
    {
     "data": {
      "image/png": "[encoded data removed]",
      "text/plain": [
       "<matplotlib.figure.Figure at 0x1a1be1c1d0>"
      ]
     },
     "metadata": {},
     "output_type": "display_data"
    }
   ],
   "source": [
    "# I would guess that stores with high average bottle price have low average number, and vice versa. Let's see:\n",
    "x=stores['ave_bottle_price']\n",
    "y=stores['ave_number_bottles']\n",
    "print(len(x))\n",
    "\n",
    "plt.scatter(x,y)\n",
    "plt.xlabel('average price per bottle')\n",
    "plt.ylabel('average number of bottles')\n",
    "plt.title('fancy stores sell fewer bottles')\n",
    "plt.show"
   ]
  },
  {
   "cell_type": "code",
   "execution_count": 20,
   "metadata": {},
   "outputs": [
    {
     "data": {
      "text/plain": [
       "99"
      ]
     },
     "execution_count": 20,
     "metadata": {},
     "output_type": "execute_result"
    }
   ],
   "source": [
    "# How many counties are there?\n",
    "stores.fips.nunique()"
   ]
  },
  {
   "cell_type": "code",
   "execution_count": 21,
   "metadata": {},
   "outputs": [
    {
     "name": "stdout",
     "output_type": "stream",
     "text": [
      "99\n"
     ]
    },
    {
     "data": {
      "text/plain": [
       "19153    206\n",
       "19113    101\n",
       "19013     72\n",
       "19163     66\n",
       "19103     53\n",
       "Name: fips, dtype: int64"
      ]
     },
     "execution_count": 21,
     "metadata": {},
     "output_type": "execute_result"
    }
   ],
   "source": [
    "# How many stores are there in each county?\n",
    "x=stores.fips.value_counts()\n",
    "print(len(x))\n",
    "x.head()"
   ]
  },
  {
   "cell_type": "code",
   "execution_count": 22,
   "metadata": {},
   "outputs": [
    {
     "name": "stdout",
     "output_type": "stream",
     "text": [
      "99\n"
     ]
    }
   ],
   "source": [
    "# Save that information into a county-level variable\n",
    "x=stores.fips.value_counts()\n",
    "print(len(x))\n",
    "stores_in_fips=pd.DataFrame(x);"
   ]
  },
  {
   "cell_type": "code",
   "execution_count": 23,
   "metadata": {
    "collapsed": true
   },
   "outputs": [],
   "source": [
    "# Reset the index so it isn't \"fips\"\n",
    "stores_in_fips.reset_index(level=0, inplace=True)"
   ]
  },
  {
   "cell_type": "code",
   "execution_count": 24,
   "metadata": {},
   "outputs": [
    {
     "name": "stdout",
     "output_type": "stream",
     "text": [
      "99\n"
     ]
    },
    {
     "data": {
      "text/html": [
       "<div>\n",
       "<style>\n",
       "    .dataframe thead tr:only-child th {\n",
       "        text-align: right;\n",
       "    }\n",
       "\n",
       "    .dataframe thead th {\n",
       "        text-align: left;\n",
       "    }\n",
       "\n",
       "    .dataframe tbody tr th {\n",
       "        vertical-align: top;\n",
       "    }\n",
       "</style>\n",
       "<table border=\"1\" class=\"dataframe\">\n",
       "  <thead>\n",
       "    <tr style=\"text-align: right;\">\n",
       "      <th></th>\n",
       "      <th>fips</th>\n",
       "      <th>number_of_stores</th>\n",
       "    </tr>\n",
       "  </thead>\n",
       "  <tbody>\n",
       "    <tr>\n",
       "      <th>0</th>\n",
       "      <td>19153</td>\n",
       "      <td>206</td>\n",
       "    </tr>\n",
       "    <tr>\n",
       "      <th>1</th>\n",
       "      <td>19113</td>\n",
       "      <td>101</td>\n",
       "    </tr>\n",
       "    <tr>\n",
       "      <th>2</th>\n",
       "      <td>19013</td>\n",
       "      <td>72</td>\n",
       "    </tr>\n",
       "    <tr>\n",
       "      <th>3</th>\n",
       "      <td>19163</td>\n",
       "      <td>66</td>\n",
       "    </tr>\n",
       "    <tr>\n",
       "      <th>4</th>\n",
       "      <td>19103</td>\n",
       "      <td>53</td>\n",
       "    </tr>\n",
       "  </tbody>\n",
       "</table>\n",
       "</div>"
      ],
      "text/plain": [
       "    fips  number_of_stores\n",
       "0  19153               206\n",
       "1  19113               101\n",
       "2  19013                72\n",
       "3  19163                66\n",
       "4  19103                53"
      ]
     },
     "execution_count": 24,
     "metadata": {},
     "output_type": "execute_result"
    }
   ],
   "source": [
    "# rename the columns\n",
    "new_cols=['fips', 'number_of_stores']\n",
    "stores_in_fips.columns=new_cols\n",
    "print(len(stores_in_fips))\n",
    "stores_in_fips.head()"
   ]
  },
  {
   "cell_type": "code",
   "execution_count": 25,
   "metadata": {
    "collapsed": true
   },
   "outputs": [],
   "source": [
    "# Merge back in the \"stores in fips\" variable\n",
    "stores=pd.merge(stores, stores_in_fips, on='fips')"
   ]
  },
  {
   "cell_type": "code",
   "execution_count": 26,
   "metadata": {},
   "outputs": [
    {
     "name": "stdout",
     "output_type": "stream",
     "text": [
      "99\n"
     ]
    },
    {
     "data": {
      "text/plain": [
       "fips   number_of_stores\n",
       "19001  8                    8\n",
       "19003  1                    1\n",
       "19005  6                    6\n",
       "19007  6                    6\n",
       "19009  3                    3\n",
       "19011  6                    6\n",
       "19013  72                  72\n",
       "19015  15                  15\n",
       "19017  9                    9\n",
       "19019  10                  10\n",
       "Name: number_of_stores, dtype: int64"
      ]
     },
     "execution_count": 26,
     "metadata": {},
     "output_type": "execute_result"
    }
   ],
   "source": [
    "print(len(stores.groupby('fips').number_of_stores.value_counts()))\n",
    "stores.groupby('fips').number_of_stores.value_counts().head(10)"
   ]
  },
  {
   "cell_type": "code",
   "execution_count": 27,
   "metadata": {
    "collapsed": true
   },
   "outputs": [],
   "source": [
    "# Stores by population\n",
    "stores['density']=stores['population']/stores['number_of_stores']"
   ]
  },
  {
   "cell_type": "code",
   "execution_count": 28,
   "metadata": {},
   "outputs": [
    {
     "data": {
      "text/plain": [
       "fips\n",
       "19001     960.250000\n",
       "19003    4029.000000\n",
       "19005    2388.333333\n",
       "19007    2147.833333\n",
       "19009    2039.666667\n",
       "Name: density, dtype: float64"
      ]
     },
     "execution_count": 28,
     "metadata": {},
     "output_type": "execute_result"
    }
   ],
   "source": [
    "stores.groupby('fips').density.mean().head()"
   ]
  },
  {
   "cell_type": "markdown",
   "metadata": {},
   "source": [
    "## County-level dataset"
   ]
  },
  {
   "cell_type": "code",
   "execution_count": 29,
   "metadata": {},
   "outputs": [
    {
     "name": "stdout",
     "output_type": "stream",
     "text": [
      "99\n"
     ]
    },
    {
     "data": {
      "text/html": [
       "<div>\n",
       "<style>\n",
       "    .dataframe thead tr:only-child th {\n",
       "        text-align: right;\n",
       "    }\n",
       "\n",
       "    .dataframe thead th {\n",
       "        text-align: left;\n",
       "    }\n",
       "\n",
       "    .dataframe tbody tr th {\n",
       "        vertical-align: top;\n",
       "    }\n",
       "</style>\n",
       "<table border=\"1\" class=\"dataframe\">\n",
       "  <thead>\n",
       "    <tr style=\"text-align: right;\">\n",
       "      <th></th>\n",
       "      <th>fips</th>\n",
       "      <th>store_id</th>\n",
       "      <th>metro</th>\n",
       "      <th>unemployment</th>\n",
       "      <th>income</th>\n",
       "      <th>population</th>\n",
       "      <th>annual_profit_per_store</th>\n",
       "      <th>number_of_stores</th>\n",
       "      <th>density</th>\n",
       "    </tr>\n",
       "  </thead>\n",
       "  <tbody>\n",
       "    <tr>\n",
       "      <th>0</th>\n",
       "      <td>19001</td>\n",
       "      <td>4405.375000</td>\n",
       "      <td>8.0</td>\n",
       "      <td>3.0</td>\n",
       "      <td>53416.0</td>\n",
       "      <td>7682.0</td>\n",
       "      <td>20967.800550</td>\n",
       "      <td>8.0</td>\n",
       "      <td>960.250000</td>\n",
       "    </tr>\n",
       "    <tr>\n",
       "      <th>1</th>\n",
       "      <td>19003</td>\n",
       "      <td>2327.000000</td>\n",
       "      <td>9.0</td>\n",
       "      <td>2.7</td>\n",
       "      <td>46939.0</td>\n",
       "      <td>4029.0</td>\n",
       "      <td>39665.440400</td>\n",
       "      <td>1.0</td>\n",
       "      <td>4029.000000</td>\n",
       "    </tr>\n",
       "    <tr>\n",
       "      <th>2</th>\n",
       "      <td>19005</td>\n",
       "      <td>4045.166667</td>\n",
       "      <td>6.0</td>\n",
       "      <td>5.0</td>\n",
       "      <td>49439.0</td>\n",
       "      <td>14330.0</td>\n",
       "      <td>54280.051133</td>\n",
       "      <td>6.0</td>\n",
       "      <td>2388.333333</td>\n",
       "    </tr>\n",
       "    <tr>\n",
       "      <th>3</th>\n",
       "      <td>19007</td>\n",
       "      <td>3928.500000</td>\n",
       "      <td>7.0</td>\n",
       "      <td>4.8</td>\n",
       "      <td>39124.0</td>\n",
       "      <td>12887.0</td>\n",
       "      <td>54955.548033</td>\n",
       "      <td>6.0</td>\n",
       "      <td>2147.833333</td>\n",
       "    </tr>\n",
       "    <tr>\n",
       "      <th>4</th>\n",
       "      <td>19009</td>\n",
       "      <td>4442.333333</td>\n",
       "      <td>8.0</td>\n",
       "      <td>3.3</td>\n",
       "      <td>49560.0</td>\n",
       "      <td>6119.0</td>\n",
       "      <td>22936.910800</td>\n",
       "      <td>3.0</td>\n",
       "      <td>2039.666667</td>\n",
       "    </tr>\n",
       "  </tbody>\n",
       "</table>\n",
       "</div>"
      ],
      "text/plain": [
       "    fips     store_id  metro  unemployment   income  population  \\\n",
       "0  19001  4405.375000    8.0           3.0  53416.0      7682.0   \n",
       "1  19003  2327.000000    9.0           2.7  46939.0      4029.0   \n",
       "2  19005  4045.166667    6.0           5.0  49439.0     14330.0   \n",
       "3  19007  3928.500000    7.0           4.8  39124.0     12887.0   \n",
       "4  19009  4442.333333    8.0           3.3  49560.0      6119.0   \n",
       "\n",
       "   annual_profit_per_store  number_of_stores      density  \n",
       "0             20967.800550               8.0   960.250000  \n",
       "1             39665.440400               1.0  4029.000000  \n",
       "2             54280.051133               6.0  2388.333333  \n",
       "3             54955.548033               6.0  2147.833333  \n",
       "4             22936.910800               3.0  2039.666667  "
      ]
     },
     "execution_count": 29,
     "metadata": {},
     "output_type": "execute_result"
    }
   ],
   "source": [
    "# create a new dataset where every row is a county\n",
    "stores2=stores.drop(['ave_bottle_price', 'ave_number_bottles'], axis=1)\n",
    "counties=stores2.groupby('fips', as_index=False).mean()\n",
    "print(len(counties))\n",
    "counties.head()"
   ]
  },
  {
   "cell_type": "code",
   "execution_count": 30,
   "metadata": {},
   "outputs": [
    {
     "name": "stdout",
     "output_type": "stream",
     "text": [
      "99\n",
      "99\n",
      "99\n"
     ]
    }
   ],
   "source": [
    "# How many counties are there?\n",
    "print(transactions.fips.nunique())\n",
    "print(stores.fips.nunique())\n",
    "print(counties.fips.nunique())"
   ]
  },
  {
   "cell_type": "code",
   "execution_count": 31,
   "metadata": {
    "collapsed": true
   },
   "outputs": [],
   "source": [
    "# Drop Store ID. We no longer need it.\n",
    "counties=counties.drop('store_id', axis=1)"
   ]
  },
  {
   "cell_type": "code",
   "execution_count": 32,
   "metadata": {},
   "outputs": [
    {
     "name": "stdout",
     "output_type": "stream",
     "text": [
      "(99, 8)\n"
     ]
    },
    {
     "data": {
      "text/html": [
       "<div>\n",
       "<style>\n",
       "    .dataframe thead tr:only-child th {\n",
       "        text-align: right;\n",
       "    }\n",
       "\n",
       "    .dataframe thead th {\n",
       "        text-align: left;\n",
       "    }\n",
       "\n",
       "    .dataframe tbody tr th {\n",
       "        vertical-align: top;\n",
       "    }\n",
       "</style>\n",
       "<table border=\"1\" class=\"dataframe\">\n",
       "  <thead>\n",
       "    <tr style=\"text-align: right;\">\n",
       "      <th></th>\n",
       "      <th>fips</th>\n",
       "      <th>metro</th>\n",
       "      <th>unemployment</th>\n",
       "      <th>income</th>\n",
       "      <th>population</th>\n",
       "      <th>annual_profit_per_store</th>\n",
       "      <th>number_of_stores</th>\n",
       "      <th>density</th>\n",
       "    </tr>\n",
       "  </thead>\n",
       "  <tbody>\n",
       "    <tr>\n",
       "      <th>0</th>\n",
       "      <td>19001</td>\n",
       "      <td>8.0</td>\n",
       "      <td>3.0</td>\n",
       "      <td>53416.0</td>\n",
       "      <td>7682.0</td>\n",
       "      <td>20967.800550</td>\n",
       "      <td>8.0</td>\n",
       "      <td>960.250000</td>\n",
       "    </tr>\n",
       "    <tr>\n",
       "      <th>1</th>\n",
       "      <td>19003</td>\n",
       "      <td>9.0</td>\n",
       "      <td>2.7</td>\n",
       "      <td>46939.0</td>\n",
       "      <td>4029.0</td>\n",
       "      <td>39665.440400</td>\n",
       "      <td>1.0</td>\n",
       "      <td>4029.000000</td>\n",
       "    </tr>\n",
       "    <tr>\n",
       "      <th>2</th>\n",
       "      <td>19005</td>\n",
       "      <td>6.0</td>\n",
       "      <td>5.0</td>\n",
       "      <td>49439.0</td>\n",
       "      <td>14330.0</td>\n",
       "      <td>54280.051133</td>\n",
       "      <td>6.0</td>\n",
       "      <td>2388.333333</td>\n",
       "    </tr>\n",
       "    <tr>\n",
       "      <th>3</th>\n",
       "      <td>19007</td>\n",
       "      <td>7.0</td>\n",
       "      <td>4.8</td>\n",
       "      <td>39124.0</td>\n",
       "      <td>12887.0</td>\n",
       "      <td>54955.548033</td>\n",
       "      <td>6.0</td>\n",
       "      <td>2147.833333</td>\n",
       "    </tr>\n",
       "    <tr>\n",
       "      <th>4</th>\n",
       "      <td>19009</td>\n",
       "      <td>8.0</td>\n",
       "      <td>3.3</td>\n",
       "      <td>49560.0</td>\n",
       "      <td>6119.0</td>\n",
       "      <td>22936.910800</td>\n",
       "      <td>3.0</td>\n",
       "      <td>2039.666667</td>\n",
       "    </tr>\n",
       "  </tbody>\n",
       "</table>\n",
       "</div>"
      ],
      "text/plain": [
       "    fips  metro  unemployment   income  population  annual_profit_per_store  \\\n",
       "0  19001    8.0           3.0  53416.0      7682.0             20967.800550   \n",
       "1  19003    9.0           2.7  46939.0      4029.0             39665.440400   \n",
       "2  19005    6.0           5.0  49439.0     14330.0             54280.051133   \n",
       "3  19007    7.0           4.8  39124.0     12887.0             54955.548033   \n",
       "4  19009    8.0           3.3  49560.0      6119.0             22936.910800   \n",
       "\n",
       "   number_of_stores      density  \n",
       "0               8.0   960.250000  \n",
       "1               1.0  4029.000000  \n",
       "2               6.0  2388.333333  \n",
       "3               6.0  2147.833333  \n",
       "4               3.0  2039.666667  "
      ]
     },
     "execution_count": 32,
     "metadata": {},
     "output_type": "execute_result"
    }
   ],
   "source": [
    "# take a look at the counties dataset:\n",
    "print(counties.shape)\n",
    "counties.head()"
   ]
  },
  {
   "cell_type": "code",
   "execution_count": 33,
   "metadata": {},
   "outputs": [
    {
     "data": {
      "text/plain": [
       "Index(['fips', 'metro', 'unemployment', 'income', 'population',\n",
       "       'annual_profit_per_store', 'number_of_stores', 'density'],\n",
       "      dtype='object')"
      ]
     },
     "execution_count": 33,
     "metadata": {},
     "output_type": "execute_result"
    }
   ],
   "source": [
    "# Rename some of the columns\n",
    "counties.columns\n",
    "#new_cols=['store_id', 'fips', 'metro', 'unemployment', 'income', 'population',\n",
    "#       'ave_bottle_price', 'ave_number_bottles', 'annual_profit_per_store']\n",
    "#stores.columns=new_cols"
   ]
  },
  {
   "cell_type": "code",
   "execution_count": 34,
   "metadata": {},
   "outputs": [
    {
     "data": {
      "text/html": [
       "<div>\n",
       "<style>\n",
       "    .dataframe thead tr:only-child th {\n",
       "        text-align: right;\n",
       "    }\n",
       "\n",
       "    .dataframe thead th {\n",
       "        text-align: left;\n",
       "    }\n",
       "\n",
       "    .dataframe tbody tr th {\n",
       "        vertical-align: top;\n",
       "    }\n",
       "</style>\n",
       "<table border=\"1\" class=\"dataframe\">\n",
       "  <thead>\n",
       "    <tr style=\"text-align: right;\">\n",
       "      <th></th>\n",
       "      <th>fips</th>\n",
       "      <th>metro</th>\n",
       "      <th>unemployment</th>\n",
       "      <th>income</th>\n",
       "      <th>population</th>\n",
       "      <th>annual_profit_per_store</th>\n",
       "      <th>number_of_stores</th>\n",
       "      <th>density</th>\n",
       "    </tr>\n",
       "  </thead>\n",
       "  <tbody>\n",
       "    <tr>\n",
       "      <th>0</th>\n",
       "      <td>19001</td>\n",
       "      <td>8.0</td>\n",
       "      <td>3.0</td>\n",
       "      <td>53416.0</td>\n",
       "      <td>7682.0</td>\n",
       "      <td>20967.800550</td>\n",
       "      <td>8.0</td>\n",
       "      <td>960.250000</td>\n",
       "    </tr>\n",
       "    <tr>\n",
       "      <th>1</th>\n",
       "      <td>19003</td>\n",
       "      <td>9.0</td>\n",
       "      <td>2.7</td>\n",
       "      <td>46939.0</td>\n",
       "      <td>4029.0</td>\n",
       "      <td>39665.440400</td>\n",
       "      <td>1.0</td>\n",
       "      <td>4029.000000</td>\n",
       "    </tr>\n",
       "    <tr>\n",
       "      <th>2</th>\n",
       "      <td>19005</td>\n",
       "      <td>6.0</td>\n",
       "      <td>5.0</td>\n",
       "      <td>49439.0</td>\n",
       "      <td>14330.0</td>\n",
       "      <td>54280.051133</td>\n",
       "      <td>6.0</td>\n",
       "      <td>2388.333333</td>\n",
       "    </tr>\n",
       "    <tr>\n",
       "      <th>3</th>\n",
       "      <td>19007</td>\n",
       "      <td>7.0</td>\n",
       "      <td>4.8</td>\n",
       "      <td>39124.0</td>\n",
       "      <td>12887.0</td>\n",
       "      <td>54955.548033</td>\n",
       "      <td>6.0</td>\n",
       "      <td>2147.833333</td>\n",
       "    </tr>\n",
       "    <tr>\n",
       "      <th>4</th>\n",
       "      <td>19009</td>\n",
       "      <td>8.0</td>\n",
       "      <td>3.3</td>\n",
       "      <td>49560.0</td>\n",
       "      <td>6119.0</td>\n",
       "      <td>22936.910800</td>\n",
       "      <td>3.0</td>\n",
       "      <td>2039.666667</td>\n",
       "    </tr>\n",
       "  </tbody>\n",
       "</table>\n",
       "</div>"
      ],
      "text/plain": [
       "    fips  metro  unemployment   income  population  annual_profit_per_store  \\\n",
       "0  19001    8.0           3.0  53416.0      7682.0             20967.800550   \n",
       "1  19003    9.0           2.7  46939.0      4029.0             39665.440400   \n",
       "2  19005    6.0           5.0  49439.0     14330.0             54280.051133   \n",
       "3  19007    7.0           4.8  39124.0     12887.0             54955.548033   \n",
       "4  19009    8.0           3.3  49560.0      6119.0             22936.910800   \n",
       "\n",
       "   number_of_stores      density  \n",
       "0               8.0   960.250000  \n",
       "1               1.0  4029.000000  \n",
       "2               6.0  2388.333333  \n",
       "3               6.0  2147.833333  \n",
       "4               3.0  2039.666667  "
      ]
     },
     "execution_count": 34,
     "metadata": {},
     "output_type": "execute_result"
    }
   ],
   "source": [
    "# Note the following:\n",
    "    # ave_bottle_price = average cost of a bottle at that store (so it distinguishes cheap vs. fancy stores)\n",
    "    # ave_number_bottles = average number of bottles per sale at that store (so it distinguishes hi vs low-selling stores)\n",
    "counties.head()"
   ]
  },
  {
   "cell_type": "code",
   "execution_count": 35,
   "metadata": {},
   "outputs": [
    {
     "data": {
      "text/plain": [
       "<function matplotlib.pyplot.show>"
      ]
     },
     "execution_count": 35,
     "metadata": {},
     "output_type": "execute_result"
    },
    {
     "data": {
      "image/png": "[encoded data removed]",
      "text/plain": [
       "<matplotlib.figure.Figure at 0x1a282de710>"
      ]
     },
     "metadata": {},
     "output_type": "display_data"
    }
   ],
   "source": [
    "# Is there a relationship between nonmetro status and number of stores in a county?\n",
    "x=counties['metro']\n",
    "y=counties['number_of_stores']\n",
    "plt.scatter(x,y)\n",
    "plt.xlabel('<-- metro vs non-metro -->')\n",
    "plt.ylabel('number of stores in county')\n",
    "plt.title('metro counties have more liquor stores')\n",
    "plt.show"
   ]
  },
  {
   "cell_type": "code",
   "execution_count": 36,
   "metadata": {},
   "outputs": [
    {
     "data": {
      "text/html": [
       "<div>\n",
       "<style>\n",
       "    .dataframe thead tr:only-child th {\n",
       "        text-align: right;\n",
       "    }\n",
       "\n",
       "    .dataframe thead th {\n",
       "        text-align: left;\n",
       "    }\n",
       "\n",
       "    .dataframe tbody tr th {\n",
       "        vertical-align: top;\n",
       "    }\n",
       "</style>\n",
       "<table border=\"1\" class=\"dataframe\">\n",
       "  <thead>\n",
       "    <tr style=\"text-align: right;\">\n",
       "      <th></th>\n",
       "      <th>fips</th>\n",
       "      <th>metro</th>\n",
       "      <th>unemployment</th>\n",
       "      <th>income</th>\n",
       "      <th>population</th>\n",
       "      <th>annual_profit_per_store</th>\n",
       "      <th>number_of_stores</th>\n",
       "      <th>density</th>\n",
       "    </tr>\n",
       "  </thead>\n",
       "  <tbody>\n",
       "    <tr>\n",
       "      <th>76</th>\n",
       "      <td>19153</td>\n",
       "      <td>2.0</td>\n",
       "      <td>3.5</td>\n",
       "      <td>64169.0</td>\n",
       "      <td>430640.0</td>\n",
       "      <td>122002.249878</td>\n",
       "      <td>206.0</td>\n",
       "      <td>2090.485437</td>\n",
       "    </tr>\n",
       "  </tbody>\n",
       "</table>\n",
       "</div>"
      ],
      "text/plain": [
       "     fips  metro  unemployment   income  population  annual_profit_per_store  \\\n",
       "76  19153    2.0           3.5  64169.0    430640.0            122002.249878   \n",
       "\n",
       "    number_of_stores      density  \n",
       "76             206.0  2090.485437  "
      ]
     },
     "execution_count": 36,
     "metadata": {},
     "output_type": "execute_result"
    }
   ],
   "source": [
    "# Polk county has over 200 liquor stores.\n",
    "counties[counties['fips']==19153]"
   ]
  },
  {
   "cell_type": "code",
   "execution_count": 38,
   "metadata": {},
   "outputs": [
    {
     "data": {
      "text/plain": [
       "6.0    26\n",
       "7.0    24\n",
       "2.0    12\n",
       "9.0    11\n",
       "3.0     9\n",
       "8.0     9\n",
       "5.0     5\n",
       "4.0     3\n",
       "Name: metro, dtype: int64"
      ]
     },
     "execution_count": 38,
     "metadata": {},
     "output_type": "execute_result"
    }
   ],
   "source": [
    "# What's the distribution of counties by \"metro\"?\n",
    "counties.metro.value_counts()\n",
    "# There are only 5 suburban counties."
   ]
  },
  {
   "cell_type": "code",
   "execution_count": 40,
   "metadata": {},
   "outputs": [
    {
     "data": {
      "text/plain": [
       "16    19033\n",
       "28    19057\n",
       "55    19111\n",
       "89    19179\n",
       "93    19187\n",
       "Name: fips, dtype: int64"
      ]
     },
     "execution_count": 40,
     "metadata": {},
     "output_type": "execute_result"
    }
   ],
   "source": [
    "# What are their fips codes?\n",
    "counties[counties.metro==5].fips"
   ]
  },
  {
   "cell_type": "code",
   "execution_count": 51,
   "metadata": {},
   "outputs": [
    {
     "name": "stdout",
     "output_type": "stream",
     "text": [
      "19033 Cerro Gordo\n",
      "19057 Des Moines\n",
      "19111 Lee\n",
      "19179 Wapello\n",
      "19187 Webster\n"
     ]
    }
   ],
   "source": [
    "# What are their names?\n",
    "for n in [19033, 19057, 19111, 19179, 19187]:\n",
    "    print(n, transactions[transactions['fips']==n].county.max())"
   ]
  },
  {
   "cell_type": "code",
   "execution_count": null,
   "metadata": {
    "collapsed": true
   },
   "outputs": [],
   "source": []
  },
  {
   "cell_type": "markdown",
   "metadata": {},
   "source": [
    "## Save the datasets for use in the next jupyter notebook"
   ]
  },
  {
   "cell_type": "code",
   "execution_count": 37,
   "metadata": {
    "collapsed": true
   },
   "outputs": [],
   "source": [
    "# Save your work to a csv\n",
    "stores.to_csv('/Users/austinlasseter/DSI-EC-2/projects/datasets/iowa_stores.csv')\n",
    "counties.to_csv('/Users/austinlasseter/DSI-EC-2/projects/datasets/iowa_counties.csv')"
   ]
  }
 ],
 "metadata": {
  "anaconda-cloud": {},
  "kernelspec": {
   "display_name": "Python 3",
   "language": "python",
   "name": "python3"
  },
  "language_info": {
   "codemirror_mode": {
    "name": "ipython",
    "version": 3
   },
   "file_extension": ".py",
   "mimetype": "text/x-python",
   "name": "python",
   "nbconvert_exporter": "python",
   "pygments_lexer": "ipython3",
   "version": "3.6.3"
  }
 },
 "nbformat": 4,
 "nbformat_minor": 1
}
