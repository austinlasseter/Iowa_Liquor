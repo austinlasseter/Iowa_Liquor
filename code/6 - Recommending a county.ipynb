{
 "cells": [
  {
   "cell_type": "code",
   "execution_count": 1,
   "metadata": {},
   "outputs": [
    {
     "name": "stderr",
     "output_type": "stream",
     "text": [
      "/Users/austinlasseter/anaconda3/lib/python3.6/site-packages/statsmodels/compat/pandas.py:56: FutureWarning: The pandas.core.datetools module is deprecated and will be removed in a future version. Please use the pandas.tseries module instead.\n",
      "  from pandas.core import datetools\n"
     ]
    }
   ],
   "source": [
    "import sklearn.metrics as metrics\n",
    "import sklearn.linear_model as linear_model\n",
    "from sklearn.linear_model import LinearRegression\n",
    "from sklearn import metrics\n",
    "import numpy as np\n",
    "import statsmodels.api as sm\n",
    "import pandas as pd\n",
    "import seaborn as sns\n",
    "import matplotlib.pyplot as plt\n",
    "%matplotlib inline"
   ]
  },
  {
   "cell_type": "markdown",
   "metadata": {},
   "source": [
    "## The purpose of this notebook is to recommend 3 counties"
   ]
  },
  {
   "cell_type": "code",
   "execution_count": 2,
   "metadata": {
    "collapsed": true
   },
   "outputs": [],
   "source": [
    "## Load the data into a DataFrame\n",
    "stores=pd.read_csv('/Users/austinlasseter/DSI-EC-2/projects/datasets/stores_modeling.csv')\n",
    "stores=stores.drop(['Unnamed: 0'], axis=1)"
   ]
  },
  {
   "cell_type": "code",
   "execution_count": 3,
   "metadata": {
    "collapsed": true
   },
   "outputs": [],
   "source": [
    "# The strategy: limit it to suburban counties, then rank on density, and regress on the top 10.\n",
    "# Urban population of 20,000 or more, not adjacent to a metro area\n",
    "# https://www.ers.usda.gov/data-products/rural-urban-continuum-codes/documentation/"
   ]
  },
  {
   "cell_type": "code",
   "execution_count": 4,
   "metadata": {},
   "outputs": [
    {
     "name": "stdout",
     "output_type": "stream",
     "text": [
      "Index(['store_id', 'fips', 'metro', 'unemployment', 'income', 'population',\n",
      "       'ave_bottle_price', 'ave_number_bottles', 'annual_profit_per_store',\n",
      "       'number_of_stores', 'density', 'unemp_bins', 'income_bins', 'pop_bins',\n",
      "       'nstores_bins', 'density_bins', 'suburbs', 'town', 'rural'],\n",
      "      dtype='object')\n"
     ]
    },
    {
     "data": {
      "text/plain": [
       "(1291, 19)"
      ]
     },
     "execution_count": 4,
     "metadata": {},
     "output_type": "execute_result"
    }
   ],
   "source": [
    "print(stores.columns)\n",
    "stores.shape"
   ]
  },
  {
   "cell_type": "markdown",
   "metadata": {},
   "source": [
    "## Explore the 5 suburban counties"
   ]
  },
  {
   "cell_type": "code",
   "execution_count": 5,
   "metadata": {},
   "outputs": [
    {
     "data": {
      "text/plain": [
       "2.0    453\n",
       "3.0    246\n",
       "6.0    192\n",
       "7.0    170\n",
       "5.0     88\n",
       "8.0     52\n",
       "4.0     49\n",
       "9.0     41\n",
       "Name: metro, dtype: int64"
      ]
     },
     "execution_count": 5,
     "metadata": {},
     "output_type": "execute_result"
    }
   ],
   "source": [
    "# How many stores are there in the 5 suburban counties? Just 88.\n",
    "stores.metro.value_counts()"
   ]
  },
  {
   "cell_type": "code",
   "execution_count": 6,
   "metadata": {},
   "outputs": [
    {
     "data": {
      "text/plain": [
       "(88, 19)"
      ]
     },
     "execution_count": 6,
     "metadata": {},
     "output_type": "execute_result"
    }
   ],
   "source": [
    "# Confirm that our new dataset only has 88 stores in it.\n",
    "suburbs=stores[stores['suburbs']==1]\n",
    "suburbs.shape"
   ]
  },
  {
   "cell_type": "code",
   "execution_count": 7,
   "metadata": {},
   "outputs": [
    {
     "data": {
      "text/plain": [
       "19057    20\n",
       "19187    19\n",
       "19033    19\n",
       "19111    16\n",
       "19179    14\n",
       "Name: fips, dtype: int64"
      ]
     },
     "execution_count": 7,
     "metadata": {},
     "output_type": "execute_result"
    }
   ],
   "source": [
    "# What are the fips codes of these 5 counties?\n",
    "stores[stores.metro==5].fips.value_counts()"
   ]
  },
  {
   "cell_type": "code",
   "execution_count": 8,
   "metadata": {},
   "outputs": [
    {
     "name": "stdout",
     "output_type": "stream",
     "text": [
      "48249.49529961269\n",
      "19033 93602.73237894736\n",
      "19057 47770.31228999996\n",
      "19111 64065.429512500006\n",
      "19179 77392.45350000013\n",
      "19187 41929.80885263157\n"
     ]
    }
   ],
   "source": [
    "# What's their average annual profit, and how does it compare to the average of all stores in non-suburb counties?\n",
    "print(stores[stores.suburbs!=5].annual_profit_per_store.mean())\n",
    "for n in [19033, 19057, 19111, 19179, 19187]:\n",
    "    print(n, suburbs[suburbs['fips']==n].annual_profit_per_store.mean())\n",
    "    # 3 have a higher average profit, 2 are slightly lower."
   ]
  },
  {
   "cell_type": "code",
   "execution_count": 9,
   "metadata": {
    "collapsed": true
   },
   "outputs": [],
   "source": [
    "# Based just on this information alone, I'd rank the counties as follows:\n",
    "\n",
    "# 19033 Cerro Gordo: $93,602\n",
    "# 19179 Wapello: $77,392\n",
    "# 19111 Lee: $64,065\n",
    "# 19057 Des Moines: $47,770\n",
    "# 19187 Webster: $41,929"
   ]
  },
  {
   "cell_type": "code",
   "execution_count": 10,
   "metadata": {},
   "outputs": [
    {
     "name": "stdout",
     "output_type": "stream",
     "text": [
      "fips\n",
      "19033    2207.550000\n",
      "19057    1920.238095\n",
      "19111    2109.529412\n",
      "19179    2544.642857\n",
      "19187    1900.650000\n",
      "Name: density, dtype: float64\n"
     ]
    },
    {
     "data": {
      "text/plain": [
       "[1900.6500000000008,\n",
       " 1920.2380952380954,\n",
       " 2109.5294117647063,\n",
       " 2207.5500000000002,\n",
       " 2544.642857142856]"
      ]
     },
     "execution_count": 10,
     "metadata": {},
     "output_type": "execute_result"
    }
   ],
   "source": [
    "# Rank the 5 counties based on density of people per store.\n",
    "x=suburbs.groupby('fips').density.mean()\n",
    "print(x)\n",
    "sorted(x)\n",
    "# Based on this information, I'd predict that 19179 (Wapello) is the best place to put a new store\n",
    "# followed by 19033 (Cerro Gordo)\n",
    "# and 19187 (Webster) is the worst. Let's test that."
   ]
  },
  {
   "cell_type": "markdown",
   "metadata": {},
   "source": [
    "## Regression Model on the 5 suburban counties"
   ]
  },
  {
   "cell_type": "code",
   "execution_count": 11,
   "metadata": {
    "collapsed": true
   },
   "outputs": [],
   "source": [
    "# Dummify the 5 fips codes\n",
    "suburbs = pd.concat([suburbs, pd.get_dummies(suburbs['fips'])], axis = 1);"
   ]
  },
  {
   "cell_type": "code",
   "execution_count": 12,
   "metadata": {},
   "outputs": [
    {
     "data": {
      "text/plain": [
       "Index([               'store_id',                    'fips',\n",
       "                         'metro',            'unemployment',\n",
       "                        'income',              'population',\n",
       "              'ave_bottle_price',      'ave_number_bottles',\n",
       "       'annual_profit_per_store',        'number_of_stores',\n",
       "                       'density',              'unemp_bins',\n",
       "                   'income_bins',                'pop_bins',\n",
       "                  'nstores_bins',            'density_bins',\n",
       "                       'suburbs',                    'town',\n",
       "                         'rural',                     19033,\n",
       "                           19057,                     19111,\n",
       "                           19179,                     19187],\n",
       "      dtype='object')"
      ]
     },
     "execution_count": 12,
     "metadata": {},
     "output_type": "execute_result"
    }
   ],
   "source": [
    "suburbs.columns"
   ]
  },
  {
   "cell_type": "code",
   "execution_count": 13,
   "metadata": {},
   "outputs": [
    {
     "data": {
      "text/html": [
       "<table class=\"simpletable\">\n",
       "<caption>OLS Regression Results</caption>\n",
       "<tr>\n",
       "  <th>Dep. Variable:</th>    <td>annual_profit_per_store</td> <th>  R-squared:         </th> <td>   0.223</td>\n",
       "</tr>\n",
       "<tr>\n",
       "  <th>Model:</th>                      <td>OLS</td>           <th>  Adj. R-squared:    </th> <td>   0.165</td>\n",
       "</tr>\n",
       "<tr>\n",
       "  <th>Method:</th>                <td>Least Squares</td>      <th>  F-statistic:       </th> <td>   3.867</td>\n",
       "</tr>\n",
       "<tr>\n",
       "  <th>Date:</th>                <td>Fri, 09 Feb 2018</td>     <th>  Prob (F-statistic):</th>  <td>0.00192</td>\n",
       "</tr>\n",
       "<tr>\n",
       "  <th>Time:</th>                    <td>06:47:52</td>         <th>  Log-Likelihood:    </th> <td> -1102.5</td>\n",
       "</tr>\n",
       "<tr>\n",
       "  <th>No. Observations:</th>         <td>    88</td>          <th>  AIC:               </th> <td>   2219.</td>\n",
       "</tr>\n",
       "<tr>\n",
       "  <th>Df Residuals:</th>             <td>    81</td>          <th>  BIC:               </th> <td>   2236.</td>\n",
       "</tr>\n",
       "<tr>\n",
       "  <th>Df Model:</th>                 <td>     6</td>          <th>                     </th>     <td> </td>   \n",
       "</tr>\n",
       "<tr>\n",
       "  <th>Covariance Type:</th>         <td>nonrobust</td>        <th>                     </th>     <td> </td>   \n",
       "</tr>\n",
       "</table>\n",
       "<table class=\"simpletable\">\n",
       "<tr>\n",
       "           <td></td>             <th>coef</th>     <th>std err</th>      <th>t</th>      <th>P>|t|</th>  <th>[0.025</th>    <th>0.975]</th>  \n",
       "</tr>\n",
       "<tr>\n",
       "  <th>const</th>              <td>-3.938e+04</td> <td> 1.43e+04</td> <td>   -2.754</td> <td> 0.007</td> <td>-6.78e+04</td> <td>-1.09e+04</td>\n",
       "</tr>\n",
       "<tr>\n",
       "  <th>ave_bottle_price</th>   <td> 1.275e+04</td> <td> 3182.472</td> <td>    4.007</td> <td> 0.000</td> <td> 6418.710</td> <td> 1.91e+04</td>\n",
       "</tr>\n",
       "<tr>\n",
       "  <th>ave_number_bottles</th> <td>  912.2247</td> <td> 1882.386</td> <td>    0.485</td> <td> 0.629</td> <td>-2833.133</td> <td> 4657.582</td>\n",
       "</tr>\n",
       "<tr>\n",
       "  <th>density</th>            <td>  -53.2624</td> <td>   23.567</td> <td>   -2.260</td> <td> 0.027</td> <td> -100.153</td> <td>   -6.372</td>\n",
       "</tr>\n",
       "<tr>\n",
       "  <th>19033</th>              <td> 6.582e+04</td> <td>  2.4e+04</td> <td>    2.743</td> <td> 0.007</td> <td> 1.81e+04</td> <td> 1.14e+05</td>\n",
       "</tr>\n",
       "<tr>\n",
       "  <th>19057</th>              <td> 1.695e+04</td> <td> 2.25e+04</td> <td>    0.752</td> <td> 0.454</td> <td>-2.79e+04</td> <td> 6.18e+04</td>\n",
       "</tr>\n",
       "<tr>\n",
       "  <th>19111</th>              <td> 3.912e+04</td> <td> 2.46e+04</td> <td>    1.592</td> <td> 0.115</td> <td>-9769.273</td> <td>  8.8e+04</td>\n",
       "</tr>\n",
       "<tr>\n",
       "  <th>19179</th>              <td> 7.165e+04</td> <td> 2.94e+04</td> <td>    2.441</td> <td> 0.017</td> <td> 1.33e+04</td> <td>  1.3e+05</td>\n",
       "</tr>\n",
       "</table>\n",
       "<table class=\"simpletable\">\n",
       "<tr>\n",
       "  <th>Omnibus:</th>       <td>14.535</td> <th>  Durbin-Watson:     </th> <td>   1.746</td>\n",
       "</tr>\n",
       "<tr>\n",
       "  <th>Prob(Omnibus):</th> <td> 0.001</td> <th>  Jarque-Bera (JB):  </th> <td>  16.039</td>\n",
       "</tr>\n",
       "<tr>\n",
       "  <th>Skew:</th>          <td> 0.995</td> <th>  Prob(JB):          </th> <td>0.000329</td>\n",
       "</tr>\n",
       "<tr>\n",
       "  <th>Kurtosis:</th>      <td> 3.645</td> <th>  Cond. No.          </th> <td>8.35e+18</td>\n",
       "</tr>\n",
       "</table>"
      ],
      "text/plain": [
       "<class 'statsmodels.iolib.summary.Summary'>\n",
       "\"\"\"\n",
       "                               OLS Regression Results                              \n",
       "===================================================================================\n",
       "Dep. Variable:     annual_profit_per_store   R-squared:                       0.223\n",
       "Model:                                 OLS   Adj. R-squared:                  0.165\n",
       "Method:                      Least Squares   F-statistic:                     3.867\n",
       "Date:                     Fri, 09 Feb 2018   Prob (F-statistic):            0.00192\n",
       "Time:                             06:47:52   Log-Likelihood:                -1102.5\n",
       "No. Observations:                       88   AIC:                             2219.\n",
       "Df Residuals:                           81   BIC:                             2236.\n",
       "Df Model:                                6                                         \n",
       "Covariance Type:                 nonrobust                                         \n",
       "======================================================================================\n",
       "                         coef    std err          t      P>|t|      [0.025      0.975]\n",
       "--------------------------------------------------------------------------------------\n",
       "const              -3.938e+04   1.43e+04     -2.754      0.007   -6.78e+04   -1.09e+04\n",
       "ave_bottle_price    1.275e+04   3182.472      4.007      0.000    6418.710    1.91e+04\n",
       "ave_number_bottles   912.2247   1882.386      0.485      0.629   -2833.133    4657.582\n",
       "density              -53.2624     23.567     -2.260      0.027    -100.153      -6.372\n",
       "19033               6.582e+04    2.4e+04      2.743      0.007    1.81e+04    1.14e+05\n",
       "19057               1.695e+04   2.25e+04      0.752      0.454   -2.79e+04    6.18e+04\n",
       "19111               3.912e+04   2.46e+04      1.592      0.115   -9769.273     8.8e+04\n",
       "19179               7.165e+04   2.94e+04      2.441      0.017    1.33e+04     1.3e+05\n",
       "==============================================================================\n",
       "Omnibus:                       14.535   Durbin-Watson:                   1.746\n",
       "Prob(Omnibus):                  0.001   Jarque-Bera (JB):               16.039\n",
       "Skew:                           0.995   Prob(JB):                     0.000329\n",
       "Kurtosis:                       3.645   Cond. No.                     8.35e+18\n",
       "==============================================================================\n",
       "\n",
       "Warnings:\n",
       "[1] Standard Errors assume that the covariance matrix of the errors is correctly specified.\n",
       "[2] The smallest eigenvalue is 5.69e-30. This might indicate that there are\n",
       "strong multicollinearity problems or that the design matrix is singular.\n",
       "\"\"\""
      ]
     },
     "execution_count": 13,
     "metadata": {},
     "output_type": "execute_result"
    }
   ],
   "source": [
    "# regression model # 7c\n",
    "dep = suburbs['annual_profit_per_store'] # This is the outcome I want to predict\n",
    "indep = suburbs.drop([               'store_id',                    'fips',\n",
    "                         'metro',            'unemployment',\n",
    "                        'income',              'population',\n",
    "              \n",
    "       'annual_profit_per_store',        'number_of_stores',\n",
    "                                               'unemp_bins',\n",
    "                   'income_bins',                'pop_bins',\n",
    "                  'nstores_bins',            'density_bins',\n",
    "                       'suburbs',                    'town',\n",
    "                         'rural',                    19187],\n",
    "                    axis = 'columns') # These are the features that predict it\n",
    "indep = sm.add_constant(indep) # Add the intercept\n",
    "model = sm.OLS(dep,indep) # Instantiate the model\n",
    "results = model.fit() # Fit the model\n",
    "results.summary() # Summarize the results"
   ]
  },
  {
   "cell_type": "code",
   "execution_count": 14,
   "metadata": {
    "collapsed": true
   },
   "outputs": [],
   "source": [
    "# Based on these results, and in comparison to Webster county, \n",
    "# we conclude that annual per-store profit will increase in each county by the following amounts:\n",
    "# 19179 Wapello: $71,650\n",
    "# 19033 Cerro Gordo: $65,820\n",
    "# 19057 Des Moines: No sig difference\n",
    "# 19111 Lee: No sig difference"
   ]
  },
  {
   "cell_type": "code",
   "execution_count": 15,
   "metadata": {
    "collapsed": true
   },
   "outputs": [],
   "source": [
    "# Also, the R-squared is actually not so bad: 22%"
   ]
  },
  {
   "cell_type": "markdown",
   "metadata": {},
   "source": [
    "## What about in comparison to the state as a whole?"
   ]
  },
  {
   "cell_type": "code",
   "execution_count": 16,
   "metadata": {},
   "outputs": [
    {
     "data": {
      "text/plain": [
       "Index(['store_id', 'fips', 'metro', 'unemployment', 'income', 'population',\n",
       "       'ave_bottle_price', 'ave_number_bottles', 'annual_profit_per_store',\n",
       "       'number_of_stores', 'density', 'unemp_bins', 'income_bins', 'pop_bins',\n",
       "       'nstores_bins', 'density_bins', 'suburbs', 'town', 'rural', 'Wapello',\n",
       "       'Cerro Gordo', 'Des Moines', 'Lee', 'Webster'],\n",
       "      dtype='object')"
      ]
     },
     "execution_count": 16,
     "metadata": {},
     "output_type": "execute_result"
    }
   ],
   "source": [
    "# Let's convert each of the 5 counties to dummy variables\n",
    "stores = pd.concat([stores, pd.get_dummies(stores['fips']==19179)], axis = 1);\n",
    "stores.rename(columns = {True: 'Wapello'}, inplace=True)\n",
    "stores = pd.concat([stores, pd.get_dummies(stores['fips']==19033)], axis = 1);\n",
    "stores.rename(columns = {True: 'Cerro Gordo'}, inplace=True)\n",
    "stores = pd.concat([stores, pd.get_dummies(stores['fips']==19057)], axis = 1);\n",
    "stores.rename(columns = {True: 'Des Moines'}, inplace=True)\n",
    "stores = pd.concat([stores, pd.get_dummies(stores['fips']==19111 )], axis = 1);\n",
    "stores.rename(columns = {True: 'Lee'}, inplace=True)\n",
    "stores = pd.concat([stores, pd.get_dummies(stores['fips']==19187 )], axis = 1);\n",
    "stores.rename(columns = {True: 'Webster'}, inplace=True)\n",
    "stores.drop([False], axis=1, inplace=True)\n",
    "stores.columns"
   ]
  },
  {
   "cell_type": "code",
   "execution_count": 17,
   "metadata": {},
   "outputs": [
    {
     "data": {
      "text/plain": [
       "Index(['store_id', 'fips', 'metro', 'unemployment', 'income', 'population',\n",
       "       'ave_bottle_price', 'ave_number_bottles', 'annual_profit_per_store',\n",
       "       'number_of_stores', 'density', 'unemp_bins', 'income_bins', 'pop_bins',\n",
       "       'nstores_bins', 'density_bins', 'suburbs', 'town', 'rural', 'Wapello',\n",
       "       'Cerro Gordo', 'Des Moines', 'Lee', 'Webster'],\n",
       "      dtype='object')"
      ]
     },
     "execution_count": 17,
     "metadata": {},
     "output_type": "execute_result"
    }
   ],
   "source": [
    "stores.columns"
   ]
  },
  {
   "cell_type": "code",
   "execution_count": 31,
   "metadata": {},
   "outputs": [
    {
     "data": {
      "text/html": [
       "<table class=\"simpletable\">\n",
       "<caption>OLS Regression Results</caption>\n",
       "<tr>\n",
       "  <th>Dep. Variable:</th>    <td>annual_profit_per_store</td> <th>  R-squared:         </th> <td>   0.134</td> \n",
       "</tr>\n",
       "<tr>\n",
       "  <th>Model:</th>                      <td>OLS</td>           <th>  Adj. R-squared:    </th> <td>   0.129</td> \n",
       "</tr>\n",
       "<tr>\n",
       "  <th>Method:</th>                <td>Least Squares</td>      <th>  F-statistic:       </th> <td>   28.37</td> \n",
       "</tr>\n",
       "<tr>\n",
       "  <th>Date:</th>                <td>Fri, 09 Feb 2018</td>     <th>  Prob (F-statistic):</th> <td>1.73e-36</td> \n",
       "</tr>\n",
       "<tr>\n",
       "  <th>Time:</th>                    <td>06:53:30</td>         <th>  Log-Likelihood:    </th> <td> -15863.</td> \n",
       "</tr>\n",
       "<tr>\n",
       "  <th>No. Observations:</th>         <td>  1291</td>          <th>  AIC:               </th> <td>3.174e+04</td>\n",
       "</tr>\n",
       "<tr>\n",
       "  <th>Df Residuals:</th>             <td>  1283</td>          <th>  BIC:               </th> <td>3.178e+04</td>\n",
       "</tr>\n",
       "<tr>\n",
       "  <th>Df Model:</th>                 <td>     7</td>          <th>                     </th>     <td> </td>    \n",
       "</tr>\n",
       "<tr>\n",
       "  <th>Covariance Type:</th>         <td>nonrobust</td>        <th>                     </th>     <td> </td>    \n",
       "</tr>\n",
       "</table>\n",
       "<table class=\"simpletable\">\n",
       "<tr>\n",
       "           <td></td>             <th>coef</th>     <th>std err</th>      <th>t</th>      <th>P>|t|</th>  <th>[0.025</th>    <th>0.975]</th>  \n",
       "</tr>\n",
       "<tr>\n",
       "  <th>const</th>              <td>-6.559e+04</td> <td> 8949.819</td> <td>   -7.329</td> <td> 0.000</td> <td>-8.31e+04</td> <td> -4.8e+04</td>\n",
       "</tr>\n",
       "<tr>\n",
       "  <th>ave_bottle_price</th>   <td> 7681.5179</td> <td>  577.174</td> <td>   13.309</td> <td> 0.000</td> <td> 6549.210</td> <td> 8813.826</td>\n",
       "</tr>\n",
       "<tr>\n",
       "  <th>ave_number_bottles</th> <td>  949.0051</td> <td>  315.785</td> <td>    3.005</td> <td> 0.003</td> <td>  329.494</td> <td> 1568.516</td>\n",
       "</tr>\n",
       "<tr>\n",
       "  <th>Wapello</th>            <td> 3.043e+04</td> <td> 1.42e+04</td> <td>    2.150</td> <td> 0.032</td> <td> 2660.774</td> <td> 5.82e+04</td>\n",
       "</tr>\n",
       "<tr>\n",
       "  <th>Cerro Gordo</th>        <td> 4.394e+04</td> <td> 1.22e+04</td> <td>    3.608</td> <td> 0.000</td> <td> 2.01e+04</td> <td> 6.78e+04</td>\n",
       "</tr>\n",
       "<tr>\n",
       "  <th>Des Moines</th>         <td> 5149.7776</td> <td> 1.19e+04</td> <td>    0.433</td> <td> 0.665</td> <td>-1.82e+04</td> <td> 2.85e+04</td>\n",
       "</tr>\n",
       "<tr>\n",
       "  <th>Lee</th>                <td> 1.863e+04</td> <td> 1.33e+04</td> <td>    1.405</td> <td> 0.160</td> <td>-7388.381</td> <td> 4.46e+04</td>\n",
       "</tr>\n",
       "<tr>\n",
       "  <th>Webster</th>            <td>-6562.5395</td> <td> 1.22e+04</td> <td>   -0.539</td> <td> 0.590</td> <td>-3.05e+04</td> <td> 1.73e+04</td>\n",
       "</tr>\n",
       "</table>\n",
       "<table class=\"simpletable\">\n",
       "<tr>\n",
       "  <th>Omnibus:</th>       <td>448.922</td> <th>  Durbin-Watson:     </th> <td>   1.580</td>\n",
       "</tr>\n",
       "<tr>\n",
       "  <th>Prob(Omnibus):</th> <td> 0.000</td>  <th>  Jarque-Bera (JB):  </th> <td>1460.666</td>\n",
       "</tr>\n",
       "<tr>\n",
       "  <th>Skew:</th>          <td> 1.732</td>  <th>  Prob(JB):          </th> <td>    0.00</td>\n",
       "</tr>\n",
       "<tr>\n",
       "  <th>Kurtosis:</th>      <td> 6.893</td>  <th>  Cond. No.          </th> <td>    165.</td>\n",
       "</tr>\n",
       "</table>"
      ],
      "text/plain": [
       "<class 'statsmodels.iolib.summary.Summary'>\n",
       "\"\"\"\n",
       "                               OLS Regression Results                              \n",
       "===================================================================================\n",
       "Dep. Variable:     annual_profit_per_store   R-squared:                       0.134\n",
       "Model:                                 OLS   Adj. R-squared:                  0.129\n",
       "Method:                      Least Squares   F-statistic:                     28.37\n",
       "Date:                     Fri, 09 Feb 2018   Prob (F-statistic):           1.73e-36\n",
       "Time:                             06:53:30   Log-Likelihood:                -15863.\n",
       "No. Observations:                     1291   AIC:                         3.174e+04\n",
       "Df Residuals:                         1283   BIC:                         3.178e+04\n",
       "Df Model:                                7                                         \n",
       "Covariance Type:                 nonrobust                                         \n",
       "======================================================================================\n",
       "                         coef    std err          t      P>|t|      [0.025      0.975]\n",
       "--------------------------------------------------------------------------------------\n",
       "const              -6.559e+04   8949.819     -7.329      0.000   -8.31e+04    -4.8e+04\n",
       "ave_bottle_price    7681.5179    577.174     13.309      0.000    6549.210    8813.826\n",
       "ave_number_bottles   949.0051    315.785      3.005      0.003     329.494    1568.516\n",
       "Wapello             3.043e+04   1.42e+04      2.150      0.032    2660.774    5.82e+04\n",
       "Cerro Gordo         4.394e+04   1.22e+04      3.608      0.000    2.01e+04    6.78e+04\n",
       "Des Moines          5149.7776   1.19e+04      0.433      0.665   -1.82e+04    2.85e+04\n",
       "Lee                 1.863e+04   1.33e+04      1.405      0.160   -7388.381    4.46e+04\n",
       "Webster            -6562.5395   1.22e+04     -0.539      0.590   -3.05e+04    1.73e+04\n",
       "==============================================================================\n",
       "Omnibus:                      448.922   Durbin-Watson:                   1.580\n",
       "Prob(Omnibus):                  0.000   Jarque-Bera (JB):             1460.666\n",
       "Skew:                           1.732   Prob(JB):                         0.00\n",
       "Kurtosis:                       6.893   Cond. No.                         165.\n",
       "==============================================================================\n",
       "\n",
       "Warnings:\n",
       "[1] Standard Errors assume that the covariance matrix of the errors is correctly specified.\n",
       "\"\"\""
      ]
     },
     "execution_count": 31,
     "metadata": {},
     "output_type": "execute_result"
    }
   ],
   "source": [
    "# regression model # 7c\n",
    "dep = stores['annual_profit_per_store'] # This is the outcome I want to predict\n",
    "indep = stores.drop(['store_id', 'fips', 'metro', 'unemployment', 'income', 'population',\n",
    "      'annual_profit_per_store',\n",
    "       'number_of_stores', 'density', 'unemp_bins', 'income_bins', 'pop_bins',\n",
    "       'nstores_bins', 'density_bins', 'suburbs', 'town', 'rural'],\n",
    "                    axis = 'columns') # These are the features that predict it\n",
    "indep = sm.add_constant(indep) # Add the intercept\n",
    "model = sm.OLS(dep,indep) # Instantiate the model\n",
    "results = model.fit() # Fit the model\n",
    "results.summary() # Summarize the results"
   ]
  },
  {
   "cell_type": "markdown",
   "metadata": {},
   "source": [
    "## Conclusion: Build your store in Wapello or Cerro Gordo county."
   ]
  },
  {
   "cell_type": "code",
   "execution_count": null,
   "metadata": {
    "collapsed": true
   },
   "outputs": [],
   "source": []
  }
 ],
 "metadata": {
  "kernelspec": {
   "display_name": "Python 3",
   "language": "python",
   "name": "python3"
  },
  "language_info": {
   "codemirror_mode": {
    "name": "ipython",
    "version": 3
   },
   "file_extension": ".py",
   "mimetype": "text/x-python",
   "name": "python",
   "nbconvert_exporter": "python",
   "pygments_lexer": "ipython3",
   "version": "3.6.3"
  }
 },
 "nbformat": 4,
 "nbformat_minor": 2
}
